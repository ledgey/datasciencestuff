{
 "cells": [
  {
   "cell_type": "code",
   "execution_count": 4,
   "metadata": {},
   "outputs": [],
   "source": [
    "import yfinance as yf\n",
    "import pandas as pd\n",
    "\n",
    "import matplotlib.pyplot as plt\n",
    "import numpy as np\n",
    "import seaborn as sns\n",
    "import random\n",
    "import os\n",
    "import time\n",
    "\n",
    "os.environ[\"KERAS_BACKEND\"] = \"plaidml.keras.backend\"\n",
    "\n",
    "## from keras.models import Sequential, Model\n",
    "from tensorflow.keras.layers import Dense, RepeatVector,TimeDistributed, Input, Concatenate\n",
    "from tensorflow.keras.layers import LSTM, concatenate, Conv1D, Dropout, MaxPooling1D,Flatten\n",
    "from tensorflow.keras.models import Sequential\n",
    "from sklearn.preprocessing import MinMaxScaler\n",
    "from sklearn.metrics import mean_squared_error\n",
    "\n"
   ]
  },
  {
   "cell_type": "code",
   "execution_count": 5,
   "metadata": {},
   "outputs": [],
   "source": [
    "import pickle\n",
    "import numpy as np\n",
    "with open('training.pkl', 'rb') as f:\n",
    "    trainDict = pickle.load(f)\n",
    "from sklearn.model_selection import train_test_split\n",
    "X = np.array(trainDict['x']).astype(np.float32)\n",
    "Y = np.array(trainDict['y']).astype(np.float32)\n",
    "\n",
    "X_train, X_test, Y_train, Y_test = train_test_split(X.reshape(X.shape[0], X.shape[1], X.shape[2]), Y, test_size=0.2)\n"
   ]
  },
  {
   "cell_type": "code",
   "execution_count": 7,
   "metadata": {
    "scrolled": false
   },
   "outputs": [
    {
     "name": "stdout",
     "output_type": "stream",
     "text": [
      "Train on 130371 samples, validate on 32593 samples\n",
      "Epoch 1/50\n",
      "130371/130371 [==============================] - 227s 2ms/sample - loss: 0.7097 - val_loss: 0.6185\n",
      "Epoch 2/50\n",
      "130371/130371 [==============================] - 226s 2ms/sample - loss: 0.6287 - val_loss: 0.5985\n",
      "Epoch 3/50\n",
      "130371/130371 [==============================] - 219s 2ms/sample - loss: 0.6126 - val_loss: 0.5919\n",
      "Epoch 4/50\n",
      "130371/130371 [==============================] - 222s 2ms/sample - loss: 0.6056 - val_loss: 0.5899\n",
      "Epoch 5/50\n",
      "130371/130371 [==============================] - 224s 2ms/sample - loss: 0.6002 - val_loss: 0.5902\n",
      "Epoch 6/50\n",
      "130371/130371 [==============================] - 225s 2ms/sample - loss: 0.5982 - val_loss: 0.5844\n",
      "Epoch 7/50\n",
      "130371/130371 [==============================] - 218s 2ms/sample - loss: 0.5949 - val_loss: 0.5831\n",
      "Epoch 8/50\n",
      "130371/130371 [==============================] - 224s 2ms/sample - loss: 0.5916 - val_loss: 0.5862\n",
      "Epoch 9/50\n",
      "130371/130371 [==============================] - 217s 2ms/sample - loss: 0.5885 - val_loss: 0.5936\n",
      "Epoch 10/50\n",
      "130371/130371 [==============================] - 216s 2ms/sample - loss: 0.5862 - val_loss: 0.5955\n",
      "Epoch 11/50\n",
      "130371/130371 [==============================] - 216s 2ms/sample - loss: 0.5832 - val_loss: 0.5942\n",
      "Epoch 12/50\n",
      "130371/130371 [==============================] - 2551s 20ms/sample - loss: 0.5820 - val_loss: 0.5952\n",
      "Epoch 13/50\n",
      "130371/130371 [==============================] - 460s 4ms/sample - loss: 0.5803 - val_loss: 0.6045\n",
      "Epoch 14/50\n",
      "130371/130371 [==============================] - 7647s 59ms/sample - loss: 0.5790 - val_loss: 0.6100\n",
      "Epoch 15/50\n",
      "130371/130371 [==============================] - 469s 4ms/sample - loss: 0.5780 - val_loss: 0.6112\n",
      "Epoch 16/50\n",
      "130371/130371 [==============================] - 5308s 41ms/sample - loss: 0.5773 - val_loss: 0.6070\n",
      "Epoch 17/50\n",
      "130371/130371 [==============================] - 463s 4ms/sample - loss: 0.5765 - val_loss: 0.6079\n",
      "Epoch 18/50\n",
      "130371/130371 [==============================] - 11825s 91ms/sample - loss: 0.5749 - val_loss: 0.6077\n",
      "Epoch 19/50\n",
      "130371/130371 [==============================] - 450s 3ms/sample - loss: 0.5741 - val_loss: 0.6228\n",
      "Epoch 20/50\n",
      "130371/130371 [==============================] - 477s 4ms/sample - loss: 0.5736 - val_loss: 0.6155\n",
      "Epoch 21/50\n",
      "130371/130371 [==============================] - 10533s 81ms/sample - loss: 0.5730 - val_loss: 0.6195\n",
      "Epoch 22/50\n",
      "130371/130371 [==============================] - 464s 4ms/sample - loss: 0.5716 - val_loss: 0.6062\n",
      "Epoch 23/50\n",
      "130371/130371 [==============================] - 1760s 13ms/sample - loss: 0.5721 - val_loss: 0.6057\n",
      "Epoch 24/50\n",
      "130371/130371 [==============================] - 219s 2ms/sample - loss: 0.5703 - val_loss: 0.6084\n",
      "Epoch 25/50\n",
      "130371/130371 [==============================] - 220s 2ms/sample - loss: 0.5699 - val_loss: 0.6084\n",
      "Epoch 26/50\n",
      "130371/130371 [==============================] - 226s 2ms/sample - loss: 0.5696 - val_loss: 0.6140\n",
      "Epoch 27/50\n",
      "130371/130371 [==============================] - 222s 2ms/sample - loss: 0.5688 - val_loss: 0.6139\n",
      "Epoch 28/50\n",
      "130371/130371 [==============================] - 247s 2ms/sample - loss: 0.5679 - val_loss: 0.6087\n",
      "Epoch 29/50\n",
      "130371/130371 [==============================] - 220s 2ms/sample - loss: 0.5674 - val_loss: 0.6107\n",
      "Epoch 30/50\n",
      "130371/130371 [==============================] - 218s 2ms/sample - loss: 0.5662 - val_loss: 0.6007\n",
      "Epoch 31/50\n",
      "130371/130371 [==============================] - 220s 2ms/sample - loss: 0.5657 - val_loss: 0.6087\n",
      "Epoch 32/50\n",
      "130371/130371 [==============================] - 224s 2ms/sample - loss: 0.5654 - val_loss: 0.6117\n",
      "Epoch 33/50\n",
      "130371/130371 [==============================] - 221s 2ms/sample - loss: 0.5648 - val_loss: 0.6174\n",
      "Epoch 34/50\n",
      "130371/130371 [==============================] - 219s 2ms/sample - loss: 0.5641 - val_loss: 0.6191\n",
      "Epoch 35/50\n",
      "130371/130371 [==============================] - 219s 2ms/sample - loss: 0.5646 - val_loss: 0.5993\n",
      "Epoch 36/50\n",
      "130371/130371 [==============================] - 221s 2ms/sample - loss: 0.5638 - val_loss: 0.6159\n",
      "Epoch 37/50\n",
      "130371/130371 [==============================] - 219s 2ms/sample - loss: 0.5634 - val_loss: 0.6139\n",
      "Epoch 38/50\n",
      "130371/130371 [==============================] - 222s 2ms/sample - loss: 0.5628 - val_loss: 0.6147\n",
      "Epoch 39/50\n",
      "130371/130371 [==============================] - 222s 2ms/sample - loss: 0.5618 - val_loss: 0.6276\n",
      "Epoch 40/50\n",
      "130371/130371 [==============================] - 225s 2ms/sample - loss: 0.5617 - val_loss: 0.6158\n",
      "Epoch 41/50\n",
      "130371/130371 [==============================] - 224s 2ms/sample - loss: 0.5613 - val_loss: 0.6187\n",
      "Epoch 42/50\n",
      "130371/130371 [==============================] - 220s 2ms/sample - loss: 0.5615 - val_loss: 0.6251\n",
      "Epoch 43/50\n",
      "130371/130371 [==============================] - 225s 2ms/sample - loss: 0.5617 - val_loss: 0.6341\n",
      "Epoch 44/50\n",
      "130371/130371 [==============================] - 222s 2ms/sample - loss: 0.5609 - val_loss: 0.6239\n",
      "Epoch 45/50\n",
      "130371/130371 [==============================] - 221s 2ms/sample - loss: 0.5596 - val_loss: 0.6249\n",
      "Epoch 46/50\n",
      "130371/130371 [==============================] - 223s 2ms/sample - loss: 0.5590 - val_loss: 0.6310\n",
      "Epoch 47/50\n",
      "130371/130371 [==============================] - 224s 2ms/sample - loss: 0.5596 - val_loss: 0.6179\n",
      "Epoch 48/50\n",
      "130371/130371 [==============================] - 228s 2ms/sample - loss: 0.5576 - val_loss: 0.6246\n",
      "Epoch 49/50\n",
      "130371/130371 [==============================] - 230s 2ms/sample - loss: 0.5582 - val_loss: 0.6199\n",
      "Epoch 50/50\n",
      "130371/130371 [==============================] - 229s 2ms/sample - loss: 0.5563 - val_loss: 0.6210\n"
     ]
    },
    {
     "data": {
      "image/png": "[encoded data removed]",
      "text/plain": [
       "<Figure size 432x288 with 1 Axes>"
      ]
     },
     "metadata": {
      "needs_background": "light"
     },
     "output_type": "display_data"
    }
   ],
   "source": [
    "# design network\n",
    "model = Sequential()\n",
    "model.add(LSTM(30,return_sequences=True, input_shape=(X.shape[1], X.shape[2])))\n",
    "model.add(Dropout(0.5))\n",
    "model.add(LSTM(30))\n",
    "model.add(Dropout(0.5))\n",
    "model.add(Dense(100, activation='relu'))\n",
    "model.add(Dense(50, activation='relu'))\n",
    "model.add(Dense(3, activation='softmax'))\n",
    "model.compile(loss='categorical_crossentropy', optimizer='adam')\n",
    "# fit network\n",
    "history = model.fit(X_train, Y_train, epochs=50, batch_size=512, validation_data=(X_test, Y_test), shuffle=False)\n",
    "# plot history\n",
    "plt.plot(history.history['loss'], label='train')\n",
    "plt.plot(history.history['val_loss'], label='test')\n",
    "plt.legend()\n",
    "plt.show()"
   ]
  },
  {
   "cell_type": "code",
   "execution_count": 367,
   "metadata": {},
   "outputs": [
    {
     "data": {
      "text/plain": [
       "8672"
      ]
     },
     "execution_count": 367,
     "metadata": {},
     "output_type": "execute_result"
    }
   ],
   "source": [
    "len(labels)"
   ]
  },
  {
   "cell_type": "code",
   "execution_count": 8,
   "metadata": {},
   "outputs": [
    {
     "name": "stdout",
     "output_type": "stream",
     "text": [
      "              precision    recall  f1-score   support\n",
      "\n",
      "           0       0.68      0.42      0.52      4889\n",
      "           1       0.71      0.95      0.82     21858\n",
      "           2       0.77      0.05      0.09      5846\n",
      "\n",
      "    accuracy                           0.71     32593\n",
      "   macro avg       0.72      0.47      0.47     32593\n",
      "weighted avg       0.72      0.71      0.64     32593\n",
      "\n"
     ]
    }
   ],
   "source": [
    "from sklearn.metrics import confusion_matrix, classification_report\n",
    "actual= np.argmax(Y_test, axis=1)\n",
    "predicted = np.argmax(model.predict(X_test, batch_size=512), axis=1)\n",
    "print(classification_report(actual, predicted))"
   ]
  },
  {
   "cell_type": "code",
   "execution_count": 373,
   "metadata": {},
   "outputs": [],
   "source": [
    "ticker = yf.Ticker('GBPJPY=X')\n",
    "\n",
    "data_test = ticker.history(period='6h', interval='1m')\n",
    "cols = ['Open','High', 'Low', 'Close']\n",
    "data_test = data_test[cols]"
   ]
  },
  {
   "cell_type": "code",
   "execution_count": 374,
   "metadata": {},
   "outputs": [
    {
     "name": "stderr",
     "output_type": "stream",
     "text": [
      "100%|██████████| 299/299 [00:06<00:00, 44.10it/s]\n"
     ]
    }
   ],
   "source": [
    "from tqdm import tqdm\n",
    "result = pd.DataFrame(index=data_test.index)\n",
    "\n",
    "for i in tqdm(range(0,len(data_test)-1)):\n",
    "    if i > 50:\n",
    "        try:\n",
    "            sbs = data_test.iloc[i:i+50]\n",
    "            pred = model.predict(sbs.apply(MinMax, axis=0).values.reshape(1,50,4))\n",
    "            result.loc[sbs.index[-1], 'Price'] = sbs['Close'][-1]\n",
    "            result.loc[sbs.index[-1], 'Indicator'] = np.argmax(pred)\n",
    "            result.loc[sbs.index[-1], 'Strength'] = np.max(pred)\n",
    "        except:\n",
    "            pass\n",
    "        \n",
    "\n",
    "results = data_test.join(result)"
   ]
  },
  {
   "cell_type": "code",
   "execution_count": 375,
   "metadata": {},
   "outputs": [
    {
     "data": {
      "image/png": "[encoded data removed]",
      "text/plain": [
       "<Figure size 1080x1080 with 1 Axes>"
      ]
     },
     "metadata": {
      "needs_background": "light"
     },
     "output_type": "display_data"
    }
   ],
   "source": [
    "from matplotlib.dates import MinuteLocator, HourLocator, SecondLocator\n",
    "\n",
    "\n",
    "fig, ax = plt.subplots(1, 1, figsize=(15,15))\n",
    "\n",
    "ax.plot(results['Close'].index,results['Close'])\n",
    "ax.scatter(results[(results['Indicator']==0) & (results['Strength']>0.0)].index,\n",
    "            results[(results['Indicator']==0) & (results['Strength']>0.0)]['Price'],\n",
    "            color='red', marker='v')\n",
    "ax.scatter(results[(results['Indicator']==2) & (results['Strength']>0.0)].index,\n",
    "            results[(results['Indicator']==2) & (results['Strength']>0.0)]['Price'],\n",
    "            color='green', marker='^')\n",
    "sloc = MinuteLocator()\n",
    "mloc = MinuteLocator(interval=15)\n",
    "ax.xaxis.set_major_locator(mloc)\n",
    "ax.xaxis.set_minor_locator(sloc)\n",
    "\n",
    "ax.grid(True)\n",
    "plt.xticks(rotation=90)\n",
    "plt.show()"
   ]
  },
  {
   "cell_type": "code",
   "execution_count": 376,
   "metadata": {},
   "outputs": [
    {
     "data": {
      "application/vnd.plotly.v1+json": {
       "config": {
        "plotlyServerURL": "https://plot.ly"
       },
       "data": [
        {
         "close": [
          136.392,
          136.383,
          136.396,
          136.36,
          136.37,
          136.408,
          136.397,
          136.392,
          136.398,
          136.37,
          136.41,
          136.422,
          136.41,
          136.404,
          136.403,
          136.373,
          136.394,
          136.39,
          136.404,
          136.41,
          136.412,
          136.415,
          136.413,
          136.413,
          136.392,
          136.408,
          136.407,
          136.401,
          136.389,
          136.395,
          136.372,
          136.385,
          136.36,
          136.37,
          136.39,
          136.404,
          136.407,
          136.398,
          136.396,
          136.396,
          136.399,
          136.392,
          136.397,
          136.402,
          136.39,
          136.378,
          136.374,
          136.375,
          136.392,
          136.398,
          136.39,
          136.391,
          136.395,
          136.374,
          136.359,
          136.369,
          136.377,
          136.391,
          136.34,
          136.361,
          136.348,
          136.344,
          136.341,
          136.341,
          136.338,
          136.32,
          136.321,
          136.356,
          136.3,
          136.305,
          136.313,
          136.316,
          136.333,
          136.327,
          136.318,
          136.34,
          136.348,
          136.354,
          136.378,
          136.382,
          136.391,
          136.399,
          136.379,
          136.387,
          136.398,
          136.406,
          136.375,
          136.377,
          136.396,
          136.39,
          136.376,
          136.399,
          136.398,
          136.415,
          136.38,
          136.402,
          136.411,
          136.381,
          136.398,
          136.416,
          136.41,
          136.398,
          136.394,
          136.39,
          136.413,
          136.416,
          136.409,
          136.409,
          136.418,
          136.411,
          136.396,
          136.406,
          136.37,
          136.36,
          136.37,
          136.381,
          136.397,
          136.383,
          136.395,
          136.365,
          136.372,
          136.398,
          136.407,
          136.415,
          136.41,
          136.4,
          136.39,
          136.418,
          136.4,
          136.405,
          136.421,
          136.427,
          136.418,
          136.406,
          136.433,
          136.41,
          136.426,
          136.405,
          136.423,
          136.463,
          136.476,
          136.481,
          136.489,
          136.483,
          136.465,
          136.462,
          136.429,
          136.434,
          136.411,
          136.418,
          136.413,
          136.447,
          136.45,
          136.45,
          136.41,
          136.455,
          136.46,
          136.472,
          136.465,
          136.459,
          136.44,
          136.468,
          136.44,
          136.477,
          136.44,
          136.424,
          136.4,
          136.426,
          136.437,
          136.433,
          136.44,
          136.446,
          136.429,
          136.416,
          136.423,
          136.433,
          136.441,
          136.447,
          136.486,
          136.462,
          136.435,
          136.403,
          136.406,
          136.402,
          136.392,
          136.43,
          136.417,
          136.44,
          136.442,
          136.439,
          136.395,
          136.373,
          136.361,
          136.362,
          136.373,
          136.365,
          136.33,
          136.347,
          136.346,
          136.361,
          136.38,
          136.385,
          136.398,
          136.368,
          136.358,
          136.339,
          136.37,
          136.36,
          136.334,
          136.306,
          136.315,
          136.281,
          136.293,
          136.314,
          136.309,
          136.299,
          136.264,
          136.249,
          136.229,
          136.247,
          136.252,
          136.277,
          136.305,
          136.298,
          136.29,
          136.25,
          136.253,
          136.261,
          136.256,
          136.282,
          136.275,
          136.259,
          136.276,
          136.256,
          136.259,
          136.237,
          136.261,
          136.288,
          136.272,
          136.296,
          136.286,
          136.319,
          136.3,
          136.281,
          136.268,
          136.234,
          136.247,
          136.245,
          136.22,
          136.235,
          136.234,
          136.205,
          136.2,
          136.158,
          136.139,
          136.157,
          136.09,
          136.06,
          136.132,
          136.162,
          136.177,
          136.179,
          136.191,
          136.204,
          136.189,
          136.156,
          136.156,
          136.153,
          136.146,
          136.139,
          136.148,
          136.176,
          136.184,
          136.205,
          136.221,
          136.228,
          136.258,
          136.263,
          136.279,
          136.294,
          136.251,
          136.256,
          136.281,
          136.282,
          136.291,
          136.268,
          136.275,
          136.28,
          136.319,
          136.361,
          136.368,
          136.37,
          136.385,
          136.392,
          136.401,
          136.425,
          136.428,
          136.41,
          136.448,
          136.453
         ],
         "high": [
          136.404,
          136.401,
          136.402,
          136.399,
          136.402,
          136.412,
          136.42,
          136.409,
          136.403,
          136.412,
          136.413,
          136.433,
          136.425,
          136.427,
          136.407,
          136.412,
          136.394,
          136.416,
          136.414,
          136.422,
          136.422,
          136.416,
          136.422,
          136.421,
          136.416,
          136.408,
          136.411,
          136.407,
          136.437,
          136.403,
          136.396,
          136.394,
          136.4,
          136.405,
          136.424,
          136.416,
          136.409,
          136.422,
          136.41,
          136.401,
          136.405,
          136.406,
          136.407,
          136.412,
          136.402,
          136.401,
          136.387,
          136.394,
          136.396,
          136.41,
          136.402,
          136.403,
          136.404,
          136.404,
          136.384,
          136.376,
          136.382,
          136.407,
          136.394,
          136.368,
          136.365,
          136.36,
          136.349,
          136.344,
          136.347,
          136.354,
          136.355,
          136.358,
          136.358,
          136.322,
          136.32,
          136.326,
          136.341,
          136.339,
          136.34,
          136.343,
          136.364,
          136.358,
          136.383,
          136.394,
          136.396,
          136.418,
          136.402,
          136.397,
          136.403,
          136.412,
          136.411,
          136.4,
          136.4,
          136.411,
          136.397,
          136.404,
          136.408,
          136.42,
          136.421,
          136.423,
          136.429,
          136.411,
          136.407,
          136.424,
          136.43,
          136.418,
          136.405,
          136.422,
          136.418,
          136.422,
          136.419,
          136.419,
          136.421,
          136.423,
          136.423,
          136.409,
          136.419,
          136.409,
          136.407,
          136.408,
          136.405,
          136.4,
          136.395,
          136.395,
          136.38,
          136.406,
          136.419,
          136.419,
          136.43,
          136.419,
          136.424,
          136.43,
          136.438,
          136.411,
          136.425,
          136.447,
          136.441,
          136.443,
          136.448,
          136.442,
          136.437,
          136.429,
          136.423,
          136.469,
          136.5,
          136.497,
          136.497,
          136.496,
          136.495,
          136.473,
          136.463,
          136.455,
          136.441,
          136.43,
          136.421,
          136.448,
          136.451,
          136.468,
          136.462,
          136.463,
          136.48,
          136.477,
          136.496,
          136.474,
          136.477,
          136.48,
          136.473,
          136.48,
          136.483,
          136.44,
          136.449,
          136.448,
          136.439,
          136.448,
          136.452,
          136.45,
          136.447,
          136.432,
          136.433,
          136.437,
          136.448,
          136.451,
          136.501,
          136.49,
          136.473,
          136.443,
          136.418,
          136.416,
          136.41,
          136.436,
          136.447,
          136.455,
          136.464,
          136.445,
          136.443,
          136.399,
          136.373,
          136.373,
          136.388,
          136.391,
          136.379,
          136.348,
          136.352,
          136.389,
          136.382,
          136.387,
          136.398,
          136.406,
          136.371,
          136.369,
          136.376,
          136.38,
          136.399,
          136.339,
          136.323,
          136.324,
          136.295,
          136.32,
          136.322,
          136.315,
          136.302,
          136.283,
          136.264,
          136.259,
          136.26,
          136.286,
          136.311,
          136.317,
          136.307,
          136.298,
          136.282,
          136.263,
          136.279,
          136.287,
          136.287,
          136.285,
          136.276,
          136.277,
          136.279,
          136.265,
          136.265,
          136.295,
          136.297,
          136.307,
          136.3,
          136.321,
          136.331,
          136.303,
          136.297,
          136.275,
          136.26,
          136.262,
          136.255,
          136.259,
          136.258,
          136.243,
          136.219,
          136.204,
          136.166,
          136.166,
          136.16,
          136.123,
          136.138,
          136.165,
          136.192,
          136.183,
          136.2,
          136.218,
          136.219,
          136.197,
          136.189,
          136.202,
          136.173,
          136.161,
          136.159,
          136.195,
          136.211,
          136.221,
          136.237,
          136.246,
          136.26,
          136.284,
          136.282,
          136.304,
          136.282,
          136.281,
          136.287,
          136.29,
          136.302,
          136.304,
          136.285,
          136.305,
          136.324,
          136.366,
          136.378,
          136.395,
          136.402,
          136.4,
          136.408,
          136.437,
          136.436,
          136.45,
          136.46,
          136.453
         ],
         "low": [
          136.36,
          136.346,
          136.345,
          136.358,
          136.36,
          136.36,
          136.37,
          136.36,
          136.354,
          136.36,
          136.36,
          136.38,
          136.38,
          136.38,
          136.37,
          136.35,
          136.347,
          136.36,
          136.37,
          136.37,
          136.374,
          136.38,
          136.38,
          136.38,
          136.365,
          136.36,
          136.36,
          136.36,
          136.35,
          136.36,
          136.344,
          136.349,
          136.35,
          136.36,
          136.369,
          136.37,
          136.37,
          136.367,
          136.367,
          136.36,
          136.36,
          136.36,
          136.368,
          136.36,
          136.35,
          136.355,
          136.346,
          136.35,
          136.349,
          136.36,
          136.36,
          136.364,
          136.36,
          136.35,
          136.33,
          136.33,
          136.32,
          136.344,
          136.33,
          136.325,
          136.32,
          136.32,
          136.31,
          136.308,
          136.3,
          136.31,
          136.3,
          136.3,
          136.29,
          136.27,
          136.28,
          136.28,
          136.28,
          136.299,
          136.3,
          136.297,
          136.32,
          136.317,
          136.33,
          136.349,
          136.35,
          136.367,
          136.35,
          136.34,
          136.358,
          136.357,
          136.357,
          136.35,
          136.35,
          136.36,
          136.35,
          136.36,
          136.366,
          136.377,
          136.38,
          136.38,
          136.379,
          136.345,
          136.356,
          136.37,
          136.38,
          136.38,
          136.365,
          136.37,
          136.376,
          136.38,
          136.38,
          136.38,
          136.378,
          136.386,
          136.38,
          136.37,
          136.36,
          136.35,
          136.36,
          136.35,
          136.35,
          136.35,
          136.35,
          136.33,
          136.33,
          136.34,
          136.359,
          136.37,
          136.375,
          136.369,
          136.37,
          136.38,
          136.38,
          136.37,
          136.38,
          136.39,
          136.39,
          136.38,
          136.38,
          136.386,
          136.39,
          136.37,
          136.37,
          136.386,
          136.42,
          136.43,
          136.44,
          136.44,
          136.43,
          136.41,
          136.41,
          136.39,
          136.38,
          136.37,
          136.369,
          136.38,
          136.409,
          136.42,
          136.4,
          136.41,
          136.43,
          136.439,
          136.43,
          136.427,
          136.425,
          136.42,
          136.4,
          136.41,
          136.41,
          136.37,
          136.39,
          136.39,
          136.39,
          136.4,
          136.4,
          136.41,
          136.389,
          136.38,
          136.386,
          136.393,
          136.4,
          136.41,
          136.42,
          136.427,
          136.4,
          136.376,
          136.37,
          136.37,
          136.36,
          136.36,
          136.39,
          136.39,
          136.41,
          136.39,
          136.37,
          136.34,
          136.319,
          136.33,
          136.34,
          136.34,
          136.327,
          136.32,
          136.31,
          136.317,
          136.33,
          136.34,
          136.35,
          136.34,
          136.307,
          136.3,
          136.3,
          136.336,
          136.3,
          136.27,
          136.27,
          136.25,
          136.242,
          136.26,
          136.27,
          136.27,
          136.24,
          136.21,
          136.2,
          136.2,
          136.21,
          136.22,
          136.25,
          136.27,
          136.24,
          136.25,
          136.22,
          136.22,
          136.23,
          136.23,
          136.25,
          136.22,
          136.23,
          136.226,
          136.23,
          136.2,
          136.21,
          136.24,
          136.23,
          136.25,
          136.23,
          136.25,
          136.26,
          136.25,
          136.24,
          136.2,
          136.21,
          136.21,
          136.2,
          136.21,
          136.19,
          136.16,
          136.15,
          136.12,
          136.11,
          136.108,
          136.09,
          136.047,
          136.035,
          136.1,
          136.13,
          136.126,
          136.13,
          136.127,
          136.17,
          136.123,
          136.124,
          136.14,
          136.1,
          136.1,
          136.11,
          136.109,
          136.15,
          136.16,
          136.18,
          136.2,
          136.19,
          136.22,
          136.24,
          136.27,
          136.22,
          136.22,
          136.23,
          136.23,
          136.24,
          136.24,
          136.23,
          136.25,
          136.27,
          136.29,
          136.33,
          136.34,
          136.35,
          136.35,
          136.35,
          136.38,
          136.39,
          136.39,
          136.39,
          136.453
         ],
         "open": [
          136.399,
          136.393,
          136.384,
          136.39,
          136.394,
          136.397,
          136.409,
          136.404,
          136.36,
          136.399,
          136.398,
          136.411,
          136.4,
          136.39,
          136.407,
          136.403,
          136.383,
          136.391,
          136.41,
          136.408,
          136.411,
          136.38,
          136.416,
          136.415,
          136.414,
          136.393,
          136.38,
          136.407,
          136.402,
          136.36,
          136.37,
          136.35,
          136.35,
          136.395,
          136.4,
          136.412,
          136.38,
          136.409,
          136.38,
          136.37,
          136.395,
          136.398,
          136.37,
          136.399,
          136.402,
          136.36,
          136.386,
          136.36,
          136.379,
          136.392,
          136.397,
          136.399,
          136.399,
          136.394,
          136.36,
          136.363,
          136.371,
          136.381,
          136.394,
          136.368,
          136.33,
          136.352,
          136.344,
          136.337,
          136.339,
          136.342,
          136.35,
          136.32,
          136.354,
          136.29,
          136.313,
          136.314,
          136.316,
          136.332,
          136.333,
          136.322,
          136.32,
          136.352,
          136.354,
          136.384,
          136.37,
          136.395,
          136.397,
          136.35,
          136.381,
          136.394,
          136.411,
          136.384,
          136.379,
          136.4,
          136.391,
          136.386,
          136.402,
          136.408,
          136.413,
          136.405,
          136.39,
          136.411,
          136.383,
          136.404,
          136.417,
          136.409,
          136.405,
          136.395,
          136.417,
          136.413,
          136.38,
          136.414,
          136.417,
          136.417,
          136.421,
          136.405,
          136.403,
          136.402,
          136.384,
          136.394,
          136.385,
          136.395,
          136.387,
          136.395,
          136.366,
          136.374,
          136.401,
          136.407,
          136.41,
          136.417,
          136.38,
          136.414,
          136.419,
          136.38,
          136.402,
          136.423,
          136.435,
          136.4,
          136.417,
          136.429,
          136.42,
          136.428,
          136.403,
          136.419,
          136.43,
          136.47,
          136.473,
          136.483,
          136.486,
          136.465,
          136.43,
          136.434,
          136.432,
          136.408,
          136.415,
          136.417,
          136.448,
          136.451,
          136.449,
          136.444,
          136.463,
          136.45,
          136.473,
          136.465,
          136.463,
          136.47,
          136.473,
          136.442,
          136.476,
          136.439,
          136.4,
          136.43,
          136.426,
          136.41,
          136.41,
          136.444,
          136.44,
          136.41,
          136.422,
          136.431,
          136.432,
          136.441,
          136.448,
          136.489,
          136.461,
          136.438,
          136.411,
          136.408,
          136.403,
          136.4,
          136.434,
          136.425,
          136.453,
          136.435,
          136.437,
          136.396,
          136.369,
          136.361,
          136.363,
          136.378,
          136.374,
          136.32,
          136.342,
          136.348,
          136.359,
          136.38,
          136.382,
          136.397,
          136.371,
          136.358,
          136.339,
          136.369,
          136.369,
          136.336,
          136.306,
          136.318,
          136.284,
          136.287,
          136.317,
          136.307,
          136.302,
          136.273,
          136.249,
          136.23,
          136.247,
          136.252,
          136.277,
          136.307,
          136.305,
          136.295,
          136.28,
          136.254,
          136.261,
          136.261,
          136.286,
          136.25,
          136.26,
          136.275,
          136.256,
          136.265,
          136.244,
          136.262,
          136.296,
          136.277,
          136.3,
          136.285,
          136.317,
          136.27,
          136.283,
          136.268,
          136.242,
          136.22,
          136.253,
          136.252,
          136.243,
          136.239,
          136.18,
          136.17,
          136.158,
          136.144,
          136.159,
          136.123,
          136.09,
          136.129,
          136.13,
          136.182,
          136.178,
          136.17,
          136.18,
          136.19,
          136.164,
          136.165,
          136.159,
          136.154,
          136.149,
          136.13,
          136.177,
          136.184,
          136.211,
          136.232,
          136.231,
          136.26,
          136.271,
          136.292,
          136.282,
          136.259,
          136.254,
          136.275,
          136.275,
          136.284,
          136.264,
          136.283,
          136.301,
          136.325,
          136.357,
          136.368,
          136.385,
          136.378,
          136.401,
          136.408,
          136.418,
          136.42,
          136.435,
          136.453
         ],
         "type": "candlestick",
         "x": [
          "2020-07-30T04:02:00+01:00",
          "2020-07-30T04:03:00+01:00",
          "2020-07-30T04:04:00+01:00",
          "2020-07-30T04:05:00+01:00",
          "2020-07-30T04:06:00+01:00",
          "2020-07-30T04:07:00+01:00",
          "2020-07-30T04:08:00+01:00",
          "2020-07-30T04:09:00+01:00",
          "2020-07-30T04:10:00+01:00",
          "2020-07-30T04:11:00+01:00",
          "2020-07-30T04:12:00+01:00",
          "2020-07-30T04:13:00+01:00",
          "2020-07-30T04:14:00+01:00",
          "2020-07-30T04:15:00+01:00",
          "2020-07-30T04:16:00+01:00",
          "2020-07-30T04:17:00+01:00",
          "2020-07-30T04:18:00+01:00",
          "2020-07-30T04:19:00+01:00",
          "2020-07-30T04:20:00+01:00",
          "2020-07-30T04:21:00+01:00",
          "2020-07-30T04:22:00+01:00",
          "2020-07-30T04:23:00+01:00",
          "2020-07-30T04:24:00+01:00",
          "2020-07-30T04:25:00+01:00",
          "2020-07-30T04:26:00+01:00",
          "2020-07-30T04:27:00+01:00",
          "2020-07-30T04:28:00+01:00",
          "2020-07-30T04:29:00+01:00",
          "2020-07-30T04:30:00+01:00",
          "2020-07-30T04:31:00+01:00",
          "2020-07-30T04:32:00+01:00",
          "2020-07-30T04:33:00+01:00",
          "2020-07-30T04:34:00+01:00",
          "2020-07-30T04:35:00+01:00",
          "2020-07-30T04:36:00+01:00",
          "2020-07-30T04:37:00+01:00",
          "2020-07-30T04:38:00+01:00",
          "2020-07-30T04:39:00+01:00",
          "2020-07-30T04:40:00+01:00",
          "2020-07-30T04:41:00+01:00",
          "2020-07-30T04:42:00+01:00",
          "2020-07-30T04:43:00+01:00",
          "2020-07-30T04:44:00+01:00",
          "2020-07-30T04:45:00+01:00",
          "2020-07-30T04:46:00+01:00",
          "2020-07-30T04:47:00+01:00",
          "2020-07-30T04:48:00+01:00",
          "2020-07-30T04:49:00+01:00",
          "2020-07-30T04:50:00+01:00",
          "2020-07-30T04:51:00+01:00",
          "2020-07-30T04:52:00+01:00",
          "2020-07-30T04:53:00+01:00",
          "2020-07-30T04:54:00+01:00",
          "2020-07-30T04:55:00+01:00",
          "2020-07-30T04:56:00+01:00",
          "2020-07-30T04:57:00+01:00",
          "2020-07-30T04:58:00+01:00",
          "2020-07-30T04:59:00+01:00",
          "2020-07-30T05:00:00+01:00",
          "2020-07-30T05:01:00+01:00",
          "2020-07-30T05:02:00+01:00",
          "2020-07-30T05:03:00+01:00",
          "2020-07-30T05:04:00+01:00",
          "2020-07-30T05:05:00+01:00",
          "2020-07-30T05:06:00+01:00",
          "2020-07-30T05:07:00+01:00",
          "2020-07-30T05:08:00+01:00",
          "2020-07-30T05:09:00+01:00",
          "2020-07-30T05:10:00+01:00",
          "2020-07-30T05:11:00+01:00",
          "2020-07-30T05:12:00+01:00",
          "2020-07-30T05:13:00+01:00",
          "2020-07-30T05:14:00+01:00",
          "2020-07-30T05:15:00+01:00",
          "2020-07-30T05:16:00+01:00",
          "2020-07-30T05:17:00+01:00",
          "2020-07-30T05:18:00+01:00",
          "2020-07-30T05:19:00+01:00",
          "2020-07-30T05:20:00+01:00",
          "2020-07-30T05:21:00+01:00",
          "2020-07-30T05:22:00+01:00",
          "2020-07-30T05:23:00+01:00",
          "2020-07-30T05:24:00+01:00",
          "2020-07-30T05:25:00+01:00",
          "2020-07-30T05:26:00+01:00",
          "2020-07-30T05:27:00+01:00",
          "2020-07-30T05:28:00+01:00",
          "2020-07-30T05:29:00+01:00",
          "2020-07-30T05:30:00+01:00",
          "2020-07-30T05:31:00+01:00",
          "2020-07-30T05:32:00+01:00",
          "2020-07-30T05:33:00+01:00",
          "2020-07-30T05:34:00+01:00",
          "2020-07-30T05:35:00+01:00",
          "2020-07-30T05:36:00+01:00",
          "2020-07-30T05:37:00+01:00",
          "2020-07-30T05:38:00+01:00",
          "2020-07-30T05:39:00+01:00",
          "2020-07-30T05:40:00+01:00",
          "2020-07-30T05:41:00+01:00",
          "2020-07-30T05:42:00+01:00",
          "2020-07-30T05:43:00+01:00",
          "2020-07-30T05:44:00+01:00",
          "2020-07-30T05:45:00+01:00",
          "2020-07-30T05:46:00+01:00",
          "2020-07-30T05:47:00+01:00",
          "2020-07-30T05:48:00+01:00",
          "2020-07-30T05:49:00+01:00",
          "2020-07-30T05:50:00+01:00",
          "2020-07-30T05:51:00+01:00",
          "2020-07-30T05:52:00+01:00",
          "2020-07-30T05:53:00+01:00",
          "2020-07-30T05:54:00+01:00",
          "2020-07-30T05:55:00+01:00",
          "2020-07-30T05:56:00+01:00",
          "2020-07-30T05:57:00+01:00",
          "2020-07-30T05:58:00+01:00",
          "2020-07-30T05:59:00+01:00",
          "2020-07-30T06:00:00+01:00",
          "2020-07-30T06:01:00+01:00",
          "2020-07-30T06:02:00+01:00",
          "2020-07-30T06:03:00+01:00",
          "2020-07-30T06:04:00+01:00",
          "2020-07-30T06:05:00+01:00",
          "2020-07-30T06:06:00+01:00",
          "2020-07-30T06:07:00+01:00",
          "2020-07-30T06:08:00+01:00",
          "2020-07-30T06:09:00+01:00",
          "2020-07-30T06:10:00+01:00",
          "2020-07-30T06:11:00+01:00",
          "2020-07-30T06:12:00+01:00",
          "2020-07-30T06:13:00+01:00",
          "2020-07-30T06:14:00+01:00",
          "2020-07-30T06:15:00+01:00",
          "2020-07-30T06:16:00+01:00",
          "2020-07-30T06:17:00+01:00",
          "2020-07-30T06:18:00+01:00",
          "2020-07-30T06:19:00+01:00",
          "2020-07-30T06:20:00+01:00",
          "2020-07-30T06:21:00+01:00",
          "2020-07-30T06:22:00+01:00",
          "2020-07-30T06:23:00+01:00",
          "2020-07-30T06:24:00+01:00",
          "2020-07-30T06:25:00+01:00",
          "2020-07-30T06:26:00+01:00",
          "2020-07-30T06:27:00+01:00",
          "2020-07-30T06:28:00+01:00",
          "2020-07-30T06:29:00+01:00",
          "2020-07-30T06:30:00+01:00",
          "2020-07-30T06:31:00+01:00",
          "2020-07-30T06:32:00+01:00",
          "2020-07-30T06:33:00+01:00",
          "2020-07-30T06:34:00+01:00",
          "2020-07-30T06:35:00+01:00",
          "2020-07-30T06:36:00+01:00",
          "2020-07-30T06:37:00+01:00",
          "2020-07-30T06:38:00+01:00",
          "2020-07-30T06:39:00+01:00",
          "2020-07-30T06:40:00+01:00",
          "2020-07-30T06:41:00+01:00",
          "2020-07-30T06:42:00+01:00",
          "2020-07-30T06:43:00+01:00",
          "2020-07-30T06:44:00+01:00",
          "2020-07-30T06:45:00+01:00",
          "2020-07-30T06:46:00+01:00",
          "2020-07-30T06:47:00+01:00",
          "2020-07-30T06:48:00+01:00",
          "2020-07-30T06:49:00+01:00",
          "2020-07-30T06:50:00+01:00",
          "2020-07-30T06:51:00+01:00",
          "2020-07-30T06:52:00+01:00",
          "2020-07-30T06:53:00+01:00",
          "2020-07-30T06:54:00+01:00",
          "2020-07-30T06:55:00+01:00",
          "2020-07-30T06:56:00+01:00",
          "2020-07-30T06:57:00+01:00",
          "2020-07-30T06:58:00+01:00",
          "2020-07-30T06:59:00+01:00",
          "2020-07-30T07:00:00+01:00",
          "2020-07-30T07:01:00+01:00",
          "2020-07-30T07:02:00+01:00",
          "2020-07-30T07:03:00+01:00",
          "2020-07-30T07:04:00+01:00",
          "2020-07-30T07:05:00+01:00",
          "2020-07-30T07:06:00+01:00",
          "2020-07-30T07:07:00+01:00",
          "2020-07-30T07:08:00+01:00",
          "2020-07-30T07:09:00+01:00",
          "2020-07-30T07:10:00+01:00",
          "2020-07-30T07:11:00+01:00",
          "2020-07-30T07:12:00+01:00",
          "2020-07-30T07:13:00+01:00",
          "2020-07-30T07:14:00+01:00",
          "2020-07-30T07:15:00+01:00",
          "2020-07-30T07:16:00+01:00",
          "2020-07-30T07:17:00+01:00",
          "2020-07-30T07:18:00+01:00",
          "2020-07-30T07:19:00+01:00",
          "2020-07-30T07:20:00+01:00",
          "2020-07-30T07:21:00+01:00",
          "2020-07-30T07:22:00+01:00",
          "2020-07-30T07:23:00+01:00",
          "2020-07-30T07:24:00+01:00",
          "2020-07-30T07:25:00+01:00",
          "2020-07-30T07:26:00+01:00",
          "2020-07-30T07:27:00+01:00",
          "2020-07-30T07:28:00+01:00",
          "2020-07-30T07:29:00+01:00",
          "2020-07-30T07:30:00+01:00",
          "2020-07-30T07:31:00+01:00",
          "2020-07-30T07:32:00+01:00",
          "2020-07-30T07:33:00+01:00",
          "2020-07-30T07:34:00+01:00",
          "2020-07-30T07:35:00+01:00",
          "2020-07-30T07:36:00+01:00",
          "2020-07-30T07:37:00+01:00",
          "2020-07-30T07:38:00+01:00",
          "2020-07-30T07:39:00+01:00",
          "2020-07-30T07:40:00+01:00",
          "2020-07-30T07:41:00+01:00",
          "2020-07-30T07:42:00+01:00",
          "2020-07-30T07:43:00+01:00",
          "2020-07-30T07:44:00+01:00",
          "2020-07-30T07:45:00+01:00",
          "2020-07-30T07:46:00+01:00",
          "2020-07-30T07:47:00+01:00",
          "2020-07-30T07:48:00+01:00",
          "2020-07-30T07:49:00+01:00",
          "2020-07-30T07:50:00+01:00",
          "2020-07-30T07:51:00+01:00",
          "2020-07-30T07:52:00+01:00",
          "2020-07-30T07:53:00+01:00",
          "2020-07-30T07:54:00+01:00",
          "2020-07-30T07:55:00+01:00",
          "2020-07-30T07:56:00+01:00",
          "2020-07-30T07:57:00+01:00",
          "2020-07-30T07:58:00+01:00",
          "2020-07-30T07:59:00+01:00",
          "2020-07-30T08:00:00+01:00",
          "2020-07-30T08:01:00+01:00",
          "2020-07-30T08:02:00+01:00",
          "2020-07-30T08:03:00+01:00",
          "2020-07-30T08:04:00+01:00",
          "2020-07-30T08:05:00+01:00",
          "2020-07-30T08:06:00+01:00",
          "2020-07-30T08:07:00+01:00",
          "2020-07-30T08:08:00+01:00",
          "2020-07-30T08:09:00+01:00",
          "2020-07-30T08:10:00+01:00",
          "2020-07-30T08:11:00+01:00",
          "2020-07-30T08:12:00+01:00",
          "2020-07-30T08:13:00+01:00",
          "2020-07-30T08:14:00+01:00",
          "2020-07-30T08:15:00+01:00",
          "2020-07-30T08:16:00+01:00",
          "2020-07-30T08:17:00+01:00",
          "2020-07-30T08:18:00+01:00",
          "2020-07-30T08:19:00+01:00",
          "2020-07-30T08:20:00+01:00",
          "2020-07-30T08:21:00+01:00",
          "2020-07-30T08:22:00+01:00",
          "2020-07-30T08:23:00+01:00",
          "2020-07-30T08:24:00+01:00",
          "2020-07-30T08:25:00+01:00",
          "2020-07-30T08:26:00+01:00",
          "2020-07-30T08:27:00+01:00",
          "2020-07-30T08:28:00+01:00",
          "2020-07-30T08:29:00+01:00",
          "2020-07-30T08:30:00+01:00",
          "2020-07-30T08:31:00+01:00",
          "2020-07-30T08:32:00+01:00",
          "2020-07-30T08:33:00+01:00",
          "2020-07-30T08:34:00+01:00",
          "2020-07-30T08:35:00+01:00",
          "2020-07-30T08:36:00+01:00",
          "2020-07-30T08:37:00+01:00",
          "2020-07-30T08:38:00+01:00",
          "2020-07-30T08:39:00+01:00",
          "2020-07-30T08:40:00+01:00",
          "2020-07-30T08:41:00+01:00",
          "2020-07-30T08:42:00+01:00",
          "2020-07-30T08:43:00+01:00",
          "2020-07-30T08:44:00+01:00",
          "2020-07-30T08:45:00+01:00",
          "2020-07-30T08:46:00+01:00",
          "2020-07-30T08:47:00+01:00",
          "2020-07-30T08:48:00+01:00",
          "2020-07-30T08:49:00+01:00",
          "2020-07-30T08:50:00+01:00",
          "2020-07-30T08:51:00+01:00",
          "2020-07-30T08:52:00+01:00",
          "2020-07-30T08:53:00+01:00",
          "2020-07-30T08:54:00+01:00",
          "2020-07-30T08:55:00+01:00",
          "2020-07-30T08:56:00+01:00",
          "2020-07-30T08:57:00+01:00",
          "2020-07-30T08:58:00+01:00",
          "2020-07-30T08:59:00+01:00",
          "2020-07-30T09:00:00+01:00",
          "2020-07-30T09:01:18+01:00"
         ]
        },
        {
         "marker": {
          "size": [
           5.850071310997009,
           8.199900388717651,
           9.131371974945068,
           9.231305122375488,
           8.861225843429565,
           9.577248096466064,
           6.094706058502197,
           8.597895503044128,
           9.9909508228302,
           9.91978645324707,
           7.124204039573669,
           7.765833735466003,
           4.579845070838928,
           9.332726001739502,
           3.4945011138916016,
           6.395101547241211,
           9.211232662200928,
           8.427375555038452,
           5.955345034599304,
           7.191205024719238
          ],
          "symbol": "triangle-down"
         },
         "mode": "markers",
         "name": "Down",
         "type": "scatter",
         "x": [
          "2020-07-30T05:54:00+01:00",
          "2020-07-30T05:55:00+01:00",
          "2020-07-30T05:56:00+01:00",
          "2020-07-30T05:57:00+01:00",
          "2020-07-30T05:58:00+01:00",
          "2020-07-30T05:59:00+01:00",
          "2020-07-30T06:09:00+01:00",
          "2020-07-30T06:10:00+01:00",
          "2020-07-30T06:13:00+01:00",
          "2020-07-30T06:14:00+01:00",
          "2020-07-30T06:15:00+01:00",
          "2020-07-30T06:30:00+01:00",
          "2020-07-30T06:34:00+01:00",
          "2020-07-30T06:40:00+01:00",
          "2020-07-30T07:07:00+01:00",
          "2020-07-30T07:54:00+01:00",
          "2020-07-30T08:05:00+01:00",
          "2020-07-30T08:06:00+01:00",
          "2020-07-30T08:18:00+01:00",
          "2020-07-30T08:30:00+01:00"
         ],
         "y": [
          136.37,
          136.36,
          136.37,
          136.381,
          136.397,
          136.383,
          136.418,
          136.4,
          136.427,
          136.418,
          136.406,
          136.411,
          136.45,
          136.465,
          136.43,
          136.276,
          136.281,
          136.268,
          136.09,
          136.146
         ]
        },
        {
         "marker": {
          "size": [
           3.8800716400146484,
           9.671328067779541,
           5.716752409934998,
           8.219658732414246,
           8.184022903442383,
           9.982402324676514,
           6.820951700210571,
           4.421249032020569,
           5.119415521621704,
           6.6006797552108765,
           7.587475776672363,
           7.110356092453003,
           4.332624673843384,
           5.927591323852539,
           9.60948646068573,
           9.84478235244751
          ],
          "symbol": "triangle-up"
         },
         "mode": "markers",
         "name": "Up",
         "type": "scatter",
         "x": [
          "2020-07-30T06:00:00+01:00",
          "2020-07-30T06:08:00+01:00",
          "2020-07-30T06:22:00+01:00",
          "2020-07-30T06:32:00+01:00",
          "2020-07-30T07:09:00+01:00",
          "2020-07-30T07:10:00+01:00",
          "2020-07-30T07:13:00+01:00",
          "2020-07-30T07:20:00+01:00",
          "2020-07-30T07:35:00+01:00",
          "2020-07-30T07:46:00+01:00",
          "2020-07-30T07:47:00+01:00",
          "2020-07-30T07:48:00+01:00",
          "2020-07-30T07:49:00+01:00",
          "2020-07-30T07:50:00+01:00",
          "2020-07-30T08:14:00+01:00",
          "2020-07-30T08:40:00+01:00"
         ],
         "y": [
          136.395,
          136.39,
          136.476,
          136.413,
          136.44,
          136.442,
          136.373,
          136.346,
          136.314,
          136.29,
          136.25,
          136.253,
          136.261,
          136.256,
          136.2,
          136.279
         ]
        }
       ],
       "layout": {
        "template": {
         "data": {
          "bar": [
           {
            "error_x": {
             "color": "#2a3f5f"
            },
            "error_y": {
             "color": "#2a3f5f"
            },
            "marker": {
             "line": {
              "color": "#E5ECF6",
              "width": 0.5
             }
            },
            "type": "bar"
           }
          ],
          "barpolar": [
           {
            "marker": {
             "line": {
              "color": "#E5ECF6",
              "width": 0.5
             }
            },
            "type": "barpolar"
           }
          ],
          "carpet": [
           {
            "aaxis": {
             "endlinecolor": "#2a3f5f",
             "gridcolor": "white",
             "linecolor": "white",
             "minorgridcolor": "white",
             "startlinecolor": "#2a3f5f"
            },
            "baxis": {
             "endlinecolor": "#2a3f5f",
             "gridcolor": "white",
             "linecolor": "white",
             "minorgridcolor": "white",
             "startlinecolor": "#2a3f5f"
            },
            "type": "carpet"
           }
          ],
          "choropleth": [
           {
            "colorbar": {
             "outlinewidth": 0,
             "ticks": ""
            },
            "type": "choropleth"
           }
          ],
          "contour": [
           {
            "colorbar": {
             "outlinewidth": 0,
             "ticks": ""
            },
            "colorscale": [
             [
              0,
              "#0d0887"
             ],
             [
              0.1111111111111111,
              "#46039f"
             ],
             [
              0.2222222222222222,
              "#7201a8"
             ],
             [
              0.3333333333333333,
              "#9c179e"
             ],
             [
              0.4444444444444444,
              "#bd3786"
             ],
             [
              0.5555555555555556,
              "#d8576b"
             ],
             [
              0.6666666666666666,
              "#ed7953"
             ],
             [
              0.7777777777777778,
              "#fb9f3a"
             ],
             [
              0.8888888888888888,
              "#fdca26"
             ],
             [
              1,
              "#f0f921"
             ]
            ],
            "type": "contour"
           }
          ],
          "contourcarpet": [
           {
            "colorbar": {
             "outlinewidth": 0,
             "ticks": ""
            },
            "type": "contourcarpet"
           }
          ],
          "heatmap": [
           {
            "colorbar": {
             "outlinewidth": 0,
             "ticks": ""
            },
            "colorscale": [
             [
              0,
              "#0d0887"
             ],
             [
              0.1111111111111111,
              "#46039f"
             ],
             [
              0.2222222222222222,
              "#7201a8"
             ],
             [
              0.3333333333333333,
              "#9c179e"
             ],
             [
              0.4444444444444444,
              "#bd3786"
             ],
             [
              0.5555555555555556,
              "#d8576b"
             ],
             [
              0.6666666666666666,
              "#ed7953"
             ],
             [
              0.7777777777777778,
              "#fb9f3a"
             ],
             [
              0.8888888888888888,
              "#fdca26"
             ],
             [
              1,
              "#f0f921"
             ]
            ],
            "type": "heatmap"
           }
          ],
          "heatmapgl": [
           {
            "colorbar": {
             "outlinewidth": 0,
             "ticks": ""
            },
            "colorscale": [
             [
              0,
              "#0d0887"
             ],
             [
              0.1111111111111111,
              "#46039f"
             ],
             [
              0.2222222222222222,
              "#7201a8"
             ],
             [
              0.3333333333333333,
              "#9c179e"
             ],
             [
              0.4444444444444444,
              "#bd3786"
             ],
             [
              0.5555555555555556,
              "#d8576b"
             ],
             [
              0.6666666666666666,
              "#ed7953"
             ],
             [
              0.7777777777777778,
              "#fb9f3a"
             ],
             [
              0.8888888888888888,
              "#fdca26"
             ],
             [
              1,
              "#f0f921"
             ]
            ],
            "type": "heatmapgl"
           }
          ],
          "histogram": [
           {
            "marker": {
             "colorbar": {
              "outlinewidth": 0,
              "ticks": ""
             }
            },
            "type": "histogram"
           }
          ],
          "histogram2d": [
           {
            "colorbar": {
             "outlinewidth": 0,
             "ticks": ""
            },
            "colorscale": [
             [
              0,
              "#0d0887"
             ],
             [
              0.1111111111111111,
              "#46039f"
             ],
             [
              0.2222222222222222,
              "#7201a8"
             ],
             [
              0.3333333333333333,
              "#9c179e"
             ],
             [
              0.4444444444444444,
              "#bd3786"
             ],
             [
              0.5555555555555556,
              "#d8576b"
             ],
             [
              0.6666666666666666,
              "#ed7953"
             ],
             [
              0.7777777777777778,
              "#fb9f3a"
             ],
             [
              0.8888888888888888,
              "#fdca26"
             ],
             [
              1,
              "#f0f921"
             ]
            ],
            "type": "histogram2d"
           }
          ],
          "histogram2dcontour": [
           {
            "colorbar": {
             "outlinewidth": 0,
             "ticks": ""
            },
            "colorscale": [
             [
              0,
              "#0d0887"
             ],
             [
              0.1111111111111111,
              "#46039f"
             ],
             [
              0.2222222222222222,
              "#7201a8"
             ],
             [
              0.3333333333333333,
              "#9c179e"
             ],
             [
              0.4444444444444444,
              "#bd3786"
             ],
             [
              0.5555555555555556,
              "#d8576b"
             ],
             [
              0.6666666666666666,
              "#ed7953"
             ],
             [
              0.7777777777777778,
              "#fb9f3a"
             ],
             [
              0.8888888888888888,
              "#fdca26"
             ],
             [
              1,
              "#f0f921"
             ]
            ],
            "type": "histogram2dcontour"
           }
          ],
          "mesh3d": [
           {
            "colorbar": {
             "outlinewidth": 0,
             "ticks": ""
            },
            "type": "mesh3d"
           }
          ],
          "parcoords": [
           {
            "line": {
             "colorbar": {
              "outlinewidth": 0,
              "ticks": ""
             }
            },
            "type": "parcoords"
           }
          ],
          "pie": [
           {
            "automargin": true,
            "type": "pie"
           }
          ],
          "scatter": [
           {
            "marker": {
             "colorbar": {
              "outlinewidth": 0,
              "ticks": ""
             }
            },
            "type": "scatter"
           }
          ],
          "scatter3d": [
           {
            "line": {
             "colorbar": {
              "outlinewidth": 0,
              "ticks": ""
             }
            },
            "marker": {
             "colorbar": {
              "outlinewidth": 0,
              "ticks": ""
             }
            },
            "type": "scatter3d"
           }
          ],
          "scattercarpet": [
           {
            "marker": {
             "colorbar": {
              "outlinewidth": 0,
              "ticks": ""
             }
            },
            "type": "scattercarpet"
           }
          ],
          "scattergeo": [
           {
            "marker": {
             "colorbar": {
              "outlinewidth": 0,
              "ticks": ""
             }
            },
            "type": "scattergeo"
           }
          ],
          "scattergl": [
           {
            "marker": {
             "colorbar": {
              "outlinewidth": 0,
              "ticks": ""
             }
            },
            "type": "scattergl"
           }
          ],
          "scattermapbox": [
           {
            "marker": {
             "colorbar": {
              "outlinewidth": 0,
              "ticks": ""
             }
            },
            "type": "scattermapbox"
           }
          ],
          "scatterpolar": [
           {
            "marker": {
             "colorbar": {
              "outlinewidth": 0,
              "ticks": ""
             }
            },
            "type": "scatterpolar"
           }
          ],
          "scatterpolargl": [
           {
            "marker": {
             "colorbar": {
              "outlinewidth": 0,
              "ticks": ""
             }
            },
            "type": "scatterpolargl"
           }
          ],
          "scatterternary": [
           {
            "marker": {
             "colorbar": {
              "outlinewidth": 0,
              "ticks": ""
             }
            },
            "type": "scatterternary"
           }
          ],
          "surface": [
           {
            "colorbar": {
             "outlinewidth": 0,
             "ticks": ""
            },
            "colorscale": [
             [
              0,
              "#0d0887"
             ],
             [
              0.1111111111111111,
              "#46039f"
             ],
             [
              0.2222222222222222,
              "#7201a8"
             ],
             [
              0.3333333333333333,
              "#9c179e"
             ],
             [
              0.4444444444444444,
              "#bd3786"
             ],
             [
              0.5555555555555556,
              "#d8576b"
             ],
             [
              0.6666666666666666,
              "#ed7953"
             ],
             [
              0.7777777777777778,
              "#fb9f3a"
             ],
             [
              0.8888888888888888,
              "#fdca26"
             ],
             [
              1,
              "#f0f921"
             ]
            ],
            "type": "surface"
           }
          ],
          "table": [
           {
            "cells": {
             "fill": {
              "color": "#EBF0F8"
             },
             "line": {
              "color": "white"
             }
            },
            "header": {
             "fill": {
              "color": "#C8D4E3"
             },
             "line": {
              "color": "white"
             }
            },
            "type": "table"
           }
          ]
         },
         "layout": {
          "annotationdefaults": {
           "arrowcolor": "#2a3f5f",
           "arrowhead": 0,
           "arrowwidth": 1
          },
          "coloraxis": {
           "colorbar": {
            "outlinewidth": 0,
            "ticks": ""
           }
          },
          "colorscale": {
           "diverging": [
            [
             0,
             "#8e0152"
            ],
            [
             0.1,
             "#c51b7d"
            ],
            [
             0.2,
             "#de77ae"
            ],
            [
             0.3,
             "#f1b6da"
            ],
            [
             0.4,
             "#fde0ef"
            ],
            [
             0.5,
             "#f7f7f7"
            ],
            [
             0.6,
             "#e6f5d0"
            ],
            [
             0.7,
             "#b8e186"
            ],
            [
             0.8,
             "#7fbc41"
            ],
            [
             0.9,
             "#4d9221"
            ],
            [
             1,
             "#276419"
            ]
           ],
           "sequential": [
            [
             0,
             "#0d0887"
            ],
            [
             0.1111111111111111,
             "#46039f"
            ],
            [
             0.2222222222222222,
             "#7201a8"
            ],
            [
             0.3333333333333333,
             "#9c179e"
            ],
            [
             0.4444444444444444,
             "#bd3786"
            ],
            [
             0.5555555555555556,
             "#d8576b"
            ],
            [
             0.6666666666666666,
             "#ed7953"
            ],
            [
             0.7777777777777778,
             "#fb9f3a"
            ],
            [
             0.8888888888888888,
             "#fdca26"
            ],
            [
             1,
             "#f0f921"
            ]
           ],
           "sequentialminus": [
            [
             0,
             "#0d0887"
            ],
            [
             0.1111111111111111,
             "#46039f"
            ],
            [
             0.2222222222222222,
             "#7201a8"
            ],
            [
             0.3333333333333333,
             "#9c179e"
            ],
            [
             0.4444444444444444,
             "#bd3786"
            ],
            [
             0.5555555555555556,
             "#d8576b"
            ],
            [
             0.6666666666666666,
             "#ed7953"
            ],
            [
             0.7777777777777778,
             "#fb9f3a"
            ],
            [
             0.8888888888888888,
             "#fdca26"
            ],
            [
             1,
             "#f0f921"
            ]
           ]
          },
          "colorway": [
           "#636efa",
           "#EF553B",
           "#00cc96",
           "#ab63fa",
           "#FFA15A",
           "#19d3f3",
           "#FF6692",
           "#B6E880",
           "#FF97FF",
           "#FECB52"
          ],
          "font": {
           "color": "#2a3f5f"
          },
          "geo": {
           "bgcolor": "white",
           "lakecolor": "white",
           "landcolor": "#E5ECF6",
           "showlakes": true,
           "showland": true,
           "subunitcolor": "white"
          },
          "hoverlabel": {
           "align": "left"
          },
          "hovermode": "closest",
          "mapbox": {
           "style": "light"
          },
          "paper_bgcolor": "white",
          "plot_bgcolor": "#E5ECF6",
          "polar": {
           "angularaxis": {
            "gridcolor": "white",
            "linecolor": "white",
            "ticks": ""
           },
           "bgcolor": "#E5ECF6",
           "radialaxis": {
            "gridcolor": "white",
            "linecolor": "white",
            "ticks": ""
           }
          },
          "scene": {
           "xaxis": {
            "backgroundcolor": "#E5ECF6",
            "gridcolor": "white",
            "gridwidth": 2,
            "linecolor": "white",
            "showbackground": true,
            "ticks": "",
            "zerolinecolor": "white"
           },
           "yaxis": {
            "backgroundcolor": "#E5ECF6",
            "gridcolor": "white",
            "gridwidth": 2,
            "linecolor": "white",
            "showbackground": true,
            "ticks": "",
            "zerolinecolor": "white"
           },
           "zaxis": {
            "backgroundcolor": "#E5ECF6",
            "gridcolor": "white",
            "gridwidth": 2,
            "linecolor": "white",
            "showbackground": true,
            "ticks": "",
            "zerolinecolor": "white"
           }
          },
          "shapedefaults": {
           "line": {
            "color": "#2a3f5f"
           }
          },
          "ternary": {
           "aaxis": {
            "gridcolor": "white",
            "linecolor": "white",
            "ticks": ""
           },
           "baxis": {
            "gridcolor": "white",
            "linecolor": "white",
            "ticks": ""
           },
           "bgcolor": "#E5ECF6",
           "caxis": {
            "gridcolor": "white",
            "linecolor": "white",
            "ticks": ""
           }
          },
          "title": {
           "x": 0.05
          },
          "xaxis": {
           "automargin": true,
           "gridcolor": "white",
           "linecolor": "white",
           "ticks": "",
           "title": {
            "standoff": 15
           },
           "zerolinecolor": "white",
           "zerolinewidth": 2
          },
          "yaxis": {
           "automargin": true,
           "gridcolor": "white",
           "linecolor": "white",
           "ticks": "",
           "title": {
            "standoff": 15
           },
           "zerolinecolor": "white",
           "zerolinewidth": 2
          }
         }
        }
       }
      },
      "text/html": [
       "<div>\n",
       "        \n",
       "        \n",
       "            <div id=\"e5bba28e-e29e-4fc0-ac12-7b203c012e6f\" class=\"plotly-graph-div\" style=\"height:525px; width:100%;\"></div>\n",
       "            <script type=\"text/javascript\">\n",
       "                require([\"plotly\"], function(Plotly) {\n",
       "                    window.PLOTLYENV=window.PLOTLYENV || {};\n",
       "                    \n",
       "                if (document.getElementById(\"e5bba28e-e29e-4fc0-ac12-7b203c012e6f\")) {\n",
       "                    Plotly.newPlot(\n",
       "                        'e5bba28e-e29e-4fc0-ac12-7b203c012e6f',\n",
       "                        [{\"close\": [136.392, 136.383, 136.396, 136.36, 136.37, 136.408, 136.397, 136.392, 136.398, 136.37, 136.41, 136.422, 136.41, 136.404, 136.403, 136.373, 136.394, 136.39, 136.404, 136.41, 136.412, 136.415, 136.413, 136.413, 136.392, 136.408, 136.407, 136.401, 136.389, 136.395, 136.372, 136.385, 136.36, 136.37, 136.39, 136.404, 136.407, 136.398, 136.396, 136.396, 136.399, 136.392, 136.397, 136.402, 136.39, 136.378, 136.374, 136.375, 136.392, 136.398, 136.39, 136.391, 136.395, 136.374, 136.359, 136.369, 136.377, 136.391, 136.34, 136.361, 136.348, 136.344, 136.341, 136.341, 136.338, 136.32, 136.321, 136.356, 136.3, 136.305, 136.313, 136.316, 136.333, 136.327, 136.318, 136.34, 136.348, 136.354, 136.378, 136.382, 136.391, 136.399, 136.379, 136.387, 136.398, 136.406, 136.375, 136.377, 136.396, 136.39, 136.376, 136.399, 136.398, 136.415, 136.38, 136.402, 136.411, 136.381, 136.398, 136.416, 136.41, 136.398, 136.394, 136.39, 136.413, 136.416, 136.409, 136.409, 136.418, 136.411, 136.396, 136.406, 136.37, 136.36, 136.37, 136.381, 136.397, 136.383, 136.395, 136.365, 136.372, 136.398, 136.407, 136.415, 136.41, 136.4, 136.39, 136.418, 136.4, 136.405, 136.421, 136.427, 136.418, 136.406, 136.433, 136.41, 136.426, 136.405, 136.423, 136.463, 136.476, 136.481, 136.489, 136.483, 136.465, 136.462, 136.429, 136.434, 136.411, 136.418, 136.413, 136.447, 136.45, 136.45, 136.41, 136.455, 136.46, 136.472, 136.465, 136.459, 136.44, 136.468, 136.44, 136.477, 136.44, 136.424, 136.4, 136.426, 136.437, 136.433, 136.44, 136.446, 136.429, 136.416, 136.423, 136.433, 136.441, 136.447, 136.486, 136.462, 136.435, 136.403, 136.406, 136.402, 136.392, 136.43, 136.417, 136.44, 136.442, 136.439, 136.395, 136.373, 136.361, 136.362, 136.373, 136.365, 136.33, 136.347, 136.346, 136.361, 136.38, 136.385, 136.398, 136.368, 136.358, 136.339, 136.37, 136.36, 136.334, 136.306, 136.315, 136.281, 136.293, 136.314, 136.309, 136.299, 136.264, 136.249, 136.229, 136.247, 136.252, 136.277, 136.305, 136.298, 136.29, 136.25, 136.253, 136.261, 136.256, 136.282, 136.275, 136.259, 136.276, 136.256, 136.259, 136.237, 136.261, 136.288, 136.272, 136.296, 136.286, 136.319, 136.3, 136.281, 136.268, 136.234, 136.247, 136.245, 136.22, 136.235, 136.234, 136.205, 136.2, 136.158, 136.139, 136.157, 136.09, 136.06, 136.132, 136.162, 136.177, 136.179, 136.191, 136.204, 136.189, 136.156, 136.156, 136.153, 136.146, 136.139, 136.148, 136.176, 136.184, 136.205, 136.221, 136.228, 136.258, 136.263, 136.279, 136.294, 136.251, 136.256, 136.281, 136.282, 136.291, 136.268, 136.275, 136.28, 136.319, 136.361, 136.368, 136.37, 136.385, 136.392, 136.401, 136.425, 136.428, 136.41, 136.448, 136.453], \"high\": [136.404, 136.401, 136.402, 136.399, 136.402, 136.412, 136.42, 136.409, 136.403, 136.412, 136.413, 136.433, 136.425, 136.427, 136.407, 136.412, 136.394, 136.416, 136.414, 136.422, 136.422, 136.416, 136.422, 136.421, 136.416, 136.408, 136.411, 136.407, 136.437, 136.403, 136.396, 136.394, 136.4, 136.405, 136.424, 136.416, 136.409, 136.422, 136.41, 136.401, 136.405, 136.406, 136.407, 136.412, 136.402, 136.401, 136.387, 136.394, 136.396, 136.41, 136.402, 136.403, 136.404, 136.404, 136.384, 136.376, 136.382, 136.407, 136.394, 136.368, 136.365, 136.36, 136.349, 136.344, 136.347, 136.354, 136.355, 136.358, 136.358, 136.322, 136.32, 136.326, 136.341, 136.339, 136.34, 136.343, 136.364, 136.358, 136.383, 136.394, 136.396, 136.418, 136.402, 136.397, 136.403, 136.412, 136.411, 136.4, 136.4, 136.411, 136.397, 136.404, 136.408, 136.42, 136.421, 136.423, 136.429, 136.411, 136.407, 136.424, 136.43, 136.418, 136.405, 136.422, 136.418, 136.422, 136.419, 136.419, 136.421, 136.423, 136.423, 136.409, 136.419, 136.409, 136.407, 136.408, 136.405, 136.4, 136.395, 136.395, 136.38, 136.406, 136.419, 136.419, 136.43, 136.419, 136.424, 136.43, 136.438, 136.411, 136.425, 136.447, 136.441, 136.443, 136.448, 136.442, 136.437, 136.429, 136.423, 136.469, 136.5, 136.497, 136.497, 136.496, 136.495, 136.473, 136.463, 136.455, 136.441, 136.43, 136.421, 136.448, 136.451, 136.468, 136.462, 136.463, 136.48, 136.477, 136.496, 136.474, 136.477, 136.48, 136.473, 136.48, 136.483, 136.44, 136.449, 136.448, 136.439, 136.448, 136.452, 136.45, 136.447, 136.432, 136.433, 136.437, 136.448, 136.451, 136.501, 136.49, 136.473, 136.443, 136.418, 136.416, 136.41, 136.436, 136.447, 136.455, 136.464, 136.445, 136.443, 136.399, 136.373, 136.373, 136.388, 136.391, 136.379, 136.348, 136.352, 136.389, 136.382, 136.387, 136.398, 136.406, 136.371, 136.369, 136.376, 136.38, 136.399, 136.339, 136.323, 136.324, 136.295, 136.32, 136.322, 136.315, 136.302, 136.283, 136.264, 136.259, 136.26, 136.286, 136.311, 136.317, 136.307, 136.298, 136.282, 136.263, 136.279, 136.287, 136.287, 136.285, 136.276, 136.277, 136.279, 136.265, 136.265, 136.295, 136.297, 136.307, 136.3, 136.321, 136.331, 136.303, 136.297, 136.275, 136.26, 136.262, 136.255, 136.259, 136.258, 136.243, 136.219, 136.204, 136.166, 136.166, 136.16, 136.123, 136.138, 136.165, 136.192, 136.183, 136.2, 136.218, 136.219, 136.197, 136.189, 136.202, 136.173, 136.161, 136.159, 136.195, 136.211, 136.221, 136.237, 136.246, 136.26, 136.284, 136.282, 136.304, 136.282, 136.281, 136.287, 136.29, 136.302, 136.304, 136.285, 136.305, 136.324, 136.366, 136.378, 136.395, 136.402, 136.4, 136.408, 136.437, 136.436, 136.45, 136.46, 136.453], \"low\": [136.36, 136.346, 136.345, 136.358, 136.36, 136.36, 136.37, 136.36, 136.354, 136.36, 136.36, 136.38, 136.38, 136.38, 136.37, 136.35, 136.347, 136.36, 136.37, 136.37, 136.374, 136.38, 136.38, 136.38, 136.365, 136.36, 136.36, 136.36, 136.35, 136.36, 136.344, 136.349, 136.35, 136.36, 136.369, 136.37, 136.37, 136.367, 136.367, 136.36, 136.36, 136.36, 136.368, 136.36, 136.35, 136.355, 136.346, 136.35, 136.349, 136.36, 136.36, 136.364, 136.36, 136.35, 136.33, 136.33, 136.32, 136.344, 136.33, 136.325, 136.32, 136.32, 136.31, 136.308, 136.3, 136.31, 136.3, 136.3, 136.29, 136.27, 136.28, 136.28, 136.28, 136.299, 136.3, 136.297, 136.32, 136.317, 136.33, 136.349, 136.35, 136.367, 136.35, 136.34, 136.358, 136.357, 136.357, 136.35, 136.35, 136.36, 136.35, 136.36, 136.366, 136.377, 136.38, 136.38, 136.379, 136.345, 136.356, 136.37, 136.38, 136.38, 136.365, 136.37, 136.376, 136.38, 136.38, 136.38, 136.378, 136.386, 136.38, 136.37, 136.36, 136.35, 136.36, 136.35, 136.35, 136.35, 136.35, 136.33, 136.33, 136.34, 136.359, 136.37, 136.375, 136.369, 136.37, 136.38, 136.38, 136.37, 136.38, 136.39, 136.39, 136.38, 136.38, 136.386, 136.39, 136.37, 136.37, 136.386, 136.42, 136.43, 136.44, 136.44, 136.43, 136.41, 136.41, 136.39, 136.38, 136.37, 136.369, 136.38, 136.409, 136.42, 136.4, 136.41, 136.43, 136.439, 136.43, 136.427, 136.425, 136.42, 136.4, 136.41, 136.41, 136.37, 136.39, 136.39, 136.39, 136.4, 136.4, 136.41, 136.389, 136.38, 136.386, 136.393, 136.4, 136.41, 136.42, 136.427, 136.4, 136.376, 136.37, 136.37, 136.36, 136.36, 136.39, 136.39, 136.41, 136.39, 136.37, 136.34, 136.319, 136.33, 136.34, 136.34, 136.327, 136.32, 136.31, 136.317, 136.33, 136.34, 136.35, 136.34, 136.307, 136.3, 136.3, 136.336, 136.3, 136.27, 136.27, 136.25, 136.242, 136.26, 136.27, 136.27, 136.24, 136.21, 136.2, 136.2, 136.21, 136.22, 136.25, 136.27, 136.24, 136.25, 136.22, 136.22, 136.23, 136.23, 136.25, 136.22, 136.23, 136.226, 136.23, 136.2, 136.21, 136.24, 136.23, 136.25, 136.23, 136.25, 136.26, 136.25, 136.24, 136.2, 136.21, 136.21, 136.2, 136.21, 136.19, 136.16, 136.15, 136.12, 136.11, 136.108, 136.09, 136.047, 136.035, 136.1, 136.13, 136.126, 136.13, 136.127, 136.17, 136.123, 136.124, 136.14, 136.1, 136.1, 136.11, 136.109, 136.15, 136.16, 136.18, 136.2, 136.19, 136.22, 136.24, 136.27, 136.22, 136.22, 136.23, 136.23, 136.24, 136.24, 136.23, 136.25, 136.27, 136.29, 136.33, 136.34, 136.35, 136.35, 136.35, 136.38, 136.39, 136.39, 136.39, 136.453], \"open\": [136.399, 136.393, 136.384, 136.39, 136.394, 136.397, 136.409, 136.404, 136.36, 136.399, 136.398, 136.411, 136.4, 136.39, 136.407, 136.403, 136.383, 136.391, 136.41, 136.408, 136.411, 136.38, 136.416, 136.415, 136.414, 136.393, 136.38, 136.407, 136.402, 136.36, 136.37, 136.35, 136.35, 136.395, 136.4, 136.412, 136.38, 136.409, 136.38, 136.37, 136.395, 136.398, 136.37, 136.399, 136.402, 136.36, 136.386, 136.36, 136.379, 136.392, 136.397, 136.399, 136.399, 136.394, 136.36, 136.363, 136.371, 136.381, 136.394, 136.368, 136.33, 136.352, 136.344, 136.337, 136.339, 136.342, 136.35, 136.32, 136.354, 136.29, 136.313, 136.314, 136.316, 136.332, 136.333, 136.322, 136.32, 136.352, 136.354, 136.384, 136.37, 136.395, 136.397, 136.35, 136.381, 136.394, 136.411, 136.384, 136.379, 136.4, 136.391, 136.386, 136.402, 136.408, 136.413, 136.405, 136.39, 136.411, 136.383, 136.404, 136.417, 136.409, 136.405, 136.395, 136.417, 136.413, 136.38, 136.414, 136.417, 136.417, 136.421, 136.405, 136.403, 136.402, 136.384, 136.394, 136.385, 136.395, 136.387, 136.395, 136.366, 136.374, 136.401, 136.407, 136.41, 136.417, 136.38, 136.414, 136.419, 136.38, 136.402, 136.423, 136.435, 136.4, 136.417, 136.429, 136.42, 136.428, 136.403, 136.419, 136.43, 136.47, 136.473, 136.483, 136.486, 136.465, 136.43, 136.434, 136.432, 136.408, 136.415, 136.417, 136.448, 136.451, 136.449, 136.444, 136.463, 136.45, 136.473, 136.465, 136.463, 136.47, 136.473, 136.442, 136.476, 136.439, 136.4, 136.43, 136.426, 136.41, 136.41, 136.444, 136.44, 136.41, 136.422, 136.431, 136.432, 136.441, 136.448, 136.489, 136.461, 136.438, 136.411, 136.408, 136.403, 136.4, 136.434, 136.425, 136.453, 136.435, 136.437, 136.396, 136.369, 136.361, 136.363, 136.378, 136.374, 136.32, 136.342, 136.348, 136.359, 136.38, 136.382, 136.397, 136.371, 136.358, 136.339, 136.369, 136.369, 136.336, 136.306, 136.318, 136.284, 136.287, 136.317, 136.307, 136.302, 136.273, 136.249, 136.23, 136.247, 136.252, 136.277, 136.307, 136.305, 136.295, 136.28, 136.254, 136.261, 136.261, 136.286, 136.25, 136.26, 136.275, 136.256, 136.265, 136.244, 136.262, 136.296, 136.277, 136.3, 136.285, 136.317, 136.27, 136.283, 136.268, 136.242, 136.22, 136.253, 136.252, 136.243, 136.239, 136.18, 136.17, 136.158, 136.144, 136.159, 136.123, 136.09, 136.129, 136.13, 136.182, 136.178, 136.17, 136.18, 136.19, 136.164, 136.165, 136.159, 136.154, 136.149, 136.13, 136.177, 136.184, 136.211, 136.232, 136.231, 136.26, 136.271, 136.292, 136.282, 136.259, 136.254, 136.275, 136.275, 136.284, 136.264, 136.283, 136.301, 136.325, 136.357, 136.368, 136.385, 136.378, 136.401, 136.408, 136.418, 136.42, 136.435, 136.453], \"type\": \"candlestick\", \"x\": [\"2020-07-30T04:02:00+01:00\", \"2020-07-30T04:03:00+01:00\", \"2020-07-30T04:04:00+01:00\", \"2020-07-30T04:05:00+01:00\", \"2020-07-30T04:06:00+01:00\", \"2020-07-30T04:07:00+01:00\", \"2020-07-30T04:08:00+01:00\", \"2020-07-30T04:09:00+01:00\", \"2020-07-30T04:10:00+01:00\", \"2020-07-30T04:11:00+01:00\", \"2020-07-30T04:12:00+01:00\", \"2020-07-30T04:13:00+01:00\", \"2020-07-30T04:14:00+01:00\", \"2020-07-30T04:15:00+01:00\", \"2020-07-30T04:16:00+01:00\", \"2020-07-30T04:17:00+01:00\", \"2020-07-30T04:18:00+01:00\", \"2020-07-30T04:19:00+01:00\", \"2020-07-30T04:20:00+01:00\", \"2020-07-30T04:21:00+01:00\", \"2020-07-30T04:22:00+01:00\", \"2020-07-30T04:23:00+01:00\", \"2020-07-30T04:24:00+01:00\", \"2020-07-30T04:25:00+01:00\", \"2020-07-30T04:26:00+01:00\", \"2020-07-30T04:27:00+01:00\", \"2020-07-30T04:28:00+01:00\", \"2020-07-30T04:29:00+01:00\", \"2020-07-30T04:30:00+01:00\", \"2020-07-30T04:31:00+01:00\", \"2020-07-30T04:32:00+01:00\", \"2020-07-30T04:33:00+01:00\", \"2020-07-30T04:34:00+01:00\", \"2020-07-30T04:35:00+01:00\", \"2020-07-30T04:36:00+01:00\", \"2020-07-30T04:37:00+01:00\", \"2020-07-30T04:38:00+01:00\", \"2020-07-30T04:39:00+01:00\", \"2020-07-30T04:40:00+01:00\", \"2020-07-30T04:41:00+01:00\", \"2020-07-30T04:42:00+01:00\", \"2020-07-30T04:43:00+01:00\", \"2020-07-30T04:44:00+01:00\", \"2020-07-30T04:45:00+01:00\", \"2020-07-30T04:46:00+01:00\", \"2020-07-30T04:47:00+01:00\", \"2020-07-30T04:48:00+01:00\", \"2020-07-30T04:49:00+01:00\", \"2020-07-30T04:50:00+01:00\", \"2020-07-30T04:51:00+01:00\", \"2020-07-30T04:52:00+01:00\", \"2020-07-30T04:53:00+01:00\", \"2020-07-30T04:54:00+01:00\", \"2020-07-30T04:55:00+01:00\", \"2020-07-30T04:56:00+01:00\", \"2020-07-30T04:57:00+01:00\", \"2020-07-30T04:58:00+01:00\", \"2020-07-30T04:59:00+01:00\", \"2020-07-30T05:00:00+01:00\", \"2020-07-30T05:01:00+01:00\", \"2020-07-30T05:02:00+01:00\", \"2020-07-30T05:03:00+01:00\", \"2020-07-30T05:04:00+01:00\", \"2020-07-30T05:05:00+01:00\", \"2020-07-30T05:06:00+01:00\", \"2020-07-30T05:07:00+01:00\", \"2020-07-30T05:08:00+01:00\", \"2020-07-30T05:09:00+01:00\", \"2020-07-30T05:10:00+01:00\", \"2020-07-30T05:11:00+01:00\", \"2020-07-30T05:12:00+01:00\", \"2020-07-30T05:13:00+01:00\", \"2020-07-30T05:14:00+01:00\", \"2020-07-30T05:15:00+01:00\", \"2020-07-30T05:16:00+01:00\", \"2020-07-30T05:17:00+01:00\", \"2020-07-30T05:18:00+01:00\", \"2020-07-30T05:19:00+01:00\", \"2020-07-30T05:20:00+01:00\", \"2020-07-30T05:21:00+01:00\", \"2020-07-30T05:22:00+01:00\", \"2020-07-30T05:23:00+01:00\", \"2020-07-30T05:24:00+01:00\", \"2020-07-30T05:25:00+01:00\", \"2020-07-30T05:26:00+01:00\", \"2020-07-30T05:27:00+01:00\", \"2020-07-30T05:28:00+01:00\", \"2020-07-30T05:29:00+01:00\", \"2020-07-30T05:30:00+01:00\", \"2020-07-30T05:31:00+01:00\", \"2020-07-30T05:32:00+01:00\", \"2020-07-30T05:33:00+01:00\", \"2020-07-30T05:34:00+01:00\", \"2020-07-30T05:35:00+01:00\", \"2020-07-30T05:36:00+01:00\", \"2020-07-30T05:37:00+01:00\", \"2020-07-30T05:38:00+01:00\", \"2020-07-30T05:39:00+01:00\", \"2020-07-30T05:40:00+01:00\", \"2020-07-30T05:41:00+01:00\", \"2020-07-30T05:42:00+01:00\", \"2020-07-30T05:43:00+01:00\", \"2020-07-30T05:44:00+01:00\", \"2020-07-30T05:45:00+01:00\", \"2020-07-30T05:46:00+01:00\", \"2020-07-30T05:47:00+01:00\", \"2020-07-30T05:48:00+01:00\", \"2020-07-30T05:49:00+01:00\", \"2020-07-30T05:50:00+01:00\", \"2020-07-30T05:51:00+01:00\", \"2020-07-30T05:52:00+01:00\", \"2020-07-30T05:53:00+01:00\", \"2020-07-30T05:54:00+01:00\", \"2020-07-30T05:55:00+01:00\", \"2020-07-30T05:56:00+01:00\", \"2020-07-30T05:57:00+01:00\", \"2020-07-30T05:58:00+01:00\", \"2020-07-30T05:59:00+01:00\", \"2020-07-30T06:00:00+01:00\", \"2020-07-30T06:01:00+01:00\", \"2020-07-30T06:02:00+01:00\", \"2020-07-30T06:03:00+01:00\", \"2020-07-30T06:04:00+01:00\", \"2020-07-30T06:05:00+01:00\", \"2020-07-30T06:06:00+01:00\", \"2020-07-30T06:07:00+01:00\", \"2020-07-30T06:08:00+01:00\", \"2020-07-30T06:09:00+01:00\", \"2020-07-30T06:10:00+01:00\", \"2020-07-30T06:11:00+01:00\", \"2020-07-30T06:12:00+01:00\", \"2020-07-30T06:13:00+01:00\", \"2020-07-30T06:14:00+01:00\", \"2020-07-30T06:15:00+01:00\", \"2020-07-30T06:16:00+01:00\", \"2020-07-30T06:17:00+01:00\", \"2020-07-30T06:18:00+01:00\", \"2020-07-30T06:19:00+01:00\", \"2020-07-30T06:20:00+01:00\", \"2020-07-30T06:21:00+01:00\", \"2020-07-30T06:22:00+01:00\", \"2020-07-30T06:23:00+01:00\", \"2020-07-30T06:24:00+01:00\", \"2020-07-30T06:25:00+01:00\", \"2020-07-30T06:26:00+01:00\", \"2020-07-30T06:27:00+01:00\", \"2020-07-30T06:28:00+01:00\", \"2020-07-30T06:29:00+01:00\", \"2020-07-30T06:30:00+01:00\", \"2020-07-30T06:31:00+01:00\", \"2020-07-30T06:32:00+01:00\", \"2020-07-30T06:33:00+01:00\", \"2020-07-30T06:34:00+01:00\", \"2020-07-30T06:35:00+01:00\", \"2020-07-30T06:36:00+01:00\", \"2020-07-30T06:37:00+01:00\", \"2020-07-30T06:38:00+01:00\", \"2020-07-30T06:39:00+01:00\", \"2020-07-30T06:40:00+01:00\", \"2020-07-30T06:41:00+01:00\", \"2020-07-30T06:42:00+01:00\", \"2020-07-30T06:43:00+01:00\", \"2020-07-30T06:44:00+01:00\", \"2020-07-30T06:45:00+01:00\", \"2020-07-30T06:46:00+01:00\", \"2020-07-30T06:47:00+01:00\", \"2020-07-30T06:48:00+01:00\", \"2020-07-30T06:49:00+01:00\", \"2020-07-30T06:50:00+01:00\", \"2020-07-30T06:51:00+01:00\", \"2020-07-30T06:52:00+01:00\", \"2020-07-30T06:53:00+01:00\", \"2020-07-30T06:54:00+01:00\", \"2020-07-30T06:55:00+01:00\", \"2020-07-30T06:56:00+01:00\", \"2020-07-30T06:57:00+01:00\", \"2020-07-30T06:58:00+01:00\", \"2020-07-30T06:59:00+01:00\", \"2020-07-30T07:00:00+01:00\", \"2020-07-30T07:01:00+01:00\", \"2020-07-30T07:02:00+01:00\", \"2020-07-30T07:03:00+01:00\", \"2020-07-30T07:04:00+01:00\", \"2020-07-30T07:05:00+01:00\", \"2020-07-30T07:06:00+01:00\", \"2020-07-30T07:07:00+01:00\", \"2020-07-30T07:08:00+01:00\", \"2020-07-30T07:09:00+01:00\", \"2020-07-30T07:10:00+01:00\", \"2020-07-30T07:11:00+01:00\", \"2020-07-30T07:12:00+01:00\", \"2020-07-30T07:13:00+01:00\", \"2020-07-30T07:14:00+01:00\", \"2020-07-30T07:15:00+01:00\", \"2020-07-30T07:16:00+01:00\", \"2020-07-30T07:17:00+01:00\", \"2020-07-30T07:18:00+01:00\", \"2020-07-30T07:19:00+01:00\", \"2020-07-30T07:20:00+01:00\", \"2020-07-30T07:21:00+01:00\", \"2020-07-30T07:22:00+01:00\", \"2020-07-30T07:23:00+01:00\", \"2020-07-30T07:24:00+01:00\", \"2020-07-30T07:25:00+01:00\", \"2020-07-30T07:26:00+01:00\", \"2020-07-30T07:27:00+01:00\", \"2020-07-30T07:28:00+01:00\", \"2020-07-30T07:29:00+01:00\", \"2020-07-30T07:30:00+01:00\", \"2020-07-30T07:31:00+01:00\", \"2020-07-30T07:32:00+01:00\", \"2020-07-30T07:33:00+01:00\", \"2020-07-30T07:34:00+01:00\", \"2020-07-30T07:35:00+01:00\", \"2020-07-30T07:36:00+01:00\", \"2020-07-30T07:37:00+01:00\", \"2020-07-30T07:38:00+01:00\", \"2020-07-30T07:39:00+01:00\", \"2020-07-30T07:40:00+01:00\", \"2020-07-30T07:41:00+01:00\", \"2020-07-30T07:42:00+01:00\", \"2020-07-30T07:43:00+01:00\", \"2020-07-30T07:44:00+01:00\", \"2020-07-30T07:45:00+01:00\", \"2020-07-30T07:46:00+01:00\", \"2020-07-30T07:47:00+01:00\", \"2020-07-30T07:48:00+01:00\", \"2020-07-30T07:49:00+01:00\", \"2020-07-30T07:50:00+01:00\", \"2020-07-30T07:51:00+01:00\", \"2020-07-30T07:52:00+01:00\", \"2020-07-30T07:53:00+01:00\", \"2020-07-30T07:54:00+01:00\", \"2020-07-30T07:55:00+01:00\", \"2020-07-30T07:56:00+01:00\", \"2020-07-30T07:57:00+01:00\", \"2020-07-30T07:58:00+01:00\", \"2020-07-30T07:59:00+01:00\", \"2020-07-30T08:00:00+01:00\", \"2020-07-30T08:01:00+01:00\", \"2020-07-30T08:02:00+01:00\", \"2020-07-30T08:03:00+01:00\", \"2020-07-30T08:04:00+01:00\", \"2020-07-30T08:05:00+01:00\", \"2020-07-30T08:06:00+01:00\", \"2020-07-30T08:07:00+01:00\", \"2020-07-30T08:08:00+01:00\", \"2020-07-30T08:09:00+01:00\", \"2020-07-30T08:10:00+01:00\", \"2020-07-30T08:11:00+01:00\", \"2020-07-30T08:12:00+01:00\", \"2020-07-30T08:13:00+01:00\", \"2020-07-30T08:14:00+01:00\", \"2020-07-30T08:15:00+01:00\", \"2020-07-30T08:16:00+01:00\", \"2020-07-30T08:17:00+01:00\", \"2020-07-30T08:18:00+01:00\", \"2020-07-30T08:19:00+01:00\", \"2020-07-30T08:20:00+01:00\", \"2020-07-30T08:21:00+01:00\", \"2020-07-30T08:22:00+01:00\", \"2020-07-30T08:23:00+01:00\", \"2020-07-30T08:24:00+01:00\", \"2020-07-30T08:25:00+01:00\", \"2020-07-30T08:26:00+01:00\", \"2020-07-30T08:27:00+01:00\", \"2020-07-30T08:28:00+01:00\", \"2020-07-30T08:29:00+01:00\", \"2020-07-30T08:30:00+01:00\", \"2020-07-30T08:31:00+01:00\", \"2020-07-30T08:32:00+01:00\", \"2020-07-30T08:33:00+01:00\", \"2020-07-30T08:34:00+01:00\", \"2020-07-30T08:35:00+01:00\", \"2020-07-30T08:36:00+01:00\", \"2020-07-30T08:37:00+01:00\", \"2020-07-30T08:38:00+01:00\", \"2020-07-30T08:39:00+01:00\", \"2020-07-30T08:40:00+01:00\", \"2020-07-30T08:41:00+01:00\", \"2020-07-30T08:42:00+01:00\", \"2020-07-30T08:43:00+01:00\", \"2020-07-30T08:44:00+01:00\", \"2020-07-30T08:45:00+01:00\", \"2020-07-30T08:46:00+01:00\", \"2020-07-30T08:47:00+01:00\", \"2020-07-30T08:48:00+01:00\", \"2020-07-30T08:49:00+01:00\", \"2020-07-30T08:50:00+01:00\", \"2020-07-30T08:51:00+01:00\", \"2020-07-30T08:52:00+01:00\", \"2020-07-30T08:53:00+01:00\", \"2020-07-30T08:54:00+01:00\", \"2020-07-30T08:55:00+01:00\", \"2020-07-30T08:56:00+01:00\", \"2020-07-30T08:57:00+01:00\", \"2020-07-30T08:58:00+01:00\", \"2020-07-30T08:59:00+01:00\", \"2020-07-30T09:00:00+01:00\", \"2020-07-30T09:01:18+01:00\"]}, {\"marker\": {\"size\": [5.850071310997009, 8.199900388717651, 9.131371974945068, 9.231305122375488, 8.861225843429565, 9.577248096466064, 6.094706058502197, 8.597895503044128, 9.9909508228302, 9.91978645324707, 7.124204039573669, 7.765833735466003, 4.579845070838928, 9.332726001739502, 3.4945011138916016, 6.395101547241211, 9.211232662200928, 8.427375555038452, 5.955345034599304, 7.191205024719238], \"symbol\": \"triangle-down\"}, \"mode\": \"markers\", \"name\": \"Down\", \"type\": \"scatter\", \"x\": [\"2020-07-30T05:54:00+01:00\", \"2020-07-30T05:55:00+01:00\", \"2020-07-30T05:56:00+01:00\", \"2020-07-30T05:57:00+01:00\", \"2020-07-30T05:58:00+01:00\", \"2020-07-30T05:59:00+01:00\", \"2020-07-30T06:09:00+01:00\", \"2020-07-30T06:10:00+01:00\", \"2020-07-30T06:13:00+01:00\", \"2020-07-30T06:14:00+01:00\", \"2020-07-30T06:15:00+01:00\", \"2020-07-30T06:30:00+01:00\", \"2020-07-30T06:34:00+01:00\", \"2020-07-30T06:40:00+01:00\", \"2020-07-30T07:07:00+01:00\", \"2020-07-30T07:54:00+01:00\", \"2020-07-30T08:05:00+01:00\", \"2020-07-30T08:06:00+01:00\", \"2020-07-30T08:18:00+01:00\", \"2020-07-30T08:30:00+01:00\"], \"y\": [136.37, 136.36, 136.37, 136.381, 136.397, 136.383, 136.418, 136.4, 136.427, 136.418, 136.406, 136.411, 136.45, 136.465, 136.43, 136.276, 136.281, 136.268, 136.09, 136.146]}, {\"marker\": {\"size\": [3.8800716400146484, 9.671328067779541, 5.716752409934998, 8.219658732414246, 8.184022903442383, 9.982402324676514, 6.820951700210571, 4.421249032020569, 5.119415521621704, 6.6006797552108765, 7.587475776672363, 7.110356092453003, 4.332624673843384, 5.927591323852539, 9.60948646068573, 9.84478235244751], \"symbol\": \"triangle-up\"}, \"mode\": \"markers\", \"name\": \"Up\", \"type\": \"scatter\", \"x\": [\"2020-07-30T06:00:00+01:00\", \"2020-07-30T06:08:00+01:00\", \"2020-07-30T06:22:00+01:00\", \"2020-07-30T06:32:00+01:00\", \"2020-07-30T07:09:00+01:00\", \"2020-07-30T07:10:00+01:00\", \"2020-07-30T07:13:00+01:00\", \"2020-07-30T07:20:00+01:00\", \"2020-07-30T07:35:00+01:00\", \"2020-07-30T07:46:00+01:00\", \"2020-07-30T07:47:00+01:00\", \"2020-07-30T07:48:00+01:00\", \"2020-07-30T07:49:00+01:00\", \"2020-07-30T07:50:00+01:00\", \"2020-07-30T08:14:00+01:00\", \"2020-07-30T08:40:00+01:00\"], \"y\": [136.395, 136.39, 136.476, 136.413, 136.44, 136.442, 136.373, 136.346, 136.314, 136.29, 136.25, 136.253, 136.261, 136.256, 136.2, 136.279]}],\n",
       "                        {\"template\": {\"data\": {\"bar\": [{\"error_x\": {\"color\": \"#2a3f5f\"}, \"error_y\": {\"color\": \"#2a3f5f\"}, \"marker\": {\"line\": {\"color\": \"#E5ECF6\", \"width\": 0.5}}, \"type\": \"bar\"}], \"barpolar\": [{\"marker\": {\"line\": {\"color\": \"#E5ECF6\", \"width\": 0.5}}, \"type\": \"barpolar\"}], \"carpet\": [{\"aaxis\": {\"endlinecolor\": \"#2a3f5f\", \"gridcolor\": \"white\", \"linecolor\": \"white\", \"minorgridcolor\": \"white\", \"startlinecolor\": \"#2a3f5f\"}, \"baxis\": {\"endlinecolor\": \"#2a3f5f\", \"gridcolor\": \"white\", \"linecolor\": \"white\", \"minorgridcolor\": \"white\", \"startlinecolor\": \"#2a3f5f\"}, \"type\": \"carpet\"}], \"choropleth\": [{\"colorbar\": {\"outlinewidth\": 0, \"ticks\": \"\"}, \"type\": \"choropleth\"}], \"contour\": [{\"colorbar\": {\"outlinewidth\": 0, \"ticks\": \"\"}, \"colorscale\": [[0.0, \"#0d0887\"], [0.1111111111111111, \"#46039f\"], [0.2222222222222222, \"#7201a8\"], [0.3333333333333333, \"#9c179e\"], [0.4444444444444444, \"#bd3786\"], [0.5555555555555556, \"#d8576b\"], [0.6666666666666666, \"#ed7953\"], [0.7777777777777778, \"#fb9f3a\"], [0.8888888888888888, \"#fdca26\"], [1.0, \"#f0f921\"]], \"type\": \"contour\"}], \"contourcarpet\": [{\"colorbar\": {\"outlinewidth\": 0, \"ticks\": \"\"}, \"type\": \"contourcarpet\"}], \"heatmap\": [{\"colorbar\": {\"outlinewidth\": 0, \"ticks\": \"\"}, \"colorscale\": [[0.0, \"#0d0887\"], [0.1111111111111111, \"#46039f\"], [0.2222222222222222, \"#7201a8\"], [0.3333333333333333, \"#9c179e\"], [0.4444444444444444, \"#bd3786\"], [0.5555555555555556, \"#d8576b\"], [0.6666666666666666, \"#ed7953\"], [0.7777777777777778, \"#fb9f3a\"], [0.8888888888888888, \"#fdca26\"], [1.0, \"#f0f921\"]], \"type\": \"heatmap\"}], \"heatmapgl\": [{\"colorbar\": {\"outlinewidth\": 0, \"ticks\": \"\"}, \"colorscale\": [[0.0, \"#0d0887\"], [0.1111111111111111, \"#46039f\"], [0.2222222222222222, \"#7201a8\"], [0.3333333333333333, \"#9c179e\"], [0.4444444444444444, \"#bd3786\"], [0.5555555555555556, \"#d8576b\"], [0.6666666666666666, \"#ed7953\"], [0.7777777777777778, \"#fb9f3a\"], [0.8888888888888888, \"#fdca26\"], [1.0, \"#f0f921\"]], \"type\": \"heatmapgl\"}], \"histogram\": [{\"marker\": {\"colorbar\": {\"outlinewidth\": 0, \"ticks\": \"\"}}, \"type\": \"histogram\"}], \"histogram2d\": [{\"colorbar\": {\"outlinewidth\": 0, \"ticks\": \"\"}, \"colorscale\": [[0.0, \"#0d0887\"], [0.1111111111111111, \"#46039f\"], [0.2222222222222222, \"#7201a8\"], [0.3333333333333333, \"#9c179e\"], [0.4444444444444444, \"#bd3786\"], [0.5555555555555556, \"#d8576b\"], [0.6666666666666666, \"#ed7953\"], [0.7777777777777778, \"#fb9f3a\"], [0.8888888888888888, \"#fdca26\"], [1.0, \"#f0f921\"]], \"type\": \"histogram2d\"}], \"histogram2dcontour\": [{\"colorbar\": {\"outlinewidth\": 0, \"ticks\": \"\"}, \"colorscale\": [[0.0, \"#0d0887\"], [0.1111111111111111, \"#46039f\"], [0.2222222222222222, \"#7201a8\"], [0.3333333333333333, \"#9c179e\"], [0.4444444444444444, \"#bd3786\"], [0.5555555555555556, \"#d8576b\"], [0.6666666666666666, \"#ed7953\"], [0.7777777777777778, \"#fb9f3a\"], [0.8888888888888888, \"#fdca26\"], [1.0, \"#f0f921\"]], \"type\": \"histogram2dcontour\"}], \"mesh3d\": [{\"colorbar\": {\"outlinewidth\": 0, \"ticks\": \"\"}, \"type\": \"mesh3d\"}], \"parcoords\": [{\"line\": {\"colorbar\": {\"outlinewidth\": 0, \"ticks\": \"\"}}, \"type\": \"parcoords\"}], \"pie\": [{\"automargin\": true, \"type\": \"pie\"}], \"scatter\": [{\"marker\": {\"colorbar\": {\"outlinewidth\": 0, \"ticks\": \"\"}}, \"type\": \"scatter\"}], \"scatter3d\": [{\"line\": {\"colorbar\": {\"outlinewidth\": 0, \"ticks\": \"\"}}, \"marker\": {\"colorbar\": {\"outlinewidth\": 0, \"ticks\": \"\"}}, \"type\": \"scatter3d\"}], \"scattercarpet\": [{\"marker\": {\"colorbar\": {\"outlinewidth\": 0, \"ticks\": \"\"}}, \"type\": \"scattercarpet\"}], \"scattergeo\": [{\"marker\": {\"colorbar\": {\"outlinewidth\": 0, \"ticks\": \"\"}}, \"type\": \"scattergeo\"}], \"scattergl\": [{\"marker\": {\"colorbar\": {\"outlinewidth\": 0, \"ticks\": \"\"}}, \"type\": \"scattergl\"}], \"scattermapbox\": [{\"marker\": {\"colorbar\": {\"outlinewidth\": 0, \"ticks\": \"\"}}, \"type\": \"scattermapbox\"}], \"scatterpolar\": [{\"marker\": {\"colorbar\": {\"outlinewidth\": 0, \"ticks\": \"\"}}, \"type\": \"scatterpolar\"}], \"scatterpolargl\": [{\"marker\": {\"colorbar\": {\"outlinewidth\": 0, \"ticks\": \"\"}}, \"type\": \"scatterpolargl\"}], \"scatterternary\": [{\"marker\": {\"colorbar\": {\"outlinewidth\": 0, \"ticks\": \"\"}}, \"type\": \"scatterternary\"}], \"surface\": [{\"colorbar\": {\"outlinewidth\": 0, \"ticks\": \"\"}, \"colorscale\": [[0.0, \"#0d0887\"], [0.1111111111111111, \"#46039f\"], [0.2222222222222222, \"#7201a8\"], [0.3333333333333333, \"#9c179e\"], [0.4444444444444444, \"#bd3786\"], [0.5555555555555556, \"#d8576b\"], [0.6666666666666666, \"#ed7953\"], [0.7777777777777778, \"#fb9f3a\"], [0.8888888888888888, \"#fdca26\"], [1.0, \"#f0f921\"]], \"type\": \"surface\"}], \"table\": [{\"cells\": {\"fill\": {\"color\": \"#EBF0F8\"}, \"line\": {\"color\": \"white\"}}, \"header\": {\"fill\": {\"color\": \"#C8D4E3\"}, \"line\": {\"color\": \"white\"}}, \"type\": \"table\"}]}, \"layout\": {\"annotationdefaults\": {\"arrowcolor\": \"#2a3f5f\", \"arrowhead\": 0, \"arrowwidth\": 1}, \"coloraxis\": {\"colorbar\": {\"outlinewidth\": 0, \"ticks\": \"\"}}, \"colorscale\": {\"diverging\": [[0, \"#8e0152\"], [0.1, \"#c51b7d\"], [0.2, \"#de77ae\"], [0.3, \"#f1b6da\"], [0.4, \"#fde0ef\"], [0.5, \"#f7f7f7\"], [0.6, \"#e6f5d0\"], [0.7, \"#b8e186\"], [0.8, \"#7fbc41\"], [0.9, \"#4d9221\"], [1, \"#276419\"]], \"sequential\": [[0.0, \"#0d0887\"], [0.1111111111111111, \"#46039f\"], [0.2222222222222222, \"#7201a8\"], [0.3333333333333333, \"#9c179e\"], [0.4444444444444444, \"#bd3786\"], [0.5555555555555556, \"#d8576b\"], [0.6666666666666666, \"#ed7953\"], [0.7777777777777778, \"#fb9f3a\"], [0.8888888888888888, \"#fdca26\"], [1.0, \"#f0f921\"]], \"sequentialminus\": [[0.0, \"#0d0887\"], [0.1111111111111111, \"#46039f\"], [0.2222222222222222, \"#7201a8\"], [0.3333333333333333, \"#9c179e\"], [0.4444444444444444, \"#bd3786\"], [0.5555555555555556, \"#d8576b\"], [0.6666666666666666, \"#ed7953\"], [0.7777777777777778, \"#fb9f3a\"], [0.8888888888888888, \"#fdca26\"], [1.0, \"#f0f921\"]]}, \"colorway\": [\"#636efa\", \"#EF553B\", \"#00cc96\", \"#ab63fa\", \"#FFA15A\", \"#19d3f3\", \"#FF6692\", \"#B6E880\", \"#FF97FF\", \"#FECB52\"], \"font\": {\"color\": \"#2a3f5f\"}, \"geo\": {\"bgcolor\": \"white\", \"lakecolor\": \"white\", \"landcolor\": \"#E5ECF6\", \"showlakes\": true, \"showland\": true, \"subunitcolor\": \"white\"}, \"hoverlabel\": {\"align\": \"left\"}, \"hovermode\": \"closest\", \"mapbox\": {\"style\": \"light\"}, \"paper_bgcolor\": \"white\", \"plot_bgcolor\": \"#E5ECF6\", \"polar\": {\"angularaxis\": {\"gridcolor\": \"white\", \"linecolor\": \"white\", \"ticks\": \"\"}, \"bgcolor\": \"#E5ECF6\", \"radialaxis\": {\"gridcolor\": \"white\", \"linecolor\": \"white\", \"ticks\": \"\"}}, \"scene\": {\"xaxis\": {\"backgroundcolor\": \"#E5ECF6\", \"gridcolor\": \"white\", \"gridwidth\": 2, \"linecolor\": \"white\", \"showbackground\": true, \"ticks\": \"\", \"zerolinecolor\": \"white\"}, \"yaxis\": {\"backgroundcolor\": \"#E5ECF6\", \"gridcolor\": \"white\", \"gridwidth\": 2, \"linecolor\": \"white\", \"showbackground\": true, \"ticks\": \"\", \"zerolinecolor\": \"white\"}, \"zaxis\": {\"backgroundcolor\": \"#E5ECF6\", \"gridcolor\": \"white\", \"gridwidth\": 2, \"linecolor\": \"white\", \"showbackground\": true, \"ticks\": \"\", \"zerolinecolor\": \"white\"}}, \"shapedefaults\": {\"line\": {\"color\": \"#2a3f5f\"}}, \"ternary\": {\"aaxis\": {\"gridcolor\": \"white\", \"linecolor\": \"white\", \"ticks\": \"\"}, \"baxis\": {\"gridcolor\": \"white\", \"linecolor\": \"white\", \"ticks\": \"\"}, \"bgcolor\": \"#E5ECF6\", \"caxis\": {\"gridcolor\": \"white\", \"linecolor\": \"white\", \"ticks\": \"\"}}, \"title\": {\"x\": 0.05}, \"xaxis\": {\"automargin\": true, \"gridcolor\": \"white\", \"linecolor\": \"white\", \"ticks\": \"\", \"title\": {\"standoff\": 15}, \"zerolinecolor\": \"white\", \"zerolinewidth\": 2}, \"yaxis\": {\"automargin\": true, \"gridcolor\": \"white\", \"linecolor\": \"white\", \"ticks\": \"\", \"title\": {\"standoff\": 15}, \"zerolinecolor\": \"white\", \"zerolinewidth\": 2}}}},\n",
       "                        {\"responsive\": true}\n",
       "                    ).then(function(){\n",
       "                            \n",
       "var gd = document.getElementById('e5bba28e-e29e-4fc0-ac12-7b203c012e6f');\n",
       "var x = new MutationObserver(function (mutations, observer) {{\n",
       "        var display = window.getComputedStyle(gd).display;\n",
       "        if (!display || display === 'none') {{\n",
       "            console.log([gd, 'removed!']);\n",
       "            Plotly.purge(gd);\n",
       "            observer.disconnect();\n",
       "        }}\n",
       "}});\n",
       "\n",
       "// Listen for the removal of the full notebook cells\n",
       "var notebookContainer = gd.closest('#notebook-container');\n",
       "if (notebookContainer) {{\n",
       "    x.observe(notebookContainer, {childList: true});\n",
       "}}\n",
       "\n",
       "// Listen for the clearing of the current output cell\n",
       "var outputEl = gd.closest('.output');\n",
       "if (outputEl) {{\n",
       "    x.observe(outputEl, {childList: true});\n",
       "}}\n",
       "\n",
       "                        })\n",
       "                };\n",
       "                });\n",
       "            </script>\n",
       "        </div>"
      ]
     },
     "metadata": {},
     "output_type": "display_data"
    }
   ],
   "source": [
    "import plotly.graph_objects as go\n",
    "\n",
    "fig = go.Figure()\n",
    "\n",
    "# Add traces\n",
    "fig.add_trace(go.Candlestick(x=results.index,\n",
    "                open=results['Open'],\n",
    "                high=results['High'],\n",
    "                low=results['Low'],\n",
    "                close=results['Close']))\n",
    "fig.add_trace(go.Scatter(x=results[results['Indicator']==0].index,\n",
    "                         y=results[results['Indicator']==0]['Price'],\n",
    "                    mode='markers',\n",
    "                    name='Down',\n",
    "                    marker=dict(\n",
    "                        size=results[results['Indicator']==0]['Strength']*10\n",
    "                    ),\n",
    "                        marker_symbol='triangle-down'))\n",
    "fig.add_trace(go.Scatter(x=results[results['Indicator']==2].index,\n",
    "                         y=results[results['Indicator']==2]['Price'],\n",
    "                    mode='markers',\n",
    "                    name='Up',\n",
    "                    marker=dict(\n",
    "                        size=results[results['Indicator']==2]['Strength']*10\n",
    "                    ),\n",
    "                        marker_symbol='triangle-up'))\n",
    "\n",
    "\n",
    "\n",
    "fig.show()"
   ]
  },
  {
   "cell_type": "code",
   "execution_count": 38,
   "metadata": {},
   "outputs": [],
   "source": [
    "import os\n",
    "os.environ[\"KERAS_BACKEND\"] = \"plaidml.keras.backend\"\n",
    "\n",
    "from keras import backend as K\n",
    "from keras.models import Sequential, Model\n",
    "from keras.layers import Input, LSTM, RepeatVector, Flatten, Dense, Dropout, Lambda\n",
    "from keras.optimizers import SGD, RMSprop, Adam\n",
    "from keras.losses import MSE\n",
    "\n",
    "\n",
    "def create_lstm_vae(input_dim, \n",
    "    timesteps, \n",
    "    batch_size, \n",
    "    intermediate_dim, \n",
    "    latent_dim,\n",
    "    epsilon_std=1.):\n",
    "\n",
    "    \"\"\"\n",
    "    Creates an LSTM Variational Autoencoder (VAE). Returns VAE, Encoder, Generator. \n",
    "    # Arguments\n",
    "        input_dim: int.\n",
    "        timesteps: int, input timestep dimension.\n",
    "        batch_size: int.\n",
    "        intermediate_dim: int, output shape of LSTM. \n",
    "        latent_dim: int, latent z-layer shape. \n",
    "        epsilon_std: float, z-layer sigma.\n",
    "    # References\n",
    "        - [Building Autoencoders in Keras](https://blog.keras.io/building-autoencoders-in-keras.html)\n",
    "        - [Generating sentences from a continuous space](https://arxiv.org/abs/1511.06349)\n",
    "    \"\"\"\n",
    "    x = Input(shape=(timesteps, input_dim))\n",
    "\n",
    "    # LSTM encoding\n",
    "    h = LSTM(intermediate_dim)(x)\n",
    "\n",
    "    # VAE Z layer\n",
    "    z_mean = Dense(latent_dim)(h)\n",
    "    z_log_sigma = Dense(latent_dim)(h)\n",
    "    \n",
    "    def sampling(args):\n",
    "        z_mean, z_log_sigma = args\n",
    "        epsilon = K.random_normal(shape=(batch_size, latent_dim),\n",
    "                                  mean=0., stddev=epsilon_std)\n",
    "        return z_mean + z_log_sigma * epsilon\n",
    "\n",
    "    # note that \"output_shape\" isn't necessary with the TensorFlow backend\n",
    "    # so you could write `Lambda(sampling)([z_mean, z_log_sigma])`\n",
    "    z = Lambda(sampling, output_shape=(latent_dim,))([z_mean, z_log_sigma])\n",
    "    \n",
    "    # decoded LSTM layer\n",
    "    decoder_h = LSTM(intermediate_dim, return_sequences=True)\n",
    "    decoder_mean = LSTM(input_dim, return_sequences=True)\n",
    "\n",
    "    h_decoded = RepeatVector(timesteps)(z)\n",
    "    h_decoded = decoder_h(h_decoded)\n",
    "\n",
    "    # decoded layer\n",
    "    x_decoded_mean = decoder_mean(h_decoded)\n",
    "    \n",
    "    # end-to-end autoencoder\n",
    "    vae = Model(x, x_decoded_mean)\n",
    "\n",
    "    # encoder, from inputs to latent space\n",
    "    encoder = Model(x, z_mean)\n",
    "\n",
    "    # generator, from latent space to reconstructed inputs\n",
    "    decoder_input = Input(shape=(latent_dim,))\n",
    "\n",
    "    _h_decoded = RepeatVector(timesteps)(decoder_input)\n",
    "    _h_decoded = decoder_h(_h_decoded)\n",
    "\n",
    "    _x_decoded_mean = decoder_mean(_h_decoded)\n",
    "    generator = Model(decoder_input, _x_decoded_mean)\n",
    "    \n",
    "    def vae_loss(x, x_decoded_mean):\n",
    "        xent_loss = MSE(x, x_decoded_mean)\n",
    "        kl_loss = - 0.5 * K.mean(1 + z_log_sigma - K.square(z_mean) - K.exp(z_log_sigma))\n",
    "        loss = xent_loss + kl_loss\n",
    "        return loss\n",
    "\n",
    "    vae.compile(optimizer='rmsprop', loss=vae_loss)\n",
    "    \n",
    "    return vae"
   ]
  },
  {
   "cell_type": "code",
   "execution_count": 46,
   "metadata": {},
   "outputs": [],
   "source": [
    "vae = create_lstm_vae(4, \n",
    "    128, \n",
    "    32, \n",
    "    10, \n",
    "    6,\n",
    "    epsilon_std=1.)"
   ]
  },
  {
   "cell_type": "code",
   "execution_count": 47,
   "metadata": {},
   "outputs": [
    {
     "name": "stdout",
     "output_type": "stream",
     "text": [
      "Model: \"model_1\"\n",
      "_________________________________________________________________\n",
      "Layer (type)                 Output Shape              Param #   \n",
      "=================================================================\n",
      "input_1 (InputLayer)         [(None, 128, 4)]          0         \n",
      "_________________________________________________________________\n",
      "lstm (LSTM)                  (None, 100)               42000     \n",
      "_________________________________________________________________\n",
      "dense (Dense)                (None, 6)                 606       \n",
      "=================================================================\n",
      "Total params: 42,606\n",
      "Trainable params: 42,606\n",
      "Non-trainable params: 0\n",
      "_________________________________________________________________\n"
     ]
    }
   ],
   "source": [
    "encoder.summary()"
   ]
  },
  {
   "cell_type": "code",
   "execution_count": 2,
   "metadata": {},
   "outputs": [
    {
     "data": {
      "text/plain": [
       "dtype('float32')"
      ]
     },
     "execution_count": 2,
     "metadata": {},
     "output_type": "execute_result"
    }
   ],
   "source": [
    "X.dtype"
   ]
  },
  {
   "cell_type": "code",
   "execution_count": 3,
   "metadata": {},
   "outputs": [],
   "source": [
    "import os\n",
    "\n",
    "from tensorflow.keras import backend as K\n",
    "from tensorflow.keras.models import Sequential, Model\n",
    "from tensorflow.keras.layers import Conv2D, Reshape,Input, LSTM, RepeatVector, Flatten, Dense, Dropout, Lambda, Multiply, Add, Concatenate, Conv1D\n",
    "from tensorflow.keras.optimizers import SGD, RMSprop, Adam\n",
    "from tensorflow.keras.losses import MSE\n",
    "from model_utils import nll, KLDivergenceLayer, relu_tanh\n"
   ]
  },
  {
   "cell_type": "code",
   "execution_count": 4,
   "metadata": {},
   "outputs": [],
   "source": [
    "ls_size = 6\n",
    "sample_length = 128\n",
    "n_features = 4\n"
   ]
  },
  {
   "cell_type": "code",
   "execution_count": 5,
   "metadata": {},
   "outputs": [],
   "source": [
    "encoder_input = Input(shape=(sample_length, n_features,1), name='encoder_input')\n",
    "\n",
    "eps = Input(tensor=K.random_normal(stddev=1.0, shape = (K.shape(encoder_input)[0], ls_size)), name='epsilon')\n",
    "decoder_input = Input(shape=(ls_size,), name='decoder_input')\n",
    "\n",
    "def build_encoder(encoder_input, eps):\n",
    "    net = Conv2D(256, 3, padding='same', activation='relu', name='encoder_conv1')(encoder_input)\n",
    "\n",
    "    net=Flatten()(net)\n",
    "\n",
    "    z_mean = Dense(ls_size, name='encoder_zmean')(net)\n",
    "\n",
    "    z_stddev = Dense(ls_size, name='encoder_zstd')(net)\n",
    "\n",
    "    z_mu, z_logvar = KLDivergenceLayer()([z_mean,z_stddev], beta=0.5)\n",
    "\n",
    "    z_sigma = Lambda(lambda t: K.exp(.5*t), name='sigma_vect')(z_logvar)\n",
    "\n",
    "    z_eps = Multiply()([z_sigma, eps])\n",
    "\n",
    "    z = Add(name='encoder_z')([z_mu, z_eps])\n",
    "    return z_mu, z_sigma, z\n",
    "\n",
    "def build_decoder(decoder_input):\n",
    "\n",
    "    dec = Dense(sample_length*n_features*256, activation='relu')(decoder_input)\n",
    "\n",
    "    dec = Reshape(target_shape=(128,4, 256))(dec)\n",
    "\n",
    "    dec = Conv2D(256, 3, padding='same', activation='relu')(dec)\n",
    "\n",
    "    dec_out = Conv2D(1, 1,activation=relu_tanh)(dec)\n",
    "    \n",
    "    return dec_out"
   ]
  },
  {
   "cell_type": "code",
   "execution_count": 6,
   "metadata": {},
   "outputs": [],
   "source": [
    "z_mu, z_sigma, z = build_encoder(encoder_input=encoder_input, eps=eps)\n",
    "\n",
    "training_dec_out = build_decoder(decoder_input=z)\n",
    "\n",
    "model_train = Model(inputs=[encoder_input, eps], outputs=[training_dec_out])\n",
    "\n",
    "decoder_out = build_decoder(decoder_input=decoder_input)\n",
    "\n",
    "model_encoder = Model(inputs=[encoder_input, eps], outputs=[z_mu, z_sigma, z])\n",
    "\n",
    "model_decoder = Model(inputs=[decoder_input], outputs = [decoder_out])\n",
    "\n",
    "\n",
    "\n",
    "\n",
    "\n",
    "\n"
   ]
  },
  {
   "cell_type": "code",
   "execution_count": 7,
   "metadata": {},
   "outputs": [
    {
     "ename": "TypeError",
     "evalue": "clip() missing 3 required positional arguments: 'x', 'min_value', and 'max_value'",
     "output_type": "error",
     "traceback": [
      "\u001b[0;31m---------------------------------------------------------------------------\u001b[0m",
      "\u001b[0;31mTypeError\u001b[0m                                 Traceback (most recent call last)",
      "\u001b[0;32m<ipython-input-7-42699298151b>\u001b[0m in \u001b[0;36m<module>\u001b[0;34m\u001b[0m\n\u001b[0;32m----> 1\u001b[0;31m \u001b[0mK\u001b[0m\u001b[0;34m.\u001b[0m\u001b[0mclip\u001b[0m\u001b[0;34m(\u001b[0m\u001b[0;34m)\u001b[0m\u001b[0;34m\u001b[0m\u001b[0;34m\u001b[0m\u001b[0m\n\u001b[0m",
      "\u001b[0;31mTypeError\u001b[0m: clip() missing 3 required positional arguments: 'x', 'min_value', and 'max_value'"
     ]
    }
   ],
   "source": [
    "K.clip()"
   ]
  },
  {
   "cell_type": "code",
   "execution_count": 8,
   "metadata": {},
   "outputs": [
    {
     "data": {
      "image/png": "[encoded data removed]",
      "text/plain": [
       "<IPython.core.display.Image object>"
      ]
     },
     "execution_count": 8,
     "metadata": {},
     "output_type": "execute_result"
    }
   ],
   "source": [
    "from IPython.display import SVG\n",
    "from tensorflow.keras.utils import plot_model\n",
    "\n",
    "plot_model(model_train, show_shapes=True)"
   ]
  },
  {
   "cell_type": "code",
   "execution_count": 9,
   "metadata": {},
   "outputs": [],
   "source": [
    "SGD_clip = SGD(lr=0.01, clipnorm=1.0)\n"
   ]
  },
  {
   "cell_type": "code",
   "execution_count": 10,
   "metadata": {},
   "outputs": [],
   "source": [
    "cust_adam = Adam(lr= 0.0005, beta_1=0.9, beta_2=0.999, epsilon=None, decay=0.0, amsgrad=False)"
   ]
  },
  {
   "cell_type": "code",
   "execution_count": 11,
   "metadata": {},
   "outputs": [],
   "source": [
    "model_train.compile(optimizer=SGD_clip, loss=nll)"
   ]
  },
  {
   "cell_type": "code",
   "execution_count": 12,
   "metadata": {},
   "outputs": [
    {
     "name": "stdout",
     "output_type": "stream",
     "text": [
      "Model: \"model\"\n",
      "__________________________________________________________________________________________________\n",
      "Layer (type)                    Output Shape         Param #     Connected to                     \n",
      "==================================================================================================\n",
      "encoder_input (InputLayer)      [(None, 128, 4, 1)]  0                                            \n",
      "__________________________________________________________________________________________________\n",
      "encoder_conv1 (Conv2D)          (None, 128, 4, 256)  2560        encoder_input[0][0]              \n",
      "__________________________________________________________________________________________________\n",
      "flatten (Flatten)               (None, 131072)       0           encoder_conv1[0][0]              \n",
      "__________________________________________________________________________________________________\n",
      "encoder_zmean (Dense)           (None, 6)            786438      flatten[0][0]                    \n",
      "__________________________________________________________________________________________________\n",
      "encoder_zstd (Dense)            (None, 6)            786438      flatten[0][0]                    \n",
      "__________________________________________________________________________________________________\n",
      "kl_divergence_layer (KLDivergen [(None, 6), (None, 6 0           encoder_zmean[0][0]              \n",
      "                                                                 encoder_zstd[0][0]               \n",
      "__________________________________________________________________________________________________\n",
      "sigma_vect (Lambda)             (None, 6)            0           kl_divergence_layer[0][1]        \n",
      "__________________________________________________________________________________________________\n",
      "epsilon (InputLayer)            [(None, 6)]          0                                            \n",
      "__________________________________________________________________________________________________\n",
      "multiply (Multiply)             (None, 6)            0           sigma_vect[0][0]                 \n",
      "                                                                 epsilon[0][0]                    \n",
      "__________________________________________________________________________________________________\n",
      "encoder_z (Add)                 (None, 6)            0           kl_divergence_layer[0][0]        \n",
      "                                                                 multiply[0][0]                   \n",
      "__________________________________________________________________________________________________\n",
      "dense (Dense)                   (None, 131072)       917504      encoder_z[0][0]                  \n",
      "__________________________________________________________________________________________________\n",
      "reshape (Reshape)               (None, 128, 4, 256)  0           dense[0][0]                      \n",
      "__________________________________________________________________________________________________\n",
      "conv2d (Conv2D)                 (None, 128, 4, 256)  590080      reshape[0][0]                    \n",
      "__________________________________________________________________________________________________\n",
      "conv2d_1 (Conv2D)               (None, 128, 4, 1)    257         conv2d[0][0]                     \n",
      "==================================================================================================\n",
      "Total params: 3,083,277\n",
      "Trainable params: 3,083,277\n",
      "Non-trainable params: 0\n",
      "__________________________________________________________________________________________________\n"
     ]
    }
   ],
   "source": [
    "model_train.summary()"
   ]
  },
  {
   "cell_type": "code",
   "execution_count": 13,
   "metadata": {},
   "outputs": [
    {
     "name": "stdout",
     "output_type": "stream",
     "text": [
      "Train on 104296 samples, validate on 26075 samples\n",
      "Epoch 1/10\n",
      "\r",
      "    32/104296 [..............................] - ETA: 2:05"
     ]
    },
    {
     "ename": "ValueError",
     "evalue": "The two structures don't have the same nested structure.\n\nFirst structure: type=list str=[<tf.Tensor 'IteratorGetNext:0' shape=(None, 128, 4, 1) dtype=float32>]\n\nSecond structure: type=list str=[tf.float32, tf.float32]\n\nMore specifically: The two structures don't have the same number of elements. First structure: type=list str=[<tf.Tensor 'IteratorGetNext:0' shape=(None, 128, 4, 1) dtype=float32>]. Second structure: type=list str=[tf.float32, tf.float32]\nEntire first structure:\n[.]\nEntire second structure:\n[., .]",
     "output_type": "error",
     "traceback": [
      "\u001b[0;31m---------------------------------------------------------------------------\u001b[0m",
      "\u001b[0;31mValueError\u001b[0m                                Traceback (most recent call last)",
      "\u001b[0;32m~/miniconda3/lib/python3.7/site-packages/tensorflow_core/python/util/nest.py\u001b[0m in \u001b[0;36massert_same_structure\u001b[0;34m(nest1, nest2, check_types, expand_composites)\u001b[0m\n\u001b[1;32m    317\u001b[0m     _pywrap_tensorflow.AssertSameStructure(nest1, nest2, check_types,\n\u001b[0;32m--> 318\u001b[0;31m                                            expand_composites)\n\u001b[0m\u001b[1;32m    319\u001b[0m   \u001b[0;32mexcept\u001b[0m \u001b[0;34m(\u001b[0m\u001b[0mValueError\u001b[0m\u001b[0;34m,\u001b[0m \u001b[0mTypeError\u001b[0m\u001b[0;34m)\u001b[0m \u001b[0;32mas\u001b[0m \u001b[0me\u001b[0m\u001b[0;34m:\u001b[0m\u001b[0;34m\u001b[0m\u001b[0;34m\u001b[0m\u001b[0m\n",
      "\u001b[0;31mValueError\u001b[0m: The two structures don't have the same nested structure.\n\nFirst structure: type=list str=[<tf.Tensor 'IteratorGetNext:0' shape=(None, 128, 4, 1) dtype=float32>]\n\nSecond structure: type=list str=[tf.float32, tf.float32]\n\nMore specifically: The two structures don't have the same number of elements. First structure: type=list str=[<tf.Tensor 'IteratorGetNext:0' shape=(None, 128, 4, 1) dtype=float32>]. Second structure: type=list str=[tf.float32, tf.float32]",
      "\nDuring handling of the above exception, another exception occurred:\n",
      "\u001b[0;31mValueError\u001b[0m                                Traceback (most recent call last)",
      "\u001b[0;32m<ipython-input-13-839fd5e9460b>\u001b[0m in \u001b[0;36m<module>\u001b[0;34m\u001b[0m\n\u001b[0;32m----> 1\u001b[0;31m \u001b[0mhistory\u001b[0m \u001b[0;34m=\u001b[0m \u001b[0mmodel_train\u001b[0m\u001b[0;34m.\u001b[0m\u001b[0mfit\u001b[0m\u001b[0;34m(\u001b[0m\u001b[0mx\u001b[0m\u001b[0;34m=\u001b[0m\u001b[0mX_train\u001b[0m\u001b[0;34m,\u001b[0m\u001b[0my\u001b[0m\u001b[0;34m=\u001b[0m\u001b[0mX_train\u001b[0m\u001b[0;34m,\u001b[0m \u001b[0mepochs\u001b[0m\u001b[0;34m=\u001b[0m\u001b[0;36m10\u001b[0m\u001b[0;34m,\u001b[0m \u001b[0mshuffle\u001b[0m\u001b[0;34m=\u001b[0m\u001b[0;32mTrue\u001b[0m\u001b[0;34m,\u001b[0m \u001b[0mbatch_size\u001b[0m\u001b[0;34m=\u001b[0m\u001b[0;36m32\u001b[0m\u001b[0;34m,\u001b[0m \u001b[0mvalidation_split\u001b[0m\u001b[0;34m=\u001b[0m\u001b[0;36m0.2\u001b[0m\u001b[0;34m)\u001b[0m\u001b[0;34m\u001b[0m\u001b[0;34m\u001b[0m\u001b[0m\n\u001b[0m",
      "\u001b[0;32m~/miniconda3/lib/python3.7/site-packages/tensorflow_core/python/keras/engine/training.py\u001b[0m in \u001b[0;36mfit\u001b[0;34m(self, x, y, batch_size, epochs, verbose, callbacks, validation_split, validation_data, shuffle, class_weight, sample_weight, initial_epoch, steps_per_epoch, validation_steps, validation_freq, max_queue_size, workers, use_multiprocessing, **kwargs)\u001b[0m\n\u001b[1;32m    726\u001b[0m         \u001b[0mmax_queue_size\u001b[0m\u001b[0;34m=\u001b[0m\u001b[0mmax_queue_size\u001b[0m\u001b[0;34m,\u001b[0m\u001b[0;34m\u001b[0m\u001b[0;34m\u001b[0m\u001b[0m\n\u001b[1;32m    727\u001b[0m         \u001b[0mworkers\u001b[0m\u001b[0;34m=\u001b[0m\u001b[0mworkers\u001b[0m\u001b[0;34m,\u001b[0m\u001b[0;34m\u001b[0m\u001b[0;34m\u001b[0m\u001b[0m\n\u001b[0;32m--> 728\u001b[0;31m         use_multiprocessing=use_multiprocessing)\n\u001b[0m\u001b[1;32m    729\u001b[0m \u001b[0;34m\u001b[0m\u001b[0m\n\u001b[1;32m    730\u001b[0m   def evaluate(self,\n",
      "\u001b[0;32m~/miniconda3/lib/python3.7/site-packages/tensorflow_core/python/keras/engine/training_v2.py\u001b[0m in \u001b[0;36mfit\u001b[0;34m(self, model, x, y, batch_size, epochs, verbose, callbacks, validation_split, validation_data, shuffle, class_weight, sample_weight, initial_epoch, steps_per_epoch, validation_steps, validation_freq, **kwargs)\u001b[0m\n\u001b[1;32m    322\u001b[0m                 \u001b[0mmode\u001b[0m\u001b[0;34m=\u001b[0m\u001b[0mModeKeys\u001b[0m\u001b[0;34m.\u001b[0m\u001b[0mTRAIN\u001b[0m\u001b[0;34m,\u001b[0m\u001b[0;34m\u001b[0m\u001b[0;34m\u001b[0m\u001b[0m\n\u001b[1;32m    323\u001b[0m                 \u001b[0mtraining_context\u001b[0m\u001b[0;34m=\u001b[0m\u001b[0mtraining_context\u001b[0m\u001b[0;34m,\u001b[0m\u001b[0;34m\u001b[0m\u001b[0;34m\u001b[0m\u001b[0m\n\u001b[0;32m--> 324\u001b[0;31m                 total_epochs=epochs)\n\u001b[0m\u001b[1;32m    325\u001b[0m             \u001b[0mcbks\u001b[0m\u001b[0;34m.\u001b[0m\u001b[0mmake_logs\u001b[0m\u001b[0;34m(\u001b[0m\u001b[0mmodel\u001b[0m\u001b[0;34m,\u001b[0m \u001b[0mepoch_logs\u001b[0m\u001b[0;34m,\u001b[0m \u001b[0mtraining_result\u001b[0m\u001b[0;34m,\u001b[0m \u001b[0mModeKeys\u001b[0m\u001b[0;34m.\u001b[0m\u001b[0mTRAIN\u001b[0m\u001b[0;34m)\u001b[0m\u001b[0;34m\u001b[0m\u001b[0;34m\u001b[0m\u001b[0m\n\u001b[1;32m    326\u001b[0m \u001b[0;34m\u001b[0m\u001b[0m\n",
      "\u001b[0;32m~/miniconda3/lib/python3.7/site-packages/tensorflow_core/python/keras/engine/training_v2.py\u001b[0m in \u001b[0;36mrun_one_epoch\u001b[0;34m(model, iterator, execution_function, dataset_size, batch_size, strategy, steps_per_epoch, num_samples, mode, training_context, total_epochs)\u001b[0m\n\u001b[1;32m    121\u001b[0m         step=step, mode=mode, size=current_batch_size) as batch_logs:\n\u001b[1;32m    122\u001b[0m       \u001b[0;32mtry\u001b[0m\u001b[0;34m:\u001b[0m\u001b[0;34m\u001b[0m\u001b[0;34m\u001b[0m\u001b[0m\n\u001b[0;32m--> 123\u001b[0;31m         \u001b[0mbatch_outs\u001b[0m \u001b[0;34m=\u001b[0m \u001b[0mexecution_function\u001b[0m\u001b[0;34m(\u001b[0m\u001b[0miterator\u001b[0m\u001b[0;34m)\u001b[0m\u001b[0;34m\u001b[0m\u001b[0;34m\u001b[0m\u001b[0m\n\u001b[0m\u001b[1;32m    124\u001b[0m       \u001b[0;32mexcept\u001b[0m \u001b[0;34m(\u001b[0m\u001b[0mStopIteration\u001b[0m\u001b[0;34m,\u001b[0m \u001b[0merrors\u001b[0m\u001b[0;34m.\u001b[0m\u001b[0mOutOfRangeError\u001b[0m\u001b[0;34m)\u001b[0m\u001b[0;34m:\u001b[0m\u001b[0;34m\u001b[0m\u001b[0;34m\u001b[0m\u001b[0m\n\u001b[1;32m    125\u001b[0m         \u001b[0;31m# TODO(kaftan): File bug about tf function and errors.OutOfRangeError?\u001b[0m\u001b[0;34m\u001b[0m\u001b[0;34m\u001b[0m\u001b[0;34m\u001b[0m\u001b[0m\n",
      "\u001b[0;32m~/miniconda3/lib/python3.7/site-packages/tensorflow_core/python/keras/engine/training_v2_utils.py\u001b[0m in \u001b[0;36mexecution_function\u001b[0;34m(input_fn)\u001b[0m\n\u001b[1;32m     84\u001b[0m     \u001b[0;31m# `numpy` translates Tensors to values in Eager mode.\u001b[0m\u001b[0;34m\u001b[0m\u001b[0;34m\u001b[0m\u001b[0;34m\u001b[0m\u001b[0m\n\u001b[1;32m     85\u001b[0m     return nest.map_structure(_non_none_constant_value,\n\u001b[0;32m---> 86\u001b[0;31m                               distributed_function(input_fn))\n\u001b[0m\u001b[1;32m     87\u001b[0m \u001b[0;34m\u001b[0m\u001b[0m\n\u001b[1;32m     88\u001b[0m   \u001b[0;32mreturn\u001b[0m \u001b[0mexecution_function\u001b[0m\u001b[0;34m\u001b[0m\u001b[0;34m\u001b[0m\u001b[0m\n",
      "\u001b[0;32m~/miniconda3/lib/python3.7/site-packages/tensorflow_core/python/eager/def_function.py\u001b[0m in \u001b[0;36m__call__\u001b[0;34m(self, *args, **kwds)\u001b[0m\n\u001b[1;32m    455\u001b[0m \u001b[0;34m\u001b[0m\u001b[0m\n\u001b[1;32m    456\u001b[0m     \u001b[0mtracing_count\u001b[0m \u001b[0;34m=\u001b[0m \u001b[0mself\u001b[0m\u001b[0;34m.\u001b[0m\u001b[0m_get_tracing_count\u001b[0m\u001b[0;34m(\u001b[0m\u001b[0;34m)\u001b[0m\u001b[0;34m\u001b[0m\u001b[0;34m\u001b[0m\u001b[0m\n\u001b[0;32m--> 457\u001b[0;31m     \u001b[0mresult\u001b[0m \u001b[0;34m=\u001b[0m \u001b[0mself\u001b[0m\u001b[0;34m.\u001b[0m\u001b[0m_call\u001b[0m\u001b[0;34m(\u001b[0m\u001b[0;34m*\u001b[0m\u001b[0margs\u001b[0m\u001b[0;34m,\u001b[0m \u001b[0;34m**\u001b[0m\u001b[0mkwds\u001b[0m\u001b[0;34m)\u001b[0m\u001b[0;34m\u001b[0m\u001b[0;34m\u001b[0m\u001b[0m\n\u001b[0m\u001b[1;32m    458\u001b[0m     \u001b[0;32mif\u001b[0m \u001b[0mtracing_count\u001b[0m \u001b[0;34m==\u001b[0m \u001b[0mself\u001b[0m\u001b[0;34m.\u001b[0m\u001b[0m_get_tracing_count\u001b[0m\u001b[0;34m(\u001b[0m\u001b[0;34m)\u001b[0m\u001b[0;34m:\u001b[0m\u001b[0;34m\u001b[0m\u001b[0;34m\u001b[0m\u001b[0m\n\u001b[1;32m    459\u001b[0m       \u001b[0mself\u001b[0m\u001b[0;34m.\u001b[0m\u001b[0m_call_counter\u001b[0m\u001b[0;34m.\u001b[0m\u001b[0mcalled_without_tracing\u001b[0m\u001b[0;34m(\u001b[0m\u001b[0;34m)\u001b[0m\u001b[0;34m\u001b[0m\u001b[0;34m\u001b[0m\u001b[0m\n",
      "\u001b[0;32m~/miniconda3/lib/python3.7/site-packages/tensorflow_core/python/eager/def_function.py\u001b[0m in \u001b[0;36m_call\u001b[0;34m(self, *args, **kwds)\u001b[0m\n\u001b[1;32m    501\u001b[0m       \u001b[0;31m# This is the first call of __call__, so we have to initialize.\u001b[0m\u001b[0;34m\u001b[0m\u001b[0;34m\u001b[0m\u001b[0;34m\u001b[0m\u001b[0m\n\u001b[1;32m    502\u001b[0m       \u001b[0minitializer_map\u001b[0m \u001b[0;34m=\u001b[0m \u001b[0mobject_identity\u001b[0m\u001b[0;34m.\u001b[0m\u001b[0mObjectIdentityDictionary\u001b[0m\u001b[0;34m(\u001b[0m\u001b[0;34m)\u001b[0m\u001b[0;34m\u001b[0m\u001b[0;34m\u001b[0m\u001b[0m\n\u001b[0;32m--> 503\u001b[0;31m       \u001b[0mself\u001b[0m\u001b[0;34m.\u001b[0m\u001b[0m_initialize\u001b[0m\u001b[0;34m(\u001b[0m\u001b[0margs\u001b[0m\u001b[0;34m,\u001b[0m \u001b[0mkwds\u001b[0m\u001b[0;34m,\u001b[0m \u001b[0madd_initializers_to\u001b[0m\u001b[0;34m=\u001b[0m\u001b[0minitializer_map\u001b[0m\u001b[0;34m)\u001b[0m\u001b[0;34m\u001b[0m\u001b[0;34m\u001b[0m\u001b[0m\n\u001b[0m\u001b[1;32m    504\u001b[0m     \u001b[0;32mfinally\u001b[0m\u001b[0;34m:\u001b[0m\u001b[0;34m\u001b[0m\u001b[0;34m\u001b[0m\u001b[0m\n\u001b[1;32m    505\u001b[0m       \u001b[0;31m# At this point we know that the initialization is complete (or less\u001b[0m\u001b[0;34m\u001b[0m\u001b[0;34m\u001b[0m\u001b[0;34m\u001b[0m\u001b[0m\n",
      "\u001b[0;32m~/miniconda3/lib/python3.7/site-packages/tensorflow_core/python/eager/def_function.py\u001b[0m in \u001b[0;36m_initialize\u001b[0;34m(self, args, kwds, add_initializers_to)\u001b[0m\n\u001b[1;32m    406\u001b[0m     self._concrete_stateful_fn = (\n\u001b[1;32m    407\u001b[0m         self._stateful_fn._get_concrete_function_internal_garbage_collected(  # pylint: disable=protected-access\n\u001b[0;32m--> 408\u001b[0;31m             *args, **kwds))\n\u001b[0m\u001b[1;32m    409\u001b[0m \u001b[0;34m\u001b[0m\u001b[0m\n\u001b[1;32m    410\u001b[0m     \u001b[0;32mdef\u001b[0m \u001b[0minvalid_creator_scope\u001b[0m\u001b[0;34m(\u001b[0m\u001b[0;34m*\u001b[0m\u001b[0munused_args\u001b[0m\u001b[0;34m,\u001b[0m \u001b[0;34m**\u001b[0m\u001b[0munused_kwds\u001b[0m\u001b[0;34m)\u001b[0m\u001b[0;34m:\u001b[0m\u001b[0;34m\u001b[0m\u001b[0;34m\u001b[0m\u001b[0m\n",
      "\u001b[0;32m~/miniconda3/lib/python3.7/site-packages/tensorflow_core/python/eager/function.py\u001b[0m in \u001b[0;36m_get_concrete_function_internal_garbage_collected\u001b[0;34m(self, *args, **kwargs)\u001b[0m\n\u001b[1;32m   1846\u001b[0m     \u001b[0;32mif\u001b[0m \u001b[0mself\u001b[0m\u001b[0;34m.\u001b[0m\u001b[0minput_signature\u001b[0m\u001b[0;34m:\u001b[0m\u001b[0;34m\u001b[0m\u001b[0;34m\u001b[0m\u001b[0m\n\u001b[1;32m   1847\u001b[0m       \u001b[0margs\u001b[0m\u001b[0;34m,\u001b[0m \u001b[0mkwargs\u001b[0m \u001b[0;34m=\u001b[0m \u001b[0;32mNone\u001b[0m\u001b[0;34m,\u001b[0m \u001b[0;32mNone\u001b[0m\u001b[0;34m\u001b[0m\u001b[0;34m\u001b[0m\u001b[0m\n\u001b[0;32m-> 1848\u001b[0;31m     \u001b[0mgraph_function\u001b[0m\u001b[0;34m,\u001b[0m \u001b[0m_\u001b[0m\u001b[0;34m,\u001b[0m \u001b[0m_\u001b[0m \u001b[0;34m=\u001b[0m \u001b[0mself\u001b[0m\u001b[0;34m.\u001b[0m\u001b[0m_maybe_define_function\u001b[0m\u001b[0;34m(\u001b[0m\u001b[0margs\u001b[0m\u001b[0;34m,\u001b[0m \u001b[0mkwargs\u001b[0m\u001b[0;34m)\u001b[0m\u001b[0;34m\u001b[0m\u001b[0;34m\u001b[0m\u001b[0m\n\u001b[0m\u001b[1;32m   1849\u001b[0m     \u001b[0;32mreturn\u001b[0m \u001b[0mgraph_function\u001b[0m\u001b[0;34m\u001b[0m\u001b[0;34m\u001b[0m\u001b[0m\n\u001b[1;32m   1850\u001b[0m \u001b[0;34m\u001b[0m\u001b[0m\n",
      "\u001b[0;32m~/miniconda3/lib/python3.7/site-packages/tensorflow_core/python/eager/function.py\u001b[0m in \u001b[0;36m_maybe_define_function\u001b[0;34m(self, args, kwargs)\u001b[0m\n\u001b[1;32m   2148\u001b[0m         \u001b[0mgraph_function\u001b[0m \u001b[0;34m=\u001b[0m \u001b[0mself\u001b[0m\u001b[0;34m.\u001b[0m\u001b[0m_function_cache\u001b[0m\u001b[0;34m.\u001b[0m\u001b[0mprimary\u001b[0m\u001b[0;34m.\u001b[0m\u001b[0mget\u001b[0m\u001b[0;34m(\u001b[0m\u001b[0mcache_key\u001b[0m\u001b[0;34m,\u001b[0m \u001b[0;32mNone\u001b[0m\u001b[0;34m)\u001b[0m\u001b[0;34m\u001b[0m\u001b[0;34m\u001b[0m\u001b[0m\n\u001b[1;32m   2149\u001b[0m         \u001b[0;32mif\u001b[0m \u001b[0mgraph_function\u001b[0m \u001b[0;32mis\u001b[0m \u001b[0;32mNone\u001b[0m\u001b[0;34m:\u001b[0m\u001b[0;34m\u001b[0m\u001b[0;34m\u001b[0m\u001b[0m\n\u001b[0;32m-> 2150\u001b[0;31m           \u001b[0mgraph_function\u001b[0m \u001b[0;34m=\u001b[0m \u001b[0mself\u001b[0m\u001b[0;34m.\u001b[0m\u001b[0m_create_graph_function\u001b[0m\u001b[0;34m(\u001b[0m\u001b[0margs\u001b[0m\u001b[0;34m,\u001b[0m \u001b[0mkwargs\u001b[0m\u001b[0;34m)\u001b[0m\u001b[0;34m\u001b[0m\u001b[0;34m\u001b[0m\u001b[0m\n\u001b[0m\u001b[1;32m   2151\u001b[0m           \u001b[0mself\u001b[0m\u001b[0;34m.\u001b[0m\u001b[0m_function_cache\u001b[0m\u001b[0;34m.\u001b[0m\u001b[0mprimary\u001b[0m\u001b[0;34m[\u001b[0m\u001b[0mcache_key\u001b[0m\u001b[0;34m]\u001b[0m \u001b[0;34m=\u001b[0m \u001b[0mgraph_function\u001b[0m\u001b[0;34m\u001b[0m\u001b[0;34m\u001b[0m\u001b[0m\n\u001b[1;32m   2152\u001b[0m         \u001b[0;32mreturn\u001b[0m \u001b[0mgraph_function\u001b[0m\u001b[0;34m,\u001b[0m \u001b[0margs\u001b[0m\u001b[0;34m,\u001b[0m \u001b[0mkwargs\u001b[0m\u001b[0;34m\u001b[0m\u001b[0;34m\u001b[0m\u001b[0m\n",
      "\u001b[0;32m~/miniconda3/lib/python3.7/site-packages/tensorflow_core/python/eager/function.py\u001b[0m in \u001b[0;36m_create_graph_function\u001b[0;34m(self, args, kwargs, override_flat_arg_shapes)\u001b[0m\n\u001b[1;32m   2039\u001b[0m             \u001b[0marg_names\u001b[0m\u001b[0;34m=\u001b[0m\u001b[0marg_names\u001b[0m\u001b[0;34m,\u001b[0m\u001b[0;34m\u001b[0m\u001b[0;34m\u001b[0m\u001b[0m\n\u001b[1;32m   2040\u001b[0m             \u001b[0moverride_flat_arg_shapes\u001b[0m\u001b[0;34m=\u001b[0m\u001b[0moverride_flat_arg_shapes\u001b[0m\u001b[0;34m,\u001b[0m\u001b[0;34m\u001b[0m\u001b[0;34m\u001b[0m\u001b[0m\n\u001b[0;32m-> 2041\u001b[0;31m             capture_by_value=self._capture_by_value),\n\u001b[0m\u001b[1;32m   2042\u001b[0m         \u001b[0mself\u001b[0m\u001b[0;34m.\u001b[0m\u001b[0m_function_attributes\u001b[0m\u001b[0;34m,\u001b[0m\u001b[0;34m\u001b[0m\u001b[0;34m\u001b[0m\u001b[0m\n\u001b[1;32m   2043\u001b[0m         \u001b[0;31m# Tell the ConcreteFunction to clean up its graph once it goes out of\u001b[0m\u001b[0;34m\u001b[0m\u001b[0;34m\u001b[0m\u001b[0;34m\u001b[0m\u001b[0m\n",
      "\u001b[0;32m~/miniconda3/lib/python3.7/site-packages/tensorflow_core/python/framework/func_graph.py\u001b[0m in \u001b[0;36mfunc_graph_from_py_func\u001b[0;34m(name, python_func, args, kwargs, signature, func_graph, autograph, autograph_options, add_control_dependencies, arg_names, op_return_value, collections, capture_by_value, override_flat_arg_shapes)\u001b[0m\n\u001b[1;32m    913\u001b[0m                                           converted_func)\n\u001b[1;32m    914\u001b[0m \u001b[0;34m\u001b[0m\u001b[0m\n\u001b[0;32m--> 915\u001b[0;31m       \u001b[0mfunc_outputs\u001b[0m \u001b[0;34m=\u001b[0m \u001b[0mpython_func\u001b[0m\u001b[0;34m(\u001b[0m\u001b[0;34m*\u001b[0m\u001b[0mfunc_args\u001b[0m\u001b[0;34m,\u001b[0m \u001b[0;34m**\u001b[0m\u001b[0mfunc_kwargs\u001b[0m\u001b[0;34m)\u001b[0m\u001b[0;34m\u001b[0m\u001b[0;34m\u001b[0m\u001b[0m\n\u001b[0m\u001b[1;32m    916\u001b[0m \u001b[0;34m\u001b[0m\u001b[0m\n\u001b[1;32m    917\u001b[0m       \u001b[0;31m# invariant: `func_outputs` contains only Tensors, CompositeTensors,\u001b[0m\u001b[0;34m\u001b[0m\u001b[0;34m\u001b[0m\u001b[0;34m\u001b[0m\u001b[0m\n",
      "\u001b[0;32m~/miniconda3/lib/python3.7/site-packages/tensorflow_core/python/eager/def_function.py\u001b[0m in \u001b[0;36mwrapped_fn\u001b[0;34m(*args, **kwds)\u001b[0m\n\u001b[1;32m    356\u001b[0m         \u001b[0;31m# __wrapped__ allows AutoGraph to swap in a converted function. We give\u001b[0m\u001b[0;34m\u001b[0m\u001b[0;34m\u001b[0m\u001b[0;34m\u001b[0m\u001b[0m\n\u001b[1;32m    357\u001b[0m         \u001b[0;31m# the function a weak reference to itself to avoid a reference cycle.\u001b[0m\u001b[0;34m\u001b[0m\u001b[0;34m\u001b[0m\u001b[0;34m\u001b[0m\u001b[0m\n\u001b[0;32m--> 358\u001b[0;31m         \u001b[0;32mreturn\u001b[0m \u001b[0mweak_wrapped_fn\u001b[0m\u001b[0;34m(\u001b[0m\u001b[0;34m)\u001b[0m\u001b[0;34m.\u001b[0m\u001b[0m__wrapped__\u001b[0m\u001b[0;34m(\u001b[0m\u001b[0;34m*\u001b[0m\u001b[0margs\u001b[0m\u001b[0;34m,\u001b[0m \u001b[0;34m**\u001b[0m\u001b[0mkwds\u001b[0m\u001b[0;34m)\u001b[0m\u001b[0;34m\u001b[0m\u001b[0;34m\u001b[0m\u001b[0m\n\u001b[0m\u001b[1;32m    359\u001b[0m     \u001b[0mweak_wrapped_fn\u001b[0m \u001b[0;34m=\u001b[0m \u001b[0mweakref\u001b[0m\u001b[0;34m.\u001b[0m\u001b[0mref\u001b[0m\u001b[0;34m(\u001b[0m\u001b[0mwrapped_fn\u001b[0m\u001b[0;34m)\u001b[0m\u001b[0;34m\u001b[0m\u001b[0;34m\u001b[0m\u001b[0m\n\u001b[1;32m    360\u001b[0m \u001b[0;34m\u001b[0m\u001b[0m\n",
      "\u001b[0;32m~/miniconda3/lib/python3.7/site-packages/tensorflow_core/python/keras/engine/training_v2_utils.py\u001b[0m in \u001b[0;36mdistributed_function\u001b[0;34m(input_iterator)\u001b[0m\n\u001b[1;32m     71\u001b[0m     \u001b[0mstrategy\u001b[0m \u001b[0;34m=\u001b[0m \u001b[0mdistribution_strategy_context\u001b[0m\u001b[0;34m.\u001b[0m\u001b[0mget_strategy\u001b[0m\u001b[0;34m(\u001b[0m\u001b[0;34m)\u001b[0m\u001b[0;34m\u001b[0m\u001b[0;34m\u001b[0m\u001b[0m\n\u001b[1;32m     72\u001b[0m     outputs = strategy.experimental_run_v2(\n\u001b[0;32m---> 73\u001b[0;31m         per_replica_function, args=(model, x, y, sample_weights))\n\u001b[0m\u001b[1;32m     74\u001b[0m     \u001b[0;31m# Out of PerReplica outputs reduce or pick values to return.\u001b[0m\u001b[0;34m\u001b[0m\u001b[0;34m\u001b[0m\u001b[0;34m\u001b[0m\u001b[0m\n\u001b[1;32m     75\u001b[0m     all_outputs = dist_utils.unwrap_output_dict(\n",
      "\u001b[0;32m~/miniconda3/lib/python3.7/site-packages/tensorflow_core/python/distribute/distribute_lib.py\u001b[0m in \u001b[0;36mexperimental_run_v2\u001b[0;34m(self, fn, args, kwargs)\u001b[0m\n\u001b[1;32m    758\u001b[0m       fn = autograph.tf_convert(fn, ag_ctx.control_status_ctx(),\n\u001b[1;32m    759\u001b[0m                                 convert_by_default=False)\n\u001b[0;32m--> 760\u001b[0;31m       \u001b[0;32mreturn\u001b[0m \u001b[0mself\u001b[0m\u001b[0;34m.\u001b[0m\u001b[0m_extended\u001b[0m\u001b[0;34m.\u001b[0m\u001b[0mcall_for_each_replica\u001b[0m\u001b[0;34m(\u001b[0m\u001b[0mfn\u001b[0m\u001b[0;34m,\u001b[0m \u001b[0margs\u001b[0m\u001b[0;34m=\u001b[0m\u001b[0margs\u001b[0m\u001b[0;34m,\u001b[0m \u001b[0mkwargs\u001b[0m\u001b[0;34m=\u001b[0m\u001b[0mkwargs\u001b[0m\u001b[0;34m)\u001b[0m\u001b[0;34m\u001b[0m\u001b[0;34m\u001b[0m\u001b[0m\n\u001b[0m\u001b[1;32m    761\u001b[0m \u001b[0;34m\u001b[0m\u001b[0m\n\u001b[1;32m    762\u001b[0m   \u001b[0;32mdef\u001b[0m \u001b[0mreduce\u001b[0m\u001b[0;34m(\u001b[0m\u001b[0mself\u001b[0m\u001b[0;34m,\u001b[0m \u001b[0mreduce_op\u001b[0m\u001b[0;34m,\u001b[0m \u001b[0mvalue\u001b[0m\u001b[0;34m,\u001b[0m \u001b[0maxis\u001b[0m\u001b[0;34m)\u001b[0m\u001b[0;34m:\u001b[0m\u001b[0;34m\u001b[0m\u001b[0;34m\u001b[0m\u001b[0m\n",
      "\u001b[0;32m~/miniconda3/lib/python3.7/site-packages/tensorflow_core/python/distribute/distribute_lib.py\u001b[0m in \u001b[0;36mcall_for_each_replica\u001b[0;34m(self, fn, args, kwargs)\u001b[0m\n\u001b[1;32m   1785\u001b[0m       \u001b[0mkwargs\u001b[0m \u001b[0;34m=\u001b[0m \u001b[0;34m{\u001b[0m\u001b[0;34m}\u001b[0m\u001b[0;34m\u001b[0m\u001b[0;34m\u001b[0m\u001b[0m\n\u001b[1;32m   1786\u001b[0m     \u001b[0;32mwith\u001b[0m \u001b[0mself\u001b[0m\u001b[0;34m.\u001b[0m\u001b[0m_container_strategy\u001b[0m\u001b[0;34m(\u001b[0m\u001b[0;34m)\u001b[0m\u001b[0;34m.\u001b[0m\u001b[0mscope\u001b[0m\u001b[0;34m(\u001b[0m\u001b[0;34m)\u001b[0m\u001b[0;34m:\u001b[0m\u001b[0;34m\u001b[0m\u001b[0;34m\u001b[0m\u001b[0m\n\u001b[0;32m-> 1787\u001b[0;31m       \u001b[0;32mreturn\u001b[0m \u001b[0mself\u001b[0m\u001b[0;34m.\u001b[0m\u001b[0m_call_for_each_replica\u001b[0m\u001b[0;34m(\u001b[0m\u001b[0mfn\u001b[0m\u001b[0;34m,\u001b[0m \u001b[0margs\u001b[0m\u001b[0;34m,\u001b[0m \u001b[0mkwargs\u001b[0m\u001b[0;34m)\u001b[0m\u001b[0;34m\u001b[0m\u001b[0;34m\u001b[0m\u001b[0m\n\u001b[0m\u001b[1;32m   1788\u001b[0m \u001b[0;34m\u001b[0m\u001b[0m\n\u001b[1;32m   1789\u001b[0m   \u001b[0;32mdef\u001b[0m \u001b[0m_call_for_each_replica\u001b[0m\u001b[0;34m(\u001b[0m\u001b[0mself\u001b[0m\u001b[0;34m,\u001b[0m \u001b[0mfn\u001b[0m\u001b[0;34m,\u001b[0m \u001b[0margs\u001b[0m\u001b[0;34m,\u001b[0m \u001b[0mkwargs\u001b[0m\u001b[0;34m)\u001b[0m\u001b[0;34m:\u001b[0m\u001b[0;34m\u001b[0m\u001b[0;34m\u001b[0m\u001b[0m\n",
      "\u001b[0;32m~/miniconda3/lib/python3.7/site-packages/tensorflow_core/python/distribute/distribute_lib.py\u001b[0m in \u001b[0;36m_call_for_each_replica\u001b[0;34m(self, fn, args, kwargs)\u001b[0m\n\u001b[1;32m   2130\u001b[0m         \u001b[0mself\u001b[0m\u001b[0;34m.\u001b[0m\u001b[0m_container_strategy\u001b[0m\u001b[0;34m(\u001b[0m\u001b[0;34m)\u001b[0m\u001b[0;34m,\u001b[0m\u001b[0;34m\u001b[0m\u001b[0;34m\u001b[0m\u001b[0m\n\u001b[1;32m   2131\u001b[0m         replica_id_in_sync_group=constant_op.constant(0, dtypes.int32)):\n\u001b[0;32m-> 2132\u001b[0;31m       \u001b[0;32mreturn\u001b[0m \u001b[0mfn\u001b[0m\u001b[0;34m(\u001b[0m\u001b[0;34m*\u001b[0m\u001b[0margs\u001b[0m\u001b[0;34m,\u001b[0m \u001b[0;34m**\u001b[0m\u001b[0mkwargs\u001b[0m\u001b[0;34m)\u001b[0m\u001b[0;34m\u001b[0m\u001b[0;34m\u001b[0m\u001b[0m\n\u001b[0m\u001b[1;32m   2133\u001b[0m \u001b[0;34m\u001b[0m\u001b[0m\n\u001b[1;32m   2134\u001b[0m   \u001b[0;32mdef\u001b[0m \u001b[0m_reduce_to\u001b[0m\u001b[0;34m(\u001b[0m\u001b[0mself\u001b[0m\u001b[0;34m,\u001b[0m \u001b[0mreduce_op\u001b[0m\u001b[0;34m,\u001b[0m \u001b[0mvalue\u001b[0m\u001b[0;34m,\u001b[0m \u001b[0mdestinations\u001b[0m\u001b[0;34m)\u001b[0m\u001b[0;34m:\u001b[0m\u001b[0;34m\u001b[0m\u001b[0;34m\u001b[0m\u001b[0m\n",
      "\u001b[0;32m~/miniconda3/lib/python3.7/site-packages/tensorflow_core/python/autograph/impl/api.py\u001b[0m in \u001b[0;36mwrapper\u001b[0;34m(*args, **kwargs)\u001b[0m\n\u001b[1;32m    290\u001b[0m   \u001b[0;32mdef\u001b[0m \u001b[0mwrapper\u001b[0m\u001b[0;34m(\u001b[0m\u001b[0;34m*\u001b[0m\u001b[0margs\u001b[0m\u001b[0;34m,\u001b[0m \u001b[0;34m**\u001b[0m\u001b[0mkwargs\u001b[0m\u001b[0;34m)\u001b[0m\u001b[0;34m:\u001b[0m\u001b[0;34m\u001b[0m\u001b[0;34m\u001b[0m\u001b[0m\n\u001b[1;32m    291\u001b[0m     \u001b[0;32mwith\u001b[0m \u001b[0mag_ctx\u001b[0m\u001b[0;34m.\u001b[0m\u001b[0mControlStatusCtx\u001b[0m\u001b[0;34m(\u001b[0m\u001b[0mstatus\u001b[0m\u001b[0;34m=\u001b[0m\u001b[0mag_ctx\u001b[0m\u001b[0;34m.\u001b[0m\u001b[0mStatus\u001b[0m\u001b[0;34m.\u001b[0m\u001b[0mDISABLED\u001b[0m\u001b[0;34m)\u001b[0m\u001b[0;34m:\u001b[0m\u001b[0;34m\u001b[0m\u001b[0;34m\u001b[0m\u001b[0m\n\u001b[0;32m--> 292\u001b[0;31m       \u001b[0;32mreturn\u001b[0m \u001b[0mfunc\u001b[0m\u001b[0;34m(\u001b[0m\u001b[0;34m*\u001b[0m\u001b[0margs\u001b[0m\u001b[0;34m,\u001b[0m \u001b[0;34m**\u001b[0m\u001b[0mkwargs\u001b[0m\u001b[0;34m)\u001b[0m\u001b[0;34m\u001b[0m\u001b[0;34m\u001b[0m\u001b[0m\n\u001b[0m\u001b[1;32m    293\u001b[0m \u001b[0;34m\u001b[0m\u001b[0m\n\u001b[1;32m    294\u001b[0m   \u001b[0;32mif\u001b[0m \u001b[0minspect\u001b[0m\u001b[0;34m.\u001b[0m\u001b[0misfunction\u001b[0m\u001b[0;34m(\u001b[0m\u001b[0mfunc\u001b[0m\u001b[0;34m)\u001b[0m \u001b[0;32mor\u001b[0m \u001b[0minspect\u001b[0m\u001b[0;34m.\u001b[0m\u001b[0mismethod\u001b[0m\u001b[0;34m(\u001b[0m\u001b[0mfunc\u001b[0m\u001b[0;34m)\u001b[0m\u001b[0;34m:\u001b[0m\u001b[0;34m\u001b[0m\u001b[0;34m\u001b[0m\u001b[0m\n",
      "\u001b[0;32m~/miniconda3/lib/python3.7/site-packages/tensorflow_core/python/keras/engine/training_v2_utils.py\u001b[0m in \u001b[0;36mtrain_on_batch\u001b[0;34m(model, x, y, sample_weight, class_weight, reset_metrics)\u001b[0m\n\u001b[1;32m    262\u001b[0m       \u001b[0my\u001b[0m\u001b[0;34m,\u001b[0m\u001b[0;34m\u001b[0m\u001b[0;34m\u001b[0m\u001b[0m\n\u001b[1;32m    263\u001b[0m       \u001b[0msample_weights\u001b[0m\u001b[0;34m=\u001b[0m\u001b[0msample_weights\u001b[0m\u001b[0;34m,\u001b[0m\u001b[0;34m\u001b[0m\u001b[0;34m\u001b[0m\u001b[0m\n\u001b[0;32m--> 264\u001b[0;31m       output_loss_metrics=model._output_loss_metrics)\n\u001b[0m\u001b[1;32m    265\u001b[0m \u001b[0;34m\u001b[0m\u001b[0m\n\u001b[1;32m    266\u001b[0m   \u001b[0;32mif\u001b[0m \u001b[0mreset_metrics\u001b[0m\u001b[0;34m:\u001b[0m\u001b[0;34m\u001b[0m\u001b[0;34m\u001b[0m\u001b[0m\n",
      "\u001b[0;32m~/miniconda3/lib/python3.7/site-packages/tensorflow_core/python/keras/engine/training_eager.py\u001b[0m in \u001b[0;36mtrain_on_batch\u001b[0;34m(model, inputs, targets, sample_weights, output_loss_metrics)\u001b[0m\n\u001b[1;32m    301\u001b[0m         \u001b[0;34m'metrics'\u001b[0m\u001b[0;34m:\u001b[0m \u001b[0mlist\u001b[0m \u001b[0mof\u001b[0m \u001b[0mtensors\u001b[0m \u001b[0;32mfor\u001b[0m \u001b[0mmetric\u001b[0m \u001b[0mspecified\u001b[0m\u001b[0;34m.\u001b[0m\u001b[0;34m\u001b[0m\u001b[0;34m\u001b[0m\u001b[0m\n\u001b[1;32m    302\u001b[0m   \"\"\"\n\u001b[0;32m--> 303\u001b[0;31m   \u001b[0minputs\u001b[0m \u001b[0;34m=\u001b[0m \u001b[0mtraining_utils\u001b[0m\u001b[0;34m.\u001b[0m\u001b[0mcast_to_model_input_dtypes\u001b[0m\u001b[0;34m(\u001b[0m\u001b[0minputs\u001b[0m\u001b[0;34m,\u001b[0m \u001b[0mmodel\u001b[0m\u001b[0;34m)\u001b[0m\u001b[0;34m\u001b[0m\u001b[0;34m\u001b[0m\u001b[0m\n\u001b[0m\u001b[1;32m    304\u001b[0m   outs, total_loss, output_losses, masks = (\n\u001b[1;32m    305\u001b[0m       _process_single_batch(\n",
      "\u001b[0;32m~/miniconda3/lib/python3.7/site-packages/tensorflow_core/python/keras/engine/training_utils.py\u001b[0m in \u001b[0;36mcast_to_model_input_dtypes\u001b[0;34m(x, model)\u001b[0m\n\u001b[1;32m   1277\u001b[0m   \"\"\"\n\u001b[1;32m   1278\u001b[0m   \u001b[0minput_dtypes\u001b[0m \u001b[0;34m=\u001b[0m \u001b[0mnest\u001b[0m\u001b[0;34m.\u001b[0m\u001b[0mmap_structure\u001b[0m\u001b[0;34m(\u001b[0m\u001b[0;32mlambda\u001b[0m \u001b[0mt\u001b[0m\u001b[0;34m:\u001b[0m \u001b[0mt\u001b[0m\u001b[0;34m.\u001b[0m\u001b[0mdtype\u001b[0m\u001b[0;34m,\u001b[0m \u001b[0mmodel\u001b[0m\u001b[0;34m.\u001b[0m\u001b[0minputs\u001b[0m\u001b[0;34m)\u001b[0m\u001b[0;34m\u001b[0m\u001b[0;34m\u001b[0m\u001b[0m\n\u001b[0;32m-> 1279\u001b[0;31m   \u001b[0;32mreturn\u001b[0m \u001b[0mnest\u001b[0m\u001b[0;34m.\u001b[0m\u001b[0mmap_structure\u001b[0m\u001b[0;34m(\u001b[0m\u001b[0mmath_ops\u001b[0m\u001b[0;34m.\u001b[0m\u001b[0mcast\u001b[0m\u001b[0;34m,\u001b[0m \u001b[0mx\u001b[0m\u001b[0;34m,\u001b[0m \u001b[0minput_dtypes\u001b[0m\u001b[0;34m)\u001b[0m\u001b[0;34m\u001b[0m\u001b[0;34m\u001b[0m\u001b[0m\n\u001b[0m\u001b[1;32m   1280\u001b[0m \u001b[0;34m\u001b[0m\u001b[0m\n\u001b[1;32m   1281\u001b[0m \u001b[0;34m\u001b[0m\u001b[0m\n",
      "\u001b[0;32m~/miniconda3/lib/python3.7/site-packages/tensorflow_core/python/util/nest.py\u001b[0m in \u001b[0;36mmap_structure\u001b[0;34m(func, *structure, **kwargs)\u001b[0m\n\u001b[1;32m    527\u001b[0m   \u001b[0;32mfor\u001b[0m \u001b[0mother\u001b[0m \u001b[0;32min\u001b[0m \u001b[0mstructure\u001b[0m\u001b[0;34m[\u001b[0m\u001b[0;36m1\u001b[0m\u001b[0;34m:\u001b[0m\u001b[0;34m]\u001b[0m\u001b[0;34m:\u001b[0m\u001b[0;34m\u001b[0m\u001b[0;34m\u001b[0m\u001b[0m\n\u001b[1;32m    528\u001b[0m     assert_same_structure(structure[0], other, check_types=check_types,\n\u001b[0;32m--> 529\u001b[0;31m                           expand_composites=expand_composites)\n\u001b[0m\u001b[1;32m    530\u001b[0m \u001b[0;34m\u001b[0m\u001b[0m\n\u001b[1;32m    531\u001b[0m   \u001b[0mflat_structure\u001b[0m \u001b[0;34m=\u001b[0m \u001b[0;34m[\u001b[0m\u001b[0mflatten\u001b[0m\u001b[0;34m(\u001b[0m\u001b[0ms\u001b[0m\u001b[0;34m,\u001b[0m \u001b[0mexpand_composites\u001b[0m\u001b[0;34m)\u001b[0m \u001b[0;32mfor\u001b[0m \u001b[0ms\u001b[0m \u001b[0;32min\u001b[0m \u001b[0mstructure\u001b[0m\u001b[0;34m]\u001b[0m\u001b[0;34m\u001b[0m\u001b[0;34m\u001b[0m\u001b[0m\n",
      "\u001b[0;32m~/miniconda3/lib/python3.7/site-packages/tensorflow_core/python/util/nest.py\u001b[0m in \u001b[0;36massert_same_structure\u001b[0;34m(nest1, nest2, check_types, expand_composites)\u001b[0m\n\u001b[1;32m    323\u001b[0m                   \u001b[0;34m\"Entire first structure:\\n%s\\n\"\u001b[0m\u001b[0;34m\u001b[0m\u001b[0;34m\u001b[0m\u001b[0m\n\u001b[1;32m    324\u001b[0m                   \u001b[0;34m\"Entire second structure:\\n%s\"\u001b[0m\u001b[0;34m\u001b[0m\u001b[0;34m\u001b[0m\u001b[0m\n\u001b[0;32m--> 325\u001b[0;31m                   % (str(e), str1, str2))\n\u001b[0m\u001b[1;32m    326\u001b[0m \u001b[0;34m\u001b[0m\u001b[0m\n\u001b[1;32m    327\u001b[0m \u001b[0;34m\u001b[0m\u001b[0m\n",
      "\u001b[0;31mValueError\u001b[0m: The two structures don't have the same nested structure.\n\nFirst structure: type=list str=[<tf.Tensor 'IteratorGetNext:0' shape=(None, 128, 4, 1) dtype=float32>]\n\nSecond structure: type=list str=[tf.float32, tf.float32]\n\nMore specifically: The two structures don't have the same number of elements. First structure: type=list str=[<tf.Tensor 'IteratorGetNext:0' shape=(None, 128, 4, 1) dtype=float32>]. Second structure: type=list str=[tf.float32, tf.float32]\nEntire first structure:\n[.]\nEntire second structure:\n[., .]"
     ]
    }
   ],
   "source": [
    "history = model_train.fit(x=X_train,y=X_train, epochs=10, shuffle=True, batch_size=32, validation_split=0.2)"
   ]
  },
  {
   "cell_type": "code",
   "execution_count": null,
   "metadata": {},
   "outputs": [],
   "source": []
  }
 ],
 "metadata": {
  "kernelspec": {
   "display_name": "Python 3",
   "language": "python",
   "name": "python3"
  },
  "language_info": {
   "codemirror_mode": {
    "name": "ipython",
    "version": 3
   },
   "file_extension": ".py",
   "mimetype": "text/x-python",
   "name": "python",
   "nbconvert_exporter": "python",
   "pygments_lexer": "ipython3",
   "version": "3.7.7"
  }
 },
 "nbformat": 4,
 "nbformat_minor": 4
}
