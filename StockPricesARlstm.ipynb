{
 "cells": [
  {
   "cell_type": "code",
   "execution_count": 1,
   "metadata": {},
   "outputs": [],
   "source": [
    "import yfinance as yf\n",
    "import pandas as pd"
   ]
  },
  {
   "cell_type": "code",
   "execution_count": 2,
   "metadata": {},
   "outputs": [],
   "source": [
    "stocks = pd.read_csv('nasdaqlisted.txt', delimiter='|')[:-1]"
   ]
  },
  {
   "cell_type": "code",
   "execution_count": 3,
   "metadata": {},
   "outputs": [],
   "source": [
    "stocks = stocks.loc[stocks['Test Issue'] == 'N']"
   ]
  },
  {
   "cell_type": "code",
   "execution_count": 4,
   "metadata": {},
   "outputs": [
    {
     "data": {
      "text/plain": [
       "Market Category\n",
       "G     921\n",
       "Q    1560\n",
       "S    1098\n",
       "Name: Symbol, dtype: int64"
      ]
     },
     "execution_count": 4,
     "metadata": {},
     "output_type": "execute_result"
    }
   ],
   "source": [
    "stocks.groupby('Market Category')['Symbol'].count()"
   ]
  },
  {
   "cell_type": "code",
   "execution_count": 5,
   "metadata": {},
   "outputs": [],
   "source": [
    "import matplotlib.pyplot as plt\n",
    "import numpy as np\n",
    "import seaborn as sns\n"
   ]
  },
  {
   "cell_type": "code",
   "execution_count": 353,
   "metadata": {},
   "outputs": [],
   "source": [
    "ticker = yf.Ticker('GBPJPY=X')\n",
    "\n",
    "data = ticker.history(period='7d', interval='1m')\n",
    "cols = ['Open','High', 'Low', 'Close']"
   ]
  },
  {
   "cell_type": "code",
   "execution_count": 354,
   "metadata": {},
   "outputs": [],
   "source": [
    "data = data[cols]"
   ]
  },
  {
   "cell_type": "code",
   "execution_count": null,
   "metadata": {},
   "outputs": [],
   "source": []
  },
  {
   "cell_type": "code",
   "execution_count": 355,
   "metadata": {},
   "outputs": [],
   "source": [
    "forecast = data['Close'].shift()"
   ]
  },
  {
   "cell_type": "code",
   "execution_count": 356,
   "metadata": {},
   "outputs": [],
   "source": [
    "forecast = forecast.dropna().values"
   ]
  },
  {
   "cell_type": "code",
   "execution_count": 357,
   "metadata": {},
   "outputs": [],
   "source": [
    "data = data.iloc[:-15]"
   ]
  },
  {
   "cell_type": "code",
   "execution_count": 358,
   "metadata": {},
   "outputs": [
    {
     "data": {
      "text/plain": [
       "(array([  1.,   1.,   3.,   7.,   7.,   8.,  12.,  20.,  44.,  42.,  66.,\n",
       "         82., 108., 148., 218., 281., 382., 563., 657., 807., 876., 907.,\n",
       "        831., 684., 471., 384., 278., 233., 159., 126.,  79.,  56.,  33.,\n",
       "         21.,  24.,  16.,   5.,   4.,   2.,   8.,   4.,   5.,   3.,   3.,\n",
       "          0.,   1.,   0.,   1.,   0.,   1.]),\n",
       " array([-0.23283657, -0.22176844, -0.21070032, -0.19963219, -0.18856407,\n",
       "        -0.17749595, -0.16642782, -0.1553597 , -0.14429157, -0.13322345,\n",
       "        -0.12215533, -0.1110872 , -0.10001908, -0.08895095, -0.07788283,\n",
       "        -0.0668147 , -0.05574658, -0.04467846, -0.03361033, -0.02254221,\n",
       "        -0.01147408, -0.00040596,  0.01066216,  0.02173029,  0.03279841,\n",
       "         0.04386654,  0.05493466,  0.06600278,  0.07707091,  0.08813903,\n",
       "         0.09920716,  0.11027528,  0.12134341,  0.13241153,  0.14347965,\n",
       "         0.15454778,  0.1656159 ,  0.17668403,  0.18775215,  0.19882027,\n",
       "         0.2098884 ,  0.22095652,  0.23202465,  0.24309277,  0.25416089,\n",
       "         0.26522902,  0.27629714,  0.28736527,  0.29843339,  0.30950151,\n",
       "         0.32056964]),\n",
       " <a list of 50 Patch objects>)"
      ]
     },
     "execution_count": 358,
     "metadata": {},
     "output_type": "execute_result"
    },
    {
     "data": {
      "image/png": "[encoded data removed]",
      "text/plain": [
       "<Figure size 432x288 with 1 Axes>"
      ]
     },
     "metadata": {
      "needs_background": "light"
     },
     "output_type": "display_data"
    }
   ],
   "source": [
    "plt.hist(forecast, bins=50)"
   ]
  },
  {
   "cell_type": "code",
   "execution_count": 359,
   "metadata": {},
   "outputs": [],
   "source": [
    "labels = []\n",
    "for f in forecast:\n",
    "    \n",
    "    if f < -np.std(forecast):\n",
    "        labels.append([1,0,0])\n",
    "    elif f > np.std(forecast):\n",
    "        labels.append([0,0,1])\n",
    "    else:\n",
    "        labels.append([0,1,0])"
   ]
  },
  {
   "cell_type": "code",
   "execution_count": 360,
   "metadata": {},
   "outputs": [],
   "source": [
    "import random\n",
    "\n",
    "def MinMax(x):\n",
    "    return (x-min(x))/(max(x)-min(x))\n",
    "\n",
    "def ztransform(x):\n",
    "    return (x-np.mean(x))/np.std(x)\n",
    "\n",
    "def createSample(data, length, samples):\n",
    "    x = []\n",
    "    y = []\n",
    "    x_test = []\n",
    "    y_test = []\n",
    "    for i in range(samples):\n",
    "        start_idx = random.randint(0, (len(data)-length)-1)\n",
    "        df = data.iloc[start_idx:start_idx+length+1].apply(MinMax, axis=0)\n",
    "        if random.random() < 0.7:\n",
    "            y.append(labels[start_idx+length-1])\n",
    "            x.append(df.iloc[:-1].values)\n",
    "        else:\n",
    "            y_test.append(labels[start_idx+length-1])\n",
    "            x_test.append(df.iloc[:-1].values)\n",
    "\n",
    "    return np.array(x), np.array(y), np.array(x_test), np.array(y_test)\n",
    "    "
   ]
  },
  {
   "cell_type": "code",
   "execution_count": 361,
   "metadata": {},
   "outputs": [],
   "source": [
    "X,Y, X_test, Y_test = createSample(data, 50, 10000)"
   ]
  },
  {
   "cell_type": "code",
   "execution_count": 362,
   "metadata": {},
   "outputs": [
    {
     "data": {
      "text/plain": [
       "array([[[0.72043011, 0.58974359, 0.76470588, 0.73271889],\n",
       "        [0.64516129, 0.62820513, 0.70588235, 0.77880184],\n",
       "        [0.73655914, 0.61538462, 0.76470588, 0.77419355],\n",
       "        ...,\n",
       "        [0.2688172 , 0.07051282, 0.23529412, 0.23041475],\n",
       "        [0.2688172 , 0.04487179, 0.14117647, 0.29953917],\n",
       "        [0.18817204, 0.        , 0.23529412, 0.32258065]],\n",
       "\n",
       "       [[0.81560284, 0.848     , 0.86956522, 0.8630137 ],\n",
       "        [0.81560284, 0.952     , 0.95652174, 1.        ],\n",
       "        [1.        , 1.        , 1.        , 0.95205479],\n",
       "        ...,\n",
       "        [0.45390071, 0.416     , 0.43478261, 0.5       ],\n",
       "        [0.44680851, 0.384     , 0.34782609, 0.43150685],\n",
       "        [0.14184397, 0.304     , 0.26086957, 0.43150685]],\n",
       "\n",
       "       [[0.2967033 , 0.1942446 , 0.14189189, 0.        ],\n",
       "        [0.24725275, 0.05035971, 0.12162162, 0.1625    ],\n",
       "        [0.25824176, 0.07913669, 0.05405405, 0.03125   ],\n",
       "        ...,\n",
       "        [0.90659341, 0.92805755, 0.92567568, 0.8375    ],\n",
       "        [0.87362637, 0.94964029, 0.90540541, 0.91875   ],\n",
       "        [0.91758242, 1.        , 1.        , 1.        ]],\n",
       "\n",
       "       ...,\n",
       "\n",
       "       [[0.38738739, 0.425     , 0.516     , 0.46261682],\n",
       "        [0.45495495, 0.425     , 0.48      , 0.36915888],\n",
       "        [0.38288288, 0.30833333, 0.304     , 0.13551402],\n",
       "        ...,\n",
       "        [0.71621622, 0.77083333, 0.76      , 0.90654206],\n",
       "        [0.86936937, 0.75833333, 0.84      , 0.79439252],\n",
       "        [0.73423423, 0.725     , 0.8       , 0.74766355]],\n",
       "\n",
       "       [[0.94936709, 1.        , 1.        , 1.        ],\n",
       "        [1.        , 0.92517007, 0.99333333, 0.94557823],\n",
       "        [0.94303797, 0.91836735, 1.        , 0.9047619 ],\n",
       "        ...,\n",
       "        [0.22151899, 0.10204082, 0.        , 0.00680272],\n",
       "        [0.        , 0.10884354, 0.06666667, 0.17687075],\n",
       "        [0.20253165, 0.57823129, 0.26666667, 0.70748299]],\n",
       "\n",
       "       [[0.51923077, 0.14285714, 0.5       , 0.64150943],\n",
       "        [0.63461538, 0.48571429, 0.54      , 0.54716981],\n",
       "        [0.61538462, 0.54285714, 0.4       , 0.67924528],\n",
       "        ...,\n",
       "        [0.25      , 0.35714286, 0.6       , 0.98113208],\n",
       "        [0.59615385, 0.34285714, 0.2       , 0.50943396],\n",
       "        [0.55769231, 0.22857143, 0.4       , 0.71698113]]])"
      ]
     },
     "execution_count": 362,
     "metadata": {},
     "output_type": "execute_result"
    }
   ],
   "source": [
    "X"
   ]
  },
  {
   "cell_type": "code",
   "execution_count": 363,
   "metadata": {},
   "outputs": [
    {
     "data": {
      "text/plain": [
       "(7027, 3)"
      ]
     },
     "execution_count": 363,
     "metadata": {},
     "output_type": "execute_result"
    }
   ],
   "source": [
    "Y.shape"
   ]
  },
  {
   "cell_type": "code",
   "execution_count": 364,
   "metadata": {},
   "outputs": [
    {
     "data": {
      "text/plain": [
       "array([[0, 0, 1],\n",
       "       [0, 1, 0],\n",
       "       [0, 1, 0],\n",
       "       ...,\n",
       "       [0, 0, 1],\n",
       "       [0, 0, 1],\n",
       "       [0, 1, 0]])"
      ]
     },
     "execution_count": 364,
     "metadata": {},
     "output_type": "execute_result"
    }
   ],
   "source": [
    "Y"
   ]
  },
  {
   "cell_type": "code",
   "execution_count": 365,
   "metadata": {},
   "outputs": [
    {
     "data": {
      "text/plain": [
       "(7027, 50, 4)"
      ]
     },
     "execution_count": 365,
     "metadata": {},
     "output_type": "execute_result"
    }
   ],
   "source": [
    "X.shape"
   ]
  },
  {
   "cell_type": "code",
   "execution_count": 366,
   "metadata": {
    "scrolled": false
   },
   "outputs": [
    {
     "name": "stdout",
     "output_type": "stream",
     "text": [
      "Epoch 1/50\n",
      "703/703 [==============================] - 3s 4ms/step - loss: 0.7878 - val_loss: 0.7739\n",
      "Epoch 2/50\n",
      "703/703 [==============================] - 3s 4ms/step - loss: 0.7676 - val_loss: 0.7621\n",
      "Epoch 3/50\n",
      "703/703 [==============================] - 3s 4ms/step - loss: 0.7596 - val_loss: 0.7474\n",
      "Epoch 4/50\n",
      "703/703 [==============================] - 3s 4ms/step - loss: 0.7512 - val_loss: 0.7476\n",
      "Epoch 5/50\n",
      "703/703 [==============================] - 3s 4ms/step - loss: 0.7401 - val_loss: 0.7343\n",
      "Epoch 6/50\n",
      "703/703 [==============================] - 3s 4ms/step - loss: 0.7278 - val_loss: 0.7199\n",
      "Epoch 7/50\n",
      "703/703 [==============================] - 3s 4ms/step - loss: 0.7122 - val_loss: 0.7020\n",
      "Epoch 8/50\n",
      "703/703 [==============================] - 3s 4ms/step - loss: 0.6942 - val_loss: 0.6844\n",
      "Epoch 9/50\n",
      "703/703 [==============================] - 3s 4ms/step - loss: 0.6722 - val_loss: 0.6744\n",
      "Epoch 10/50\n",
      "703/703 [==============================] - 3s 4ms/step - loss: 0.6492 - val_loss: 0.6465\n",
      "Epoch 11/50\n",
      "703/703 [==============================] - 3s 4ms/step - loss: 0.6284 - val_loss: 0.6314\n",
      "Epoch 12/50\n",
      "703/703 [==============================] - 3s 4ms/step - loss: 0.5930 - val_loss: 0.5818\n",
      "Epoch 13/50\n",
      "703/703 [==============================] - 3s 5ms/step - loss: 0.5659 - val_loss: 0.5406\n",
      "Epoch 14/50\n",
      "703/703 [==============================] - 3s 4ms/step - loss: 0.5292 - val_loss: 0.5102\n",
      "Epoch 15/50\n",
      "703/703 [==============================] - 3s 4ms/step - loss: 0.4968 - val_loss: 0.4878\n",
      "Epoch 16/50\n",
      "703/703 [==============================] - 3s 4ms/step - loss: 0.4603 - val_loss: 0.4537\n",
      "Epoch 17/50\n",
      "703/703 [==============================] - 3s 5ms/step - loss: 0.4210 - val_loss: 0.3885\n",
      "Epoch 18/50\n",
      "703/703 [==============================] - 4s 5ms/step - loss: 0.3884 - val_loss: 0.3680\n",
      "Epoch 19/50\n",
      "703/703 [==============================] - 4s 6ms/step - loss: 0.3588 - val_loss: 0.3454\n",
      "Epoch 20/50\n",
      "703/703 [==============================] - 3s 5ms/step - loss: 0.3314 - val_loss: 0.3149\n",
      "Epoch 21/50\n",
      "703/703 [==============================] - 3s 4ms/step - loss: 0.2966 - val_loss: 0.2870\n",
      "Epoch 22/50\n",
      "703/703 [==============================] - 3s 5ms/step - loss: 0.2839 - val_loss: 0.2634\n",
      "Epoch 23/50\n",
      "703/703 [==============================] - 3s 4ms/step - loss: 0.2594 - val_loss: 0.2505\n",
      "Epoch 24/50\n",
      "703/703 [==============================] - 3s 4ms/step - loss: 0.2387 - val_loss: 0.2250\n",
      "Epoch 25/50\n",
      "703/703 [==============================] - 3s 4ms/step - loss: 0.2279 - val_loss: 0.2201\n",
      "Epoch 26/50\n",
      "703/703 [==============================] - 3s 4ms/step - loss: 0.2128 - val_loss: 0.1792\n",
      "Epoch 27/50\n",
      "703/703 [==============================] - 3s 4ms/step - loss: 0.2088 - val_loss: 0.1812\n",
      "Epoch 28/50\n",
      "703/703 [==============================] - 3s 4ms/step - loss: 0.2002 - val_loss: 0.1818\n",
      "Epoch 29/50\n",
      "703/703 [==============================] - 3s 4ms/step - loss: 0.1803 - val_loss: 0.1526\n",
      "Epoch 30/50\n",
      "703/703 [==============================] - 3s 4ms/step - loss: 0.1623 - val_loss: 0.1620\n",
      "Epoch 31/50\n",
      "703/703 [==============================] - 3s 4ms/step - loss: 0.1586 - val_loss: 0.1647\n",
      "Epoch 32/50\n",
      "703/703 [==============================] - 3s 4ms/step - loss: 0.1593 - val_loss: 0.1544\n",
      "Epoch 33/50\n",
      "703/703 [==============================] - 3s 4ms/step - loss: 0.1499 - val_loss: 0.1119\n",
      "Epoch 34/50\n",
      "703/703 [==============================] - 3s 4ms/step - loss: 0.1390 - val_loss: 0.1011\n",
      "Epoch 35/50\n",
      "703/703 [==============================] - 3s 4ms/step - loss: 0.1299 - val_loss: 0.1119\n",
      "Epoch 36/50\n",
      "703/703 [==============================] - 3s 4ms/step - loss: 0.1320 - val_loss: 0.1111\n",
      "Epoch 37/50\n",
      "703/703 [==============================] - 3s 4ms/step - loss: 0.1203 - val_loss: 0.0883\n",
      "Epoch 38/50\n",
      "703/703 [==============================] - 3s 4ms/step - loss: 0.1164 - val_loss: 0.1032\n",
      "Epoch 39/50\n",
      "703/703 [==============================] - 3s 4ms/step - loss: 0.1114 - val_loss: 0.0882\n",
      "Epoch 40/50\n",
      "703/703 [==============================] - 3s 4ms/step - loss: 0.0974 - val_loss: 0.0951\n",
      "Epoch 41/50\n",
      "703/703 [==============================] - 3s 4ms/step - loss: 0.1069 - val_loss: 0.1084\n",
      "Epoch 42/50\n",
      "703/703 [==============================] - 3s 4ms/step - loss: 0.1046 - val_loss: 0.0988\n",
      "Epoch 43/50\n",
      "703/703 [==============================] - 3s 4ms/step - loss: 0.0999 - val_loss: 0.0713\n",
      "Epoch 44/50\n",
      "703/703 [==============================] - 3s 4ms/step - loss: 0.1054 - val_loss: 0.0711\n",
      "Epoch 45/50\n",
      "703/703 [==============================] - 3s 4ms/step - loss: 0.0946 - val_loss: 0.0703\n",
      "Epoch 46/50\n",
      "703/703 [==============================] - 3s 4ms/step - loss: 0.0947 - val_loss: 0.0824\n",
      "Epoch 47/50\n",
      "703/703 [==============================] - 3s 4ms/step - loss: 0.0786 - val_loss: 0.0675\n",
      "Epoch 48/50\n",
      "703/703 [==============================] - 3s 4ms/step - loss: 0.0821 - val_loss: 0.0462\n",
      "Epoch 49/50\n",
      "703/703 [==============================] - 3s 4ms/step - loss: 0.0830 - val_loss: 0.0546\n",
      "Epoch 50/50\n",
      "703/703 [==============================] - 3s 4ms/step - loss: 0.0850 - val_loss: 0.0439\n"
     ]
    },
    {
     "data": {
      "image/png": "[encoded data removed]",
      "text/plain": [
       "<Figure size 432x288 with 1 Axes>"
      ]
     },
     "metadata": {
      "needs_background": "light"
     },
     "output_type": "display_data"
    }
   ],
   "source": [
    "## from keras.models import Sequential, Model\n",
    "from keras.layers import Dense, RepeatVector,TimeDistributed, Input, Concatenate\n",
    "from keras.layers import LSTM, concatenate, Conv1D, Dropout, MaxPooling1D,Flatten\n",
    "from sklearn.preprocessing import MinMaxScaler\n",
    "from sklearn.metrics import mean_squared_error\n",
    "\n",
    "# design network\n",
    "model = Sequential()\n",
    "model.add(Conv1D(filters=64, kernel_size=10, activation='relu', input_shape=(X.shape[1], X.shape[2])))\n",
    "model.add(Conv1D(filters=64, kernel_size=10, activation='relu'))\n",
    "model.add(Dropout(0.3))\n",
    "model.add(MaxPooling1D(pool_size=2))\n",
    "model.add(Flatten())\n",
    "model.add(Dense(100, activation='relu'))\n",
    "model.add(Dense(3, activation='softmax'))\n",
    "model.compile(loss='categorical_crossentropy', optimizer='adam')\n",
    "# fit network\n",
    "history = model.fit(X, Y, epochs=50, batch_size=10, validation_data=(X, Y), shuffle=False)\n",
    "# plot history\n",
    "plt.plot(history.history['loss'], label='train')\n",
    "plt.plot(history.history['val_loss'], label='test')\n",
    "plt.legend()\n",
    "plt.show()"
   ]
  },
  {
   "cell_type": "code",
   "execution_count": 367,
   "metadata": {},
   "outputs": [
    {
     "data": {
      "text/plain": [
       "8672"
      ]
     },
     "execution_count": 367,
     "metadata": {},
     "output_type": "execute_result"
    }
   ],
   "source": [
    "len(labels)"
   ]
  },
  {
   "cell_type": "code",
   "execution_count": 368,
   "metadata": {},
   "outputs": [
    {
     "name": "stdout",
     "output_type": "stream",
     "text": [
      "              precision    recall  f1-score   support\n",
      "\n",
      "           0       0.99      0.95      0.97       960\n",
      "           1       0.99      1.00      0.99      5143\n",
      "           2       0.98      0.97      0.97       924\n",
      "\n",
      "    accuracy                           0.99      7027\n",
      "   macro avg       0.99      0.97      0.98      7027\n",
      "weighted avg       0.99      0.99      0.99      7027\n",
      "\n"
     ]
    }
   ],
   "source": [
    "from sklearn.metrics import confusion_matrix, classification_report\n",
    "actual= np.argmax(Y, axis=1)\n",
    "predicted = np.argmax(model.predict(X), axis=1)\n",
    "print(classification_report(actual, predicted))"
   ]
  },
  {
   "cell_type": "code",
   "execution_count": 373,
   "metadata": {},
   "outputs": [],
   "source": [
    "ticker = yf.Ticker('GBPJPY=X')\n",
    "\n",
    "data_test = ticker.history(period='6h', interval='1m')\n",
    "cols = ['Open','High', 'Low', 'Close']\n",
    "data_test = data_test[cols]"
   ]
  },
  {
   "cell_type": "code",
   "execution_count": 374,
   "metadata": {},
   "outputs": [
    {
     "name": "stderr",
     "output_type": "stream",
     "text": [
      "100%|██████████| 299/299 [00:06<00:00, 44.10it/s]\n"
     ]
    }
   ],
   "source": [
    "from tqdm import tqdm\n",
    "result = pd.DataFrame(index=data_test.index)\n",
    "\n",
    "for i in tqdm(range(0,len(data_test)-1)):\n",
    "    if i > 50:\n",
    "        try:\n",
    "            sbs = data_test.iloc[i:i+50]\n",
    "            pred = model.predict(sbs.apply(MinMax, axis=0).values.reshape(1,50,4))\n",
    "            result.loc[sbs.index[-1], 'Price'] = sbs['Close'][-1]\n",
    "            result.loc[sbs.index[-1], 'Indicator'] = np.argmax(pred)\n",
    "            result.loc[sbs.index[-1], 'Strength'] = np.max(pred)\n",
    "        except:\n",
    "            pass\n",
    "        \n",
    "\n",
    "results = data_test.join(result)"
   ]
  },
  {
   "cell_type": "code",
   "execution_count": 375,
   "metadata": {},
   "outputs": [
    {
     "data": {
      "image/png": "[encoded data removed]",
      "text/plain": [
       "<Figure size 1080x1080 with 1 Axes>"
      ]
     },
     "metadata": {
      "needs_background": "light"
     },
     "output_type": "display_data"
    }
   ],
   "source": [
    "from matplotlib.dates import MinuteLocator, HourLocator, SecondLocator\n",
    "\n",
    "\n",
    "fig, ax = plt.subplots(1, 1, figsize=(15,15))\n",
    "\n",
    "ax.plot(results['Close'].index,results['Close'])\n",
    "ax.scatter(results[(results['Indicator']==0) & (results['Strength']>0.0)].index,\n",
    "            results[(results['Indicator']==0) & (results['Strength']>0.0)]['Price'],\n",
    "            color='red', marker='v')\n",
    "ax.scatter(results[(results['Indicator']==2) & (results['Strength']>0.0)].index,\n",
    "            results[(results['Indicator']==2) & (results['Strength']>0.0)]['Price'],\n",
    "            color='green', marker='^')\n",
    "sloc = MinuteLocator()\n",
    "mloc = MinuteLocator(interval=15)\n",
    "ax.xaxis.set_major_locator(mloc)\n",
    "ax.xaxis.set_minor_locator(sloc)\n",
    "\n",
    "ax.grid(True)\n",
    "plt.xticks(rotation=90)\n",
    "plt.show()"
   ]
  },
  {
   "cell_type": "code",
   "execution_count": 376,
   "metadata": {},
   "outputs": [
    {
     "data": {
      "application/vnd.plotly.v1+json": {
       "config": {
        "plotlyServerURL": "https://plot.ly"
       },
       "data": [
        {
         "close": [
          136.392,
          136.383,
          136.396,
          136.36,
          136.37,
          136.408,
          136.397,
          136.392,
          136.398,
          136.37,
          136.41,
          136.422,
          136.41,
          136.404,
          136.403,
          136.373,
          136.394,
          136.39,
          136.404,
          136.41,
          136.412,
          136.415,
          136.413,
          136.413,
          136.392,
          136.408,
          136.407,
          136.401,
          136.389,
          136.395,
          136.372,
          136.385,
          136.36,
          136.37,
          136.39,
          136.404,
          136.407,
          136.398,
          136.396,
          136.396,
          136.399,
          136.392,
          136.397,
          136.402,
          136.39,
          136.378,
          136.374,
          136.375,
          136.392,
          136.398,
          136.39,
          136.391,
          136.395,
          136.374,
          136.359,
          136.369,
          136.377,
          136.391,
          136.34,
          136.361,
          136.348,
          136.344,
          136.341,
          136.341,
          136.338,
          136.32,
          136.321,
          136.356,
          136.3,
          136.305,
          136.313,
          136.316,
          136.333,
          136.327,
          136.318,
          136.34,
          136.348,
          136.354,
          136.378,
          136.382,
          136.391,
          136.399,
          136.379,
          136.387,
          136.398,
          136.406,
          136.375,
          136.377,
          136.396,
          136.39,
          136.376,
          136.399,
          136.398,
          136.415,
          136.38,
          136.402,
          136.411,
          136.381,
          136.398,
          136.416,
          136.41,
          136.398,
          136.394,
          136.39,
          136.413,
          136.416,
          136.409,
          136.409,
          136.418,
          136.411,
          136.396,
          136.406,
          136.37,
          136.36,
          136.37,
          136.381,
          136.397,
          136.383,
          136.395,
          136.365,
          136.372,
          136.398,
          136.407,
          136.415,
          136.41,
          136.4,
          136.39,
          136.418,
          136.4,
          136.405,
          136.421,
          136.427,
          136.418,
          136.406,
          136.433,
          136.41,
          136.426,
          136.405,
          136.423,
          136.463,
          136.476,
          136.481,
          136.489,
          136.483,
          136.465,
          136.462,
          136.429,
          136.434,
          136.411,
          136.418,
          136.413,
          136.447,
          136.45,
          136.45,
          136.41,
          136.455,
          136.46,
          136.472,
          136.465,
          136.459,
          136.44,
          136.468,
          136.44,
          136.477,
          136.44,
          136.424,
          136.4,
          136.426,
          136.437,
          136.433,
          136.44,
          136.446,
          136.429,
          136.416,
          136.423,
          136.433,
          136.441,
          136.447,
          136.486,
          136.462,
          136.435,
          136.403,
          136.406,
          136.402,
          136.392,
          136.43,
          136.417,
          136.44,
          136.442,
          136.439,
          136.395,
          136.373,
          136.361,
          136.362,
          136.373,
          136.365,
          136.33,
          136.347,
          136.346,
          136.361,
          136.38,
          136.385,
          136.398,
          136.368,
          136.358,
          136.339,
          136.37,
          136.36,
          136.334,
          136.306,
          136.315,
          136.281,
          136.293,
          136.314,
          136.309,
          136.299,
          136.264,
          136.249,
          136.229,
          136.247,
          136.252,
          136.277,
          136.305,
          136.298,
          136.29,
          136.25,
          136.253,
          136.261,
          136.256,
          136.282,
          136.275,
          136.259,
          136.276,
          136.256,
          136.259,
          136.237,
          136.261,
          136.288,
          136.272,
          136.296,
          136.286,
          136.319,
          136.3,
          136.281,
          136.268,
          136.234,
          136.247,
          136.245,
          136.22,
          136.235,
          136.234,
          136.205,
          136.2,
          136.158,
          136.139,
          136.157,
          136.09,
          136.06,
          136.132,
          136.162,
          136.177,
          136.179,
          136.191,
          136.204,
          136.189,
          136.156,
          136.156,
          136.153,
          136.146,
          136.139,
          136.148,
          136.176,
          136.184,
          136.205,
          136.221,
          136.228,
          136.258,
          136.263,
          136.279,
          136.294,
          136.251,
          136.256,
          136.281,
          136.282,
          136.291,
          136.268,
          136.275,
          136.28,
          136.319,
          136.361,
          136.368,
          136.37,
          136.385,
          136.392,
          136.401,
          136.425,
          136.428,
          136.41,
          136.448,
          136.453
         ],
         "high": [
          136.404,
          136.401,
          136.402,
          136.399,
          136.402,
          136.412,
          136.42,
          136.409,
          136.403,
          136.412,
          136.413,
          136.433,
          136.425,
          136.427,
          136.407,
          136.412,
          136.394,
          136.416,
          136.414,
          136.422,
          136.422,
          136.416,
          136.422,
          136.421,
          136.416,
          136.408,
          136.411,
          136.407,
          136.437,
          136.403,
          136.396,
          136.394,
          136.4,
          136.405,
          136.424,
          136.416,
          136.409,
          136.422,
          136.41,
          136.401,
          136.405,
          136.406,
          136.407,
          136.412,
          136.402,
          136.401,
          136.387,
          136.394,
          136.396,
          136.41,
          136.402,
          136.403,
          136.404,
          136.404,
          136.384,
          136.376,
          136.382,
          136.407,
          136.394,
          136.368,
          136.365,
          136.36,
          136.349,
          136.344,
          136.347,
          136.354,
          136.355,
          136.358,
          136.358,
          136.322,
          136.32,
          136.326,
          136.341,
          136.339,
          136.34,
          136.343,
          136.364,
          136.358,
          136.383,
          136.394,
          136.396,
          136.418,
          136.402,
          136.397,
          136.403,
          136.412,
          136.411,
          136.4,
          136.4,
          136.411,
          136.397,
          136.404,
          136.408,
          136.42,
          136.421,
          136.423,
          136.429,
          136.411,
          136.407,
          136.424,
          136.43,
          136.418,
          136.405,
          136.422,
          136.418,
          136.422,
          136.419,
          136.419,
          136.421,
          136.423,
          136.423,
          136.409,
          136.419,
          136.409,
          136.407,
          136.408,
          136.405,
          136.4,
          136.395,
          136.395,
          136.38,
          136.406,
          136.419,
          136.419,
          136.43,
          136.419,
          136.424,
          136.43,
          136.438,
          136.411,
          136.425,
          136.447,
          136.441,
          136.443,
          136.448,
          136.442,
          136.437,
          136.429,
          136.423,
          136.469,
          136.5,
          136.497,
          136.497,
          136.496,
          136.495,
          136.473,
          136.463,
          136.455,
          136.441,
          136.43,
          136.421,
          136.448,
          136.451,
          136.468,
          136.462,
          136.463,
          136.48,
          136.477,
          136.496,
          136.474,
          136.477,
          136.48,
          136.473,
          136.48,
          136.483,
          136.44,
          136.449,
          136.448,
          136.439,
          136.448,
          136.452,
          136.45,
          136.447,
          136.432,
          136.433,
          136.437,
          136.448,
          136.451,
          136.501,
          136.49,
          136.473,
          136.443,
          136.418,
          136.416,
          136.41,
          136.436,
          136.447,
          136.455,
          136.464,
          136.445,
          136.443,
          136.399,
          136.373,
          136.373,
          136.388,
          136.391,
          136.379,
          136.348,
          136.352,
          136.389,
          136.382,
          136.387,
          136.398,
          136.406,
          136.371,
          136.369,
          136.376,
          136.38,
          136.399,
          136.339,
          136.323,
          136.324,
          136.295,
          136.32,
          136.322,
          136.315,
          136.302,
          136.283,
          136.264,
          136.259,
          136.26,
          136.286,
          136.311,
          136.317,
          136.307,
          136.298,
          136.282,
          136.263,
          136.279,
          136.287,
          136.287,
          136.285,
          136.276,
          136.277,
          136.279,
          136.265,
          136.265,
          136.295,
          136.297,
          136.307,
          136.3,
          136.321,
          136.331,
          136.303,
          136.297,
          136.275,
          136.26,
          136.262,
          136.255,
          136.259,
          136.258,
          136.243,
          136.219,
          136.204,
          136.166,
          136.166,
          136.16,
          136.123,
          136.138,
          136.165,
          136.192,
          136.183,
          136.2,
          136.218,
          136.219,
          136.197,
          136.189,
          136.202,
          136.173,
          136.161,
          136.159,
          136.195,
          136.211,
          136.221,
          136.237,
          136.246,
          136.26,
          136.284,
          136.282,
          136.304,
          136.282,
          136.281,
          136.287,
          136.29,
          136.302,
          136.304,
          136.285,
          136.305,
          136.324,
          136.366,
          136.378,
          136.395,
          136.402,
          136.4,
          136.408,
          136.437,
          136.436,
          136.45,
          136.46,
          136.453
         ],
         "low": [
          136.36,
          136.346,
          136.345,
          136.358,
          136.36,
          136.36,
          136.37,
          136.36,
          136.354,
          136.36,
          136.36,
          136.38,
          136.38,
          136.38,
          136.37,
          136.35,
          136.347,
          136.36,
          136.37,
          136.37,
          136.374,
          136.38,
          136.38,
          136.38,
          136.365,
          136.36,
          136.36,
          136.36,
          136.35,
          136.36,
          136.344,
          136.349,
          136.35,
          136.36,
          136.369,
          136.37,
          136.37,
          136.367,
          136.367,
          136.36,
          136.36,
          136.36,
          136.368,
          136.36,
          136.35,
          136.355,
          136.346,
          136.35,
          136.349,
          136.36,
          136.36,
          136.364,
          136.36,
          136.35,
          136.33,
          136.33,
          136.32,
          136.344,
          136.33,
          136.325,
          136.32,
          136.32,
          136.31,
          136.308,
          136.3,
          136.31,
          136.3,
          136.3,
          136.29,
          136.27,
          136.28,
          136.28,
          136.28,
          136.299,
          136.3,
          136.297,
          136.32,
          136.317,
          136.33,
          136.349,
          136.35,
          136.367,
          136.35,
          136.34,
          136.358,
          136.357,
          136.357,
          136.35,
          136.35,
          136.36,
          136.35,
          136.36,
          136.366,
          136.377,
          136.38,
          136.38,
          136.379,
          136.345,
          136.356,
          136.37,
          136.38,
          136.38,
          136.365,
          136.37,
          136.376,
          136.38,
          136.38,
          136.38,
          136.378,
          136.386,
          136.38,
          136.37,
          136.36,
          136.35,
          136.36,
          136.35,
          136.35,
          136.35,
          136.35,
          136.33,
          136.33,
          136.34,
          136.359,
          136.37,
          136.375,
          136.369,
          136.37,
          136.38,
          136.38,
          136.37,
          136.38,
          136.39,
          136.39,
          136.38,
          136.38,
          136.386,
          136.39,
          136.37,
          136.37,
          136.386,
          136.42,
          136.43,
          136.44,
          136.44,
          136.43,
          136.41,
          136.41,
          136.39,
          136.38,
          136.37,
          136.369,
          136.38,
          136.409,
          136.42,
          136.4,
          136.41,
          136.43,
          136.439,
          136.43,
          136.427,
          136.425,
          136.42,
          136.4,
          136.41,
          136.41,
          136.37,
          136.39,
          136.39,
          136.39,
          136.4,
          136.4,
          136.41,
          136.389,
          136.38,
          136.386,
          136.393,
          136.4,
          136.41,
          136.42,
          136.427,
          136.4,
          136.376,
          136.37,
          136.37,
          136.36,
          136.36,
          136.39,
          136.39,
          136.41,
          136.39,
          136.37,
          136.34,
          136.319,
          136.33,
          136.34,
          136.34,
          136.327,
          136.32,
          136.31,
          136.317,
          136.33,
          136.34,
          136.35,
          136.34,
          136.307,
          136.3,
          136.3,
          136.336,
          136.3,
          136.27,
          136.27,
          136.25,
          136.242,
          136.26,
          136.27,
          136.27,
          136.24,
          136.21,
          136.2,
          136.2,
          136.21,
          136.22,
          136.25,
          136.27,
          136.24,
          136.25,
          136.22,
          136.22,
          136.23,
          136.23,
          136.25,
          136.22,
          136.23,
          136.226,
          136.23,
          136.2,
          136.21,
          136.24,
          136.23,
          136.25,
          136.23,
          136.25,
          136.26,
          136.25,
          136.24,
          136.2,
          136.21,
          136.21,
          136.2,
          136.21,
          136.19,
          136.16,
          136.15,
          136.12,
          136.11,
          136.108,
          136.09,
          136.047,
          136.035,
          136.1,
          136.13,
          136.126,
          136.13,
          136.127,
          136.17,
          136.123,
          136.124,
          136.14,
          136.1,
          136.1,
          136.11,
          136.109,
          136.15,
          136.16,
          136.18,
          136.2,
          136.19,
          136.22,
          136.24,
          136.27,
          136.22,
          136.22,
          136.23,
          136.23,
          136.24,
          136.24,
          136.23,
          136.25,
          136.27,
          136.29,
          136.33,
          136.34,
          136.35,
          136.35,
          136.35,
          136.38,
          136.39,
          136.39,
          136.39,
          136.453
         ],
         "open": [
          136.399,
          136.393,
          136.384,
          136.39,
          136.394,
          136.397,
          136.409,
          136.404,
          136.36,
          136.399,
          136.398,
          136.411,
          136.4,
          136.39,
          136.407,
          136.403,
          136.383,
          136.391,
          136.41,
          136.408,
          136.411,
          136.38,
          136.416,
          136.415,
          136.414,
          136.393,
          136.38,
          136.407,
          136.402,
          136.36,
          136.37,
          136.35,
          136.35,
          136.395,
          136.4,
          136.412,
          136.38,
          136.409,
          136.38,
          136.37,
          136.395,
          136.398,
          136.37,
          136.399,
          136.402,
          136.36,
          136.386,
          136.36,
          136.379,
          136.392,
          136.397,
          136.399,
          136.399,
          136.394,
          136.36,
          136.363,
          136.371,
          136.381,
          136.394,
          136.368,
          136.33,
          136.352,
          136.344,
          136.337,
          136.339,
          136.342,
          136.35,
          136.32,
          136.354,
          136.29,
          136.313,
          136.314,
          136.316,
          136.332,
          136.333,
          136.322,
          136.32,
          136.352,
          136.354,
          136.384,
          136.37,
          136.395,
          136.397,
          136.35,
          136.381,
          136.394,
          136.411,
          136.384,
          136.379,
          136.4,
          136.391,
          136.386,
          136.402,
          136.408,
          136.413,
          136.405,
          136.39,
          136.411,
          136.383,
          136.404,
          136.417,
          136.409,
          136.405,
          136.395,
          136.417,
          136.413,
          136.38,
          136.414,
          136.417,
          136.417,
          136.421,
          136.405,
          136.403,
          136.402,
          136.384,
          136.394,
          136.385,
          136.395,
          136.387,
          136.395,
          136.366,
          136.374,
          136.401,
          136.407,
          136.41,
          136.417,
          136.38,
          136.414,
          136.419,
          136.38,
          136.402,
          136.423,
          136.435,
          136.4,
          136.417,
          136.429,
          136.42,
          136.428,
          136.403,
          136.419,
          136.43,
          136.47,
          136.473,
          136.483,
          136.486,
          136.465,
          136.43,
          136.434,
          136.432,
          136.408,
          136.415,
          136.417,
          136.448,
          136.451,
          136.449,
          136.444,
          136.463,
          136.45,
          136.473,
          136.465,
          136.463,
          136.47,
          136.473,
          136.442,
          136.476,
          136.439,
          136.4,
          136.43,
          136.426,
          136.41,
          136.41,
          136.444,
          136.44,
          136.41,
          136.422,
          136.431,
          136.432,
          136.441,
          136.448,
          136.489,
          136.461,
          136.438,
          136.411,
          136.408,
          136.403,
          136.4,
          136.434,
          136.425,
          136.453,
          136.435,
          136.437,
          136.396,
          136.369,
          136.361,
          136.363,
          136.378,
          136.374,
          136.32,
          136.342,
          136.348,
          136.359,
          136.38,
          136.382,
          136.397,
          136.371,
          136.358,
          136.339,
          136.369,
          136.369,
          136.336,
          136.306,
          136.318,
          136.284,
          136.287,
          136.317,
          136.307,
          136.302,
          136.273,
          136.249,
          136.23,
          136.247,
          136.252,
          136.277,
          136.307,
          136.305,
          136.295,
          136.28,
          136.254,
          136.261,
          136.261,
          136.286,
          136.25,
          136.26,
          136.275,
          136.256,
          136.265,
          136.244,
          136.262,
          136.296,
          136.277,
          136.3,
          136.285,
          136.317,
          136.27,
          136.283,
          136.268,
          136.242,
          136.22,
          136.253,
          136.252,
          136.243,
          136.239,
          136.18,
          136.17,
          136.158,
          136.144,
          136.159,
          136.123,
          136.09,
          136.129,
          136.13,
          136.182,
          136.178,
          136.17,
          136.18,
          136.19,
          136.164,
          136.165,
          136.159,
          136.154,
          136.149,
          136.13,
          136.177,
          136.184,
          136.211,
          136.232,
          136.231,
          136.26,
          136.271,
          136.292,
          136.282,
          136.259,
          136.254,
          136.275,
          136.275,
          136.284,
          136.264,
          136.283,
          136.301,
          136.325,
          136.357,
          136.368,
          136.385,
          136.378,
          136.401,
          136.408,
          136.418,
          136.42,
          136.435,
          136.453
         ],
         "type": "candlestick",
         "x": [
          "2020-07-30T04:02:00+01:00",
          "2020-07-30T04:03:00+01:00",
          "2020-07-30T04:04:00+01:00",
          "2020-07-30T04:05:00+01:00",
          "2020-07-30T04:06:00+01:00",
          "2020-07-30T04:07:00+01:00",
          "2020-07-30T04:08:00+01:00",
          "2020-07-30T04:09:00+01:00",
          "2020-07-30T04:10:00+01:00",
          "2020-07-30T04:11:00+01:00",
          "2020-07-30T04:12:00+01:00",
          "2020-07-30T04:13:00+01:00",
          "2020-07-30T04:14:00+01:00",
          "2020-07-30T04:15:00+01:00",
          "2020-07-30T04:16:00+01:00",
          "2020-07-30T04:17:00+01:00",
          "2020-07-30T04:18:00+01:00",
          "2020-07-30T04:19:00+01:00",
          "2020-07-30T04:20:00+01:00",
          "2020-07-30T04:21:00+01:00",
          "2020-07-30T04:22:00+01:00",
          "2020-07-30T04:23:00+01:00",
          "2020-07-30T04:24:00+01:00",
          "2020-07-30T04:25:00+01:00",
          "2020-07-30T04:26:00+01:00",
          "2020-07-30T04:27:00+01:00",
          "2020-07-30T04:28:00+01:00",
          "2020-07-30T04:29:00+01:00",
          "2020-07-30T04:30:00+01:00",
          "2020-07-30T04:31:00+01:00",
          "2020-07-30T04:32:00+01:00",
          "2020-07-30T04:33:00+01:00",
          "2020-07-30T04:34:00+01:00",
          "2020-07-30T04:35:00+01:00",
          "2020-07-30T04:36:00+01:00",
          "2020-07-30T04:37:00+01:00",
          "2020-07-30T04:38:00+01:00",
          "2020-07-30T04:39:00+01:00",
          "2020-07-30T04:40:00+01:00",
          "2020-07-30T04:41:00+01:00",
          "2020-07-30T04:42:00+01:00",
          "2020-07-30T04:43:00+01:00",
          "2020-07-30T04:44:00+01:00",
          "2020-07-30T04:45:00+01:00",
          "2020-07-30T04:46:00+01:00",
          "2020-07-30T04:47:00+01:00",
          "2020-07-30T04:48:00+01:00",
          "2020-07-30T04:49:00+01:00",
          "2020-07-30T04:50:00+01:00",
          "2020-07-30T04:51:00+01:00",
          "2020-07-30T04:52:00+01:00",
          "2020-07-30T04:53:00+01:00",
          "2020-07-30T04:54:00+01:00",
          "2020-07-30T04:55:00+01:00",
          "2020-07-30T04:56:00+01:00",
          "2020-07-30T04:57:00+01:00",
          "2020-07-30T04:58:00+01:00",
          "2020-07-30T04:59:00+01:00",
          "2020-07-30T05:00:00+01:00",
          "2020-07-30T05:01:00+01:00",
          "2020-07-30T05:02:00+01:00",
          "2020-07-30T05:03:00+01:00",
          "2020-07-30T05:04:00+01:00",
          "2020-07-30T05:05:00+01:00",
          "2020-07-30T05:06:00+01:00",
          "2020-07-30T05:07:00+01:00",
          "2020-07-30T05:08:00+01:00",
          "2020-07-30T05:09:00+01:00",
          "2020-07-30T05:10:00+01:00",
          "2020-07-30T05:11:00+01:00",
          "2020-07-30T05:12:00+01:00",
          "2020-07-30T05:13:00+01:00",
          "2020-07-30T05:14:00+01:00",
          "2020-07-30T05:15:00+01:00",
          "2020-07-30T05:16:00+01:00",
          "2020-07-30T05:17:00+01:00",
          "2020-07-30T05:18:00+01:00",
          "2020-07-30T05:19:00+01:00",
          "2020-07-30T05:20:00+01:00",
          "2020-07-30T05:21:00+01:00",
          "2020-07-30T05:22:00+01:00",
          "2020-07-30T05:23:00+01:00",
          "2020-07-30T05:24:00+01:00",
          "2020-07-30T05:25:00+01:00",
          "2020-07-30T05:26:00+01:00",
          "2020-07-30T05:27:00+01:00",
          "2020-07-30T05:28:00+01:00",
          "2020-07-30T05:29:00+01:00",
          "2020-07-30T05:30:00+01:00",
          "2020-07-30T05:31:00+01:00",
          "2020-07-30T05:32:00+01:00",
          "2020-07-30T05:33:00+01:00",
          "2020-07-30T05:34:00+01:00",
          "2020-07-30T05:35:00+01:00",
          "2020-07-30T05:36:00+01:00",
          "2020-07-30T05:37:00+01:00",
          "2020-07-30T05:38:00+01:00",
          "2020-07-30T05:39:00+01:00",
          "2020-07-30T05:40:00+01:00",
          "2020-07-30T05:41:00+01:00",
          "2020-07-30T05:42:00+01:00",
          "2020-07-30T05:43:00+01:00",
          "2020-07-30T05:44:00+01:00",
          "2020-07-30T05:45:00+01:00",
          "2020-07-30T05:46:00+01:00",
          "2020-07-30T05:47:00+01:00",
          "2020-07-30T05:48:00+01:00",
          "2020-07-30T05:49:00+01:00",
          "2020-07-30T05:50:00+01:00",
          "2020-07-30T05:51:00+01:00",
          "2020-07-30T05:52:00+01:00",
          "2020-07-30T05:53:00+01:00",
          "2020-07-30T05:54:00+01:00",
          "2020-07-30T05:55:00+01:00",
          "2020-07-30T05:56:00+01:00",
          "2020-07-30T05:57:00+01:00",
          "2020-07-30T05:58:00+01:00",
          "2020-07-30T05:59:00+01:00",
          "2020-07-30T06:00:00+01:00",
          "2020-07-30T06:01:00+01:00",
          "2020-07-30T06:02:00+01:00",
          "2020-07-30T06:03:00+01:00",
          "2020-07-30T06:04:00+01:00",
          "2020-07-30T06:05:00+01:00",
          "2020-07-30T06:06:00+01:00",
          "2020-07-30T06:07:00+01:00",
          "2020-07-30T06:08:00+01:00",
          "2020-07-30T06:09:00+01:00",
          "2020-07-30T06:10:00+01:00",
          "2020-07-30T06:11:00+01:00",
          "2020-07-30T06:12:00+01:00",
          "2020-07-30T06:13:00+01:00",
          "2020-07-30T06:14:00+01:00",
          "2020-07-30T06:15:00+01:00",
          "2020-07-30T06:16:00+01:00",
          "2020-07-30T06:17:00+01:00",
          "2020-07-30T06:18:00+01:00",
          "2020-07-30T06:19:00+01:00",
          "2020-07-30T06:20:00+01:00",
          "2020-07-30T06:21:00+01:00",
          "2020-07-30T06:22:00+01:00",
          "2020-07-30T06:23:00+01:00",
          "2020-07-30T06:24:00+01:00",
          "2020-07-30T06:25:00+01:00",
          "2020-07-30T06:26:00+01:00",
          "2020-07-30T06:27:00+01:00",
          "2020-07-30T06:28:00+01:00",
          "2020-07-30T06:29:00+01:00",
          "2020-07-30T06:30:00+01:00",
          "2020-07-30T06:31:00+01:00",
          "2020-07-30T06:32:00+01:00",
          "2020-07-30T06:33:00+01:00",
          "2020-07-30T06:34:00+01:00",
          "2020-07-30T06:35:00+01:00",
          "2020-07-30T06:36:00+01:00",
          "2020-07-30T06:37:00+01:00",
          "2020-07-30T06:38:00+01:00",
          "2020-07-30T06:39:00+01:00",
          "2020-07-30T06:40:00+01:00",
          "2020-07-30T06:41:00+01:00",
          "2020-07-30T06:42:00+01:00",
          "2020-07-30T06:43:00+01:00",
          "2020-07-30T06:44:00+01:00",
          "2020-07-30T06:45:00+01:00",
          "2020-07-30T06:46:00+01:00",
          "2020-07-30T06:47:00+01:00",
          "2020-07-30T06:48:00+01:00",
          "2020-07-30T06:49:00+01:00",
          "2020-07-30T06:50:00+01:00",
          "2020-07-30T06:51:00+01:00",
          "2020-07-30T06:52:00+01:00",
          "2020-07-30T06:53:00+01:00",
          "2020-07-30T06:54:00+01:00",
          "2020-07-30T06:55:00+01:00",
          "2020-07-30T06:56:00+01:00",
          "2020-07-30T06:57:00+01:00",
          "2020-07-30T06:58:00+01:00",
          "2020-07-30T06:59:00+01:00",
          "2020-07-30T07:00:00+01:00",
          "2020-07-30T07:01:00+01:00",
          "2020-07-30T07:02:00+01:00",
          "2020-07-30T07:03:00+01:00",
          "2020-07-30T07:04:00+01:00",
          "2020-07-30T07:05:00+01:00",
          "2020-07-30T07:06:00+01:00",
          "2020-07-30T07:07:00+01:00",
          "2020-07-30T07:08:00+01:00",
          "2020-07-30T07:09:00+01:00",
          "2020-07-30T07:10:00+01:00",
          "2020-07-30T07:11:00+01:00",
          "2020-07-30T07:12:00+01:00",
          "2020-07-30T07:13:00+01:00",
          "2020-07-30T07:14:00+01:00",
          "2020-07-30T07:15:00+01:00",
          "2020-07-30T07:16:00+01:00",
          "2020-07-30T07:17:00+01:00",
          "2020-07-30T07:18:00+01:00",
          "2020-07-30T07:19:00+01:00",
          "2020-07-30T07:20:00+01:00",
          "2020-07-30T07:21:00+01:00",
          "2020-07-30T07:22:00+01:00",
          "2020-07-30T07:23:00+01:00",
          "2020-07-30T07:24:00+01:00",
          "2020-07-30T07:25:00+01:00",
          "2020-07-30T07:26:00+01:00",
          "2020-07-30T07:27:00+01:00",
          "2020-07-30T07:28:00+01:00",
          "2020-07-30T07:29:00+01:00",
          "2020-07-30T07:30:00+01:00",
          "2020-07-30T07:31:00+01:00",
          "2020-07-30T07:32:00+01:00",
          "2020-07-30T07:33:00+01:00",
          "2020-07-30T07:34:00+01:00",
          "2020-07-30T07:35:00+01:00",
          "2020-07-30T07:36:00+01:00",
          "2020-07-30T07:37:00+01:00",
          "2020-07-30T07:38:00+01:00",
          "2020-07-30T07:39:00+01:00",
          "2020-07-30T07:40:00+01:00",
          "2020-07-30T07:41:00+01:00",
          "2020-07-30T07:42:00+01:00",
          "2020-07-30T07:43:00+01:00",
          "2020-07-30T07:44:00+01:00",
          "2020-07-30T07:45:00+01:00",
          "2020-07-30T07:46:00+01:00",
          "2020-07-30T07:47:00+01:00",
          "2020-07-30T07:48:00+01:00",
          "2020-07-30T07:49:00+01:00",
          "2020-07-30T07:50:00+01:00",
          "2020-07-30T07:51:00+01:00",
          "2020-07-30T07:52:00+01:00",
          "2020-07-30T07:53:00+01:00",
          "2020-07-30T07:54:00+01:00",
          "2020-07-30T07:55:00+01:00",
          "2020-07-30T07:56:00+01:00",
          "2020-07-30T07:57:00+01:00",
          "2020-07-30T07:58:00+01:00",
          "2020-07-30T07:59:00+01:00",
          "2020-07-30T08:00:00+01:00",
          "2020-07-30T08:01:00+01:00",
          "2020-07-30T08:02:00+01:00",
          "2020-07-30T08:03:00+01:00",
          "2020-07-30T08:04:00+01:00",
          "2020-07-30T08:05:00+01:00",
          "2020-07-30T08:06:00+01:00",
          "2020-07-30T08:07:00+01:00",
          "2020-07-30T08:08:00+01:00",
          "2020-07-30T08:09:00+01:00",
          "2020-07-30T08:10:00+01:00",
          "2020-07-30T08:11:00+01:00",
          "2020-07-30T08:12:00+01:00",
          "2020-07-30T08:13:00+01:00",
          "2020-07-30T08:14:00+01:00",
          "2020-07-30T08:15:00+01:00",
          "2020-07-30T08:16:00+01:00",
          "2020-07-30T08:17:00+01:00",
          "2020-07-30T08:18:00+01:00",
          "2020-07-30T08:19:00+01:00",
          "2020-07-30T08:20:00+01:00",
          "2020-07-30T08:21:00+01:00",
          "2020-07-30T08:22:00+01:00",
          "2020-07-30T08:23:00+01:00",
          "2020-07-30T08:24:00+01:00",
          "2020-07-30T08:25:00+01:00",
          "2020-07-30T08:26:00+01:00",
          "2020-07-30T08:27:00+01:00",
          "2020-07-30T08:28:00+01:00",
          "2020-07-30T08:29:00+01:00",
          "2020-07-30T08:30:00+01:00",
          "2020-07-30T08:31:00+01:00",
          "2020-07-30T08:32:00+01:00",
          "2020-07-30T08:33:00+01:00",
          "2020-07-30T08:34:00+01:00",
          "2020-07-30T08:35:00+01:00",
          "2020-07-30T08:36:00+01:00",
          "2020-07-30T08:37:00+01:00",
          "2020-07-30T08:38:00+01:00",
          "2020-07-30T08:39:00+01:00",
          "2020-07-30T08:40:00+01:00",
          "2020-07-30T08:41:00+01:00",
          "2020-07-30T08:42:00+01:00",
          "2020-07-30T08:43:00+01:00",
          "2020-07-30T08:44:00+01:00",
          "2020-07-30T08:45:00+01:00",
          "2020-07-30T08:46:00+01:00",
          "2020-07-30T08:47:00+01:00",
          "2020-07-30T08:48:00+01:00",
          "2020-07-30T08:49:00+01:00",
          "2020-07-30T08:50:00+01:00",
          "2020-07-30T08:51:00+01:00",
          "2020-07-30T08:52:00+01:00",
          "2020-07-30T08:53:00+01:00",
          "2020-07-30T08:54:00+01:00",
          "2020-07-30T08:55:00+01:00",
          "2020-07-30T08:56:00+01:00",
          "2020-07-30T08:57:00+01:00",
          "2020-07-30T08:58:00+01:00",
          "2020-07-30T08:59:00+01:00",
          "2020-07-30T09:00:00+01:00",
          "2020-07-30T09:01:18+01:00"
         ]
        },
        {
         "marker": {
          "size": [
           5.850071310997009,
           8.199900388717651,
           9.131371974945068,
           9.231305122375488,
           8.861225843429565,
           9.577248096466064,
           6.094706058502197,
           8.597895503044128,
           9.9909508228302,
           9.91978645324707,
           7.124204039573669,
           7.765833735466003,
           4.579845070838928,
           9.332726001739502,
           3.4945011138916016,
           6.395101547241211,
           9.211232662200928,
           8.427375555038452,
           5.955345034599304,
           7.191205024719238
          ],
          "symbol": "triangle-down"
         },
         "mode": "markers",
         "name": "Down",
         "type": "scatter",
         "x": [
          "2020-07-30T05:54:00+01:00",
          "2020-07-30T05:55:00+01:00",
          "2020-07-30T05:56:00+01:00",
          "2020-07-30T05:57:00+01:00",
          "2020-07-30T05:58:00+01:00",
          "2020-07-30T05:59:00+01:00",
          "2020-07-30T06:09:00+01:00",
          "2020-07-30T06:10:00+01:00",
          "2020-07-30T06:13:00+01:00",
          "2020-07-30T06:14:00+01:00",
          "2020-07-30T06:15:00+01:00",
          "2020-07-30T06:30:00+01:00",
          "2020-07-30T06:34:00+01:00",
          "2020-07-30T06:40:00+01:00",
          "2020-07-30T07:07:00+01:00",
          "2020-07-30T07:54:00+01:00",
          "2020-07-30T08:05:00+01:00",
          "2020-07-30T08:06:00+01:00",
          "2020-07-30T08:18:00+01:00",
          "2020-07-30T08:30:00+01:00"
         ],
         "y": [
          136.37,
          136.36,
          136.37,
          136.381,
          136.397,
          136.383,
          136.418,
          136.4,
          136.427,
          136.418,
          136.406,
          136.411,
          136.45,
          136.465,
          136.43,
          136.276,
          136.281,
          136.268,
          136.09,
          136.146
         ]
        },
        {
         "marker": {
          "size": [
           3.8800716400146484,
           9.671328067779541,
           5.716752409934998,
           8.219658732414246,
           8.184022903442383,
           9.982402324676514,
           6.820951700210571,
           4.421249032020569,
           5.119415521621704,
           6.6006797552108765,
           7.587475776672363,
           7.110356092453003,
           4.332624673843384,
           5.927591323852539,
           9.60948646068573,
           9.84478235244751
          ],
          "symbol": "triangle-up"
         },
         "mode": "markers",
         "name": "Up",
         "type": "scatter",
         "x": [
          "2020-07-30T06:00:00+01:00",
          "2020-07-30T06:08:00+01:00",
          "2020-07-30T06:22:00+01:00",
          "2020-07-30T06:32:00+01:00",
          "2020-07-30T07:09:00+01:00",
          "2020-07-30T07:10:00+01:00",
          "2020-07-30T07:13:00+01:00",
          "2020-07-30T07:20:00+01:00",
          "2020-07-30T07:35:00+01:00",
          "2020-07-30T07:46:00+01:00",
          "2020-07-30T07:47:00+01:00",
          "2020-07-30T07:48:00+01:00",
          "2020-07-30T07:49:00+01:00",
          "2020-07-30T07:50:00+01:00",
          "2020-07-30T08:14:00+01:00",
          "2020-07-30T08:40:00+01:00"
         ],
         "y": [
          136.395,
          136.39,
          136.476,
          136.413,
          136.44,
          136.442,
          136.373,
          136.346,
          136.314,
          136.29,
          136.25,
          136.253,
          136.261,
          136.256,
          136.2,
          136.279
         ]
        }
       ],
       "layout": {
        "template": {
         "data": {
          "bar": [
           {
            "error_x": {
             "color": "#2a3f5f"
            },
            "error_y": {
             "color": "#2a3f5f"
            },
            "marker": {
             "line": {
              "color": "#E5ECF6",
              "width": 0.5
             }
            },
            "type": "bar"
           }
          ],
          "barpolar": [
           {
            "marker": {
             "line": {
              "color": "#E5ECF6",
              "width": 0.5
             }
            },
            "type": "barpolar"
           }
          ],
          "carpet": [
           {
            "aaxis": {
             "endlinecolor": "#2a3f5f",
             "gridcolor": "white",
             "linecolor": "white",
             "minorgridcolor": "white",
             "startlinecolor": "#2a3f5f"
            },
            "baxis": {
             "endlinecolor": "#2a3f5f",
             "gridcolor": "white",
             "linecolor": "white",
             "minorgridcolor": "white",
             "startlinecolor": "#2a3f5f"
            },
            "type": "carpet"
           }
          ],
          "choropleth": [
           {
            "colorbar": {
             "outlinewidth": 0,
             "ticks": ""
            },
            "type": "choropleth"
           }
          ],
          "contour": [
           {
            "colorbar": {
             "outlinewidth": 0,
             "ticks": ""
            },
            "colorscale": [
             [
              0,
              "#0d0887"
             ],
             [
              0.1111111111111111,
              "#46039f"
             ],
             [
              0.2222222222222222,
              "#7201a8"
             ],
             [
              0.3333333333333333,
              "#9c179e"
             ],
             [
              0.4444444444444444,
              "#bd3786"
             ],
             [
              0.5555555555555556,
              "#d8576b"
             ],
             [
              0.6666666666666666,
              "#ed7953"
             ],
             [
              0.7777777777777778,
              "#fb9f3a"
             ],
             [
              0.8888888888888888,
              "#fdca26"
             ],
             [
              1,
              "#f0f921"
             ]
            ],
            "type": "contour"
           }
          ],
          "contourcarpet": [
           {
            "colorbar": {
             "outlinewidth": 0,
             "ticks": ""
            },
            "type": "contourcarpet"
           }
          ],
          "heatmap": [
           {
            "colorbar": {
             "outlinewidth": 0,
             "ticks": ""
            },
            "colorscale": [
             [
              0,
              "#0d0887"
             ],
             [
              0.1111111111111111,
              "#46039f"
             ],
             [
              0.2222222222222222,
              "#7201a8"
             ],
             [
              0.3333333333333333,
              "#9c179e"
             ],
             [
              0.4444444444444444,
              "#bd3786"
             ],
             [
              0.5555555555555556,
              "#d8576b"
             ],
             [
              0.6666666666666666,
              "#ed7953"
             ],
             [
              0.7777777777777778,
              "#fb9f3a"
             ],
             [
              0.8888888888888888,
              "#fdca26"
             ],
             [
              1,
              "#f0f921"
             ]
            ],
            "type": "heatmap"
           }
          ],
          "heatmapgl": [
           {
            "colorbar": {
             "outlinewidth": 0,
             "ticks": ""
            },
            "colorscale": [
             [
              0,
              "#0d0887"
             ],
             [
              0.1111111111111111,
              "#46039f"
             ],
             [
              0.2222222222222222,
              "#7201a8"
             ],
             [
              0.3333333333333333,
              "#9c179e"
             ],
             [
              0.4444444444444444,
              "#bd3786"
             ],
             [
              0.5555555555555556,
              "#d8576b"
             ],
             [
              0.6666666666666666,
              "#ed7953"
             ],
             [
              0.7777777777777778,
              "#fb9f3a"
             ],
             [
              0.8888888888888888,
              "#fdca26"
             ],
             [
              1,
              "#f0f921"
             ]
            ],
            "type": "heatmapgl"
           }
          ],
          "histogram": [
           {
            "marker": {
             "colorbar": {
              "outlinewidth": 0,
              "ticks": ""
             }
            },
            "type": "histogram"
           }
          ],
          "histogram2d": [
           {
            "colorbar": {
             "outlinewidth": 0,
             "ticks": ""
            },
            "colorscale": [
             [
              0,
              "#0d0887"
             ],
             [
              0.1111111111111111,
              "#46039f"
             ],
             [
              0.2222222222222222,
              "#7201a8"
             ],
             [
              0.3333333333333333,
              "#9c179e"
             ],
             [
              0.4444444444444444,
              "#bd3786"
             ],
             [
              0.5555555555555556,
              "#d8576b"
             ],
             [
              0.6666666666666666,
              "#ed7953"
             ],
             [
              0.7777777777777778,
              "#fb9f3a"
             ],
             [
              0.8888888888888888,
              "#fdca26"
             ],
             [
              1,
              "#f0f921"
             ]
            ],
            "type": "histogram2d"
           }
          ],
          "histogram2dcontour": [
           {
            "colorbar": {
             "outlinewidth": 0,
             "ticks": ""
            },
            "colorscale": [
             [
              0,
              "#0d0887"
             ],
             [
              0.1111111111111111,
              "#46039f"
             ],
             [
              0.2222222222222222,
              "#7201a8"
             ],
             [
              0.3333333333333333,
              "#9c179e"
             ],
             [
              0.4444444444444444,
              "#bd3786"
             ],
             [
              0.5555555555555556,
              "#d8576b"
             ],
             [
              0.6666666666666666,
              "#ed7953"
             ],
             [
              0.7777777777777778,
              "#fb9f3a"
             ],
             [
              0.8888888888888888,
              "#fdca26"
             ],
             [
              1,
              "#f0f921"
             ]
            ],
            "type": "histogram2dcontour"
           }
          ],
          "mesh3d": [
           {
            "colorbar": {
             "outlinewidth": 0,
             "ticks": ""
            },
            "type": "mesh3d"
           }
          ],
          "parcoords": [
           {
            "line": {
             "colorbar": {
              "outlinewidth": 0,
              "ticks": ""
             }
            },
            "type": "parcoords"
           }
          ],
          "pie": [
           {
            "automargin": true,
            "type": "pie"
           }
          ],
          "scatter": [
           {
            "marker": {
             "colorbar": {
              "outlinewidth": 0,
              "ticks": ""
             }
            },
            "type": "scatter"
           }
          ],
          "scatter3d": [
           {
            "line": {
             "colorbar": {
              "outlinewidth": 0,
              "ticks": ""
             }
            },
            "marker": {
             "colorbar": {
              "outlinewidth": 0,
              "ticks": ""
             }
            },
            "type": "scatter3d"
           }
          ],
          "scattercarpet": [
           {
            "marker": {
             "colorbar": {
              "outlinewidth": 0,
              "ticks": ""
             }
            },
            "type": "scattercarpet"
           }
          ],
          "scattergeo": [
           {
            "marker": {
             "colorbar": {
              "outlinewidth": 0,
              "ticks": ""
             }
            },
            "type": "scattergeo"
           }
          ],
          "scattergl": [
           {
            "marker": {
             "colorbar": {
              "outlinewidth": 0,
              "ticks": ""
             }
            },
            "type": "scattergl"
           }
          ],
          "scattermapbox": [
           {
            "marker": {
             "colorbar": {
              "outlinewidth": 0,
              "ticks": ""
             }
            },
            "type": "scattermapbox"
           }
          ],
          "scatterpolar": [
           {
            "marker": {
             "colorbar": {
              "outlinewidth": 0,
              "ticks": ""
             }
            },
            "type": "scatterpolar"
           }
          ],
          "scatterpolargl": [
           {
            "marker": {
             "colorbar": {
              "outlinewidth": 0,
              "ticks": ""
             }
            },
            "type": "scatterpolargl"
           }
          ],
          "scatterternary": [
           {
            "marker": {
             "colorbar": {
              "outlinewidth": 0,
              "ticks": ""
             }
            },
            "type": "scatterternary"
           }
          ],
          "surface": [
           {
            "colorbar": {
             "outlinewidth": 0,
             "ticks": ""
            },
            "colorscale": [
             [
              0,
              "#0d0887"
             ],
             [
              0.1111111111111111,
              "#46039f"
             ],
             [
              0.2222222222222222,
              "#7201a8"
             ],
             [
              0.3333333333333333,
              "#9c179e"
             ],
             [
              0.4444444444444444,
              "#bd3786"
             ],
             [
              0.5555555555555556,
              "#d8576b"
             ],
             [
              0.6666666666666666,
              "#ed7953"
             ],
             [
              0.7777777777777778,
              "#fb9f3a"
             ],
             [
              0.8888888888888888,
              "#fdca26"
             ],
             [
              1,
              "#f0f921"
             ]
            ],
            "type": "surface"
           }
          ],
          "table": [
           {
            "cells": {
             "fill": {
              "color": "#EBF0F8"
             },
             "line": {
              "color": "white"
             }
            },
            "header": {
             "fill": {
              "color": "#C8D4E3"
             },
             "line": {
              "color": "white"
             }
            },
            "type": "table"
           }
          ]
         },
         "layout": {
          "annotationdefaults": {
           "arrowcolor": "#2a3f5f",
           "arrowhead": 0,
           "arrowwidth": 1
          },
          "coloraxis": {
           "colorbar": {
            "outlinewidth": 0,
            "ticks": ""
           }
          },
          "colorscale": {
           "diverging": [
            [
             0,
             "#8e0152"
            ],
            [
             0.1,
             "#c51b7d"
            ],
            [
             0.2,
             "#de77ae"
            ],
            [
             0.3,
             "#f1b6da"
            ],
            [
             0.4,
             "#fde0ef"
            ],
            [
             0.5,
             "#f7f7f7"
            ],
            [
             0.6,
             "#e6f5d0"
            ],
            [
             0.7,
             "#b8e186"
            ],
            [
             0.8,
             "#7fbc41"
            ],
            [
             0.9,
             "#4d9221"
            ],
            [
             1,
             "#276419"
            ]
           ],
           "sequential": [
            [
             0,
             "#0d0887"
            ],
            [
             0.1111111111111111,
             "#46039f"
            ],
            [
             0.2222222222222222,
             "#7201a8"
            ],
            [
             0.3333333333333333,
             "#9c179e"
            ],
            [
             0.4444444444444444,
             "#bd3786"
            ],
            [
             0.5555555555555556,
             "#d8576b"
            ],
            [
             0.6666666666666666,
             "#ed7953"
            ],
            [
             0.7777777777777778,
             "#fb9f3a"
            ],
            [
             0.8888888888888888,
             "#fdca26"
            ],
            [
             1,
             "#f0f921"
            ]
           ],
           "sequentialminus": [
            [
             0,
             "#0d0887"
            ],
            [
             0.1111111111111111,
             "#46039f"
            ],
            [
             0.2222222222222222,
             "#7201a8"
            ],
            [
             0.3333333333333333,
             "#9c179e"
            ],
            [
             0.4444444444444444,
             "#bd3786"
            ],
            [
             0.5555555555555556,
             "#d8576b"
            ],
            [
             0.6666666666666666,
             "#ed7953"
            ],
            [
             0.7777777777777778,
             "#fb9f3a"
            ],
            [
             0.8888888888888888,
             "#fdca26"
            ],
            [
             1,
             "#f0f921"
            ]
           ]
          },
          "colorway": [
           "#636efa",
           "#EF553B",
           "#00cc96",
           "#ab63fa",
           "#FFA15A",
           "#19d3f3",
           "#FF6692",
           "#B6E880",
           "#FF97FF",
           "#FECB52"
          ],
          "font": {
           "color": "#2a3f5f"
          },
          "geo": {
           "bgcolor": "white",
           "lakecolor": "white",
           "landcolor": "#E5ECF6",
           "showlakes": true,
           "showland": true,
           "subunitcolor": "white"
          },
          "hoverlabel": {
           "align": "left"
          },
          "hovermode": "closest",
          "mapbox": {
           "style": "light"
          },
          "paper_bgcolor": "white",
          "plot_bgcolor": "#E5ECF6",
          "polar": {
           "angularaxis": {
            "gridcolor": "white",
            "linecolor": "white",
            "ticks": ""
           },
           "bgcolor": "#E5ECF6",
           "radialaxis": {
            "gridcolor": "white",
            "linecolor": "white",
            "ticks": ""
           }
          },
          "scene": {
           "xaxis": {
            "backgroundcolor": "#E5ECF6",
            "gridcolor": "white",
            "gridwidth": 2,
            "linecolor": "white",
            "showbackground": true,
            "ticks": "",
            "zerolinecolor": "white"
           },
           "yaxis": {
            "backgroundcolor": "#E5ECF6",
            "gridcolor": "white",
            "gridwidth": 2,
            "linecolor": "white",
            "showbackground": true,
            "ticks": "",
            "zerolinecolor": "white"
           },
           "zaxis": {
            "backgroundcolor": "#E5ECF6",
            "gridcolor": "white",
            "gridwidth": 2,
            "linecolor": "white",
            "showbackground": true,
            "ticks": "",
            "zerolinecolor": "white"
           }
          },
          "shapedefaults": {
           "line": {
            "color": "#2a3f5f"
           }
          },
          "ternary": {
           "aaxis": {
            "gridcolor": "white",
            "linecolor": "white",
            "ticks": ""
           },
           "baxis": {
            "gridcolor": "white",
            "linecolor": "white",
            "ticks": ""
           },
           "bgcolor": "#E5ECF6",
           "caxis": {
            "gridcolor": "white",
            "linecolor": "white",
            "ticks": ""
           }
          },
          "title": {
           "x": 0.05
          },
          "xaxis": {
           "automargin": true,
           "gridcolor": "white",
           "linecolor": "white",
           "ticks": "",
           "title": {
            "standoff": 15
           },
           "zerolinecolor": "white",
           "zerolinewidth": 2
          },
          "yaxis": {
           "automargin": true,
           "gridcolor": "white",
           "linecolor": "white",
           "ticks": "",
           "title": {
            "standoff": 15
           },
           "zerolinecolor": "white",
           "zerolinewidth": 2
          }
         }
        }
       }
      },
      "text/html": [
       "<div>\n",
       "        \n",
       "        \n",
       "            <div id=\"e5bba28e-e29e-4fc0-ac12-7b203c012e6f\" class=\"plotly-graph-div\" style=\"height:525px; width:100%;\"></div>\n",
       "            <script type=\"text/javascript\">\n",
       "                require([\"plotly\"], function(Plotly) {\n",
       "                    window.PLOTLYENV=window.PLOTLYENV || {};\n",
       "                    \n",
       "                if (document.getElementById(\"e5bba28e-e29e-4fc0-ac12-7b203c012e6f\")) {\n",
       "                    Plotly.newPlot(\n",
       "                        'e5bba28e-e29e-4fc0-ac12-7b203c012e6f',\n",
       "                        [{\"close\": [136.392, 136.383, 136.396, 136.36, 136.37, 136.408, 136.397, 136.392, 136.398, 136.37, 136.41, 136.422, 136.41, 136.404, 136.403, 136.373, 136.394, 136.39, 136.404, 136.41, 136.412, 136.415, 136.413, 136.413, 136.392, 136.408, 136.407, 136.401, 136.389, 136.395, 136.372, 136.385, 136.36, 136.37, 136.39, 136.404, 136.407, 136.398, 136.396, 136.396, 136.399, 136.392, 136.397, 136.402, 136.39, 136.378, 136.374, 136.375, 136.392, 136.398, 136.39, 136.391, 136.395, 136.374, 136.359, 136.369, 136.377, 136.391, 136.34, 136.361, 136.348, 136.344, 136.341, 136.341, 136.338, 136.32, 136.321, 136.356, 136.3, 136.305, 136.313, 136.316, 136.333, 136.327, 136.318, 136.34, 136.348, 136.354, 136.378, 136.382, 136.391, 136.399, 136.379, 136.387, 136.398, 136.406, 136.375, 136.377, 136.396, 136.39, 136.376, 136.399, 136.398, 136.415, 136.38, 136.402, 136.411, 136.381, 136.398, 136.416, 136.41, 136.398, 136.394, 136.39, 136.413, 136.416, 136.409, 136.409, 136.418, 136.411, 136.396, 136.406, 136.37, 136.36, 136.37, 136.381, 136.397, 136.383, 136.395, 136.365, 136.372, 136.398, 136.407, 136.415, 136.41, 136.4, 136.39, 136.418, 136.4, 136.405, 136.421, 136.427, 136.418, 136.406, 136.433, 136.41, 136.426, 136.405, 136.423, 136.463, 136.476, 136.481, 136.489, 136.483, 136.465, 136.462, 136.429, 136.434, 136.411, 136.418, 136.413, 136.447, 136.45, 136.45, 136.41, 136.455, 136.46, 136.472, 136.465, 136.459, 136.44, 136.468, 136.44, 136.477, 136.44, 136.424, 136.4, 136.426, 136.437, 136.433, 136.44, 136.446, 136.429, 136.416, 136.423, 136.433, 136.441, 136.447, 136.486, 136.462, 136.435, 136.403, 136.406, 136.402, 136.392, 136.43, 136.417, 136.44, 136.442, 136.439, 136.395, 136.373, 136.361, 136.362, 136.373, 136.365, 136.33, 136.347, 136.346, 136.361, 136.38, 136.385, 136.398, 136.368, 136.358, 136.339, 136.37, 136.36, 136.334, 136.306, 136.315, 136.281, 136.293, 136.314, 136.309, 136.299, 136.264, 136.249, 136.229, 136.247, 136.252, 136.277, 136.305, 136.298, 136.29, 136.25, 136.253, 136.261, 136.256, 136.282, 136.275, 136.259, 136.276, 136.256, 136.259, 136.237, 136.261, 136.288, 136.272, 136.296, 136.286, 136.319, 136.3, 136.281, 136.268, 136.234, 136.247, 136.245, 136.22, 136.235, 136.234, 136.205, 136.2, 136.158, 136.139, 136.157, 136.09, 136.06, 136.132, 136.162, 136.177, 136.179, 136.191, 136.204, 136.189, 136.156, 136.156, 136.153, 136.146, 136.139, 136.148, 136.176, 136.184, 136.205, 136.221, 136.228, 136.258, 136.263, 136.279, 136.294, 136.251, 136.256, 136.281, 136.282, 136.291, 136.268, 136.275, 136.28, 136.319, 136.361, 136.368, 136.37, 136.385, 136.392, 136.401, 136.425, 136.428, 136.41, 136.448, 136.453], \"high\": [136.404, 136.401, 136.402, 136.399, 136.402, 136.412, 136.42, 136.409, 136.403, 136.412, 136.413, 136.433, 136.425, 136.427, 136.407, 136.412, 136.394, 136.416, 136.414, 136.422, 136.422, 136.416, 136.422, 136.421, 136.416, 136.408, 136.411, 136.407, 136.437, 136.403, 136.396, 136.394, 136.4, 136.405, 136.424, 136.416, 136.409, 136.422, 136.41, 136.401, 136.405, 136.406, 136.407, 136.412, 136.402, 136.401, 136.387, 136.394, 136.396, 136.41, 136.402, 136.403, 136.404, 136.404, 136.384, 136.376, 136.382, 136.407, 136.394, 136.368, 136.365, 136.36, 136.349, 136.344, 136.347, 136.354, 136.355, 136.358, 136.358, 136.322, 136.32, 136.326, 136.341, 136.339, 136.34, 136.343, 136.364, 136.358, 136.383, 136.394, 136.396, 136.418, 136.402, 136.397, 136.403, 136.412, 136.411, 136.4, 136.4, 136.411, 136.397, 136.404, 136.408, 136.42, 136.421, 136.423, 136.429, 136.411, 136.407, 136.424, 136.43, 136.418, 136.405, 136.422, 136.418, 136.422, 136.419, 136.419, 136.421, 136.423, 136.423, 136.409, 136.419, 136.409, 136.407, 136.408, 136.405, 136.4, 136.395, 136.395, 136.38, 136.406, 136.419, 136.419, 136.43, 136.419, 136.424, 136.43, 136.438, 136.411, 136.425, 136.447, 136.441, 136.443, 136.448, 136.442, 136.437, 136.429, 136.423, 136.469, 136.5, 136.497, 136.497, 136.496, 136.495, 136.473, 136.463, 136.455, 136.441, 136.43, 136.421, 136.448, 136.451, 136.468, 136.462, 136.463, 136.48, 136.477, 136.496, 136.474, 136.477, 136.48, 136.473, 136.48, 136.483, 136.44, 136.449, 136.448, 136.439, 136.448, 136.452, 136.45, 136.447, 136.432, 136.433, 136.437, 136.448, 136.451, 136.501, 136.49, 136.473, 136.443, 136.418, 136.416, 136.41, 136.436, 136.447, 136.455, 136.464, 136.445, 136.443, 136.399, 136.373, 136.373, 136.388, 136.391, 136.379, 136.348, 136.352, 136.389, 136.382, 136.387, 136.398, 136.406, 136.371, 136.369, 136.376, 136.38, 136.399, 136.339, 136.323, 136.324, 136.295, 136.32, 136.322, 136.315, 136.302, 136.283, 136.264, 136.259, 136.26, 136.286, 136.311, 136.317, 136.307, 136.298, 136.282, 136.263, 136.279, 136.287, 136.287, 136.285, 136.276, 136.277, 136.279, 136.265, 136.265, 136.295, 136.297, 136.307, 136.3, 136.321, 136.331, 136.303, 136.297, 136.275, 136.26, 136.262, 136.255, 136.259, 136.258, 136.243, 136.219, 136.204, 136.166, 136.166, 136.16, 136.123, 136.138, 136.165, 136.192, 136.183, 136.2, 136.218, 136.219, 136.197, 136.189, 136.202, 136.173, 136.161, 136.159, 136.195, 136.211, 136.221, 136.237, 136.246, 136.26, 136.284, 136.282, 136.304, 136.282, 136.281, 136.287, 136.29, 136.302, 136.304, 136.285, 136.305, 136.324, 136.366, 136.378, 136.395, 136.402, 136.4, 136.408, 136.437, 136.436, 136.45, 136.46, 136.453], \"low\": [136.36, 136.346, 136.345, 136.358, 136.36, 136.36, 136.37, 136.36, 136.354, 136.36, 136.36, 136.38, 136.38, 136.38, 136.37, 136.35, 136.347, 136.36, 136.37, 136.37, 136.374, 136.38, 136.38, 136.38, 136.365, 136.36, 136.36, 136.36, 136.35, 136.36, 136.344, 136.349, 136.35, 136.36, 136.369, 136.37, 136.37, 136.367, 136.367, 136.36, 136.36, 136.36, 136.368, 136.36, 136.35, 136.355, 136.346, 136.35, 136.349, 136.36, 136.36, 136.364, 136.36, 136.35, 136.33, 136.33, 136.32, 136.344, 136.33, 136.325, 136.32, 136.32, 136.31, 136.308, 136.3, 136.31, 136.3, 136.3, 136.29, 136.27, 136.28, 136.28, 136.28, 136.299, 136.3, 136.297, 136.32, 136.317, 136.33, 136.349, 136.35, 136.367, 136.35, 136.34, 136.358, 136.357, 136.357, 136.35, 136.35, 136.36, 136.35, 136.36, 136.366, 136.377, 136.38, 136.38, 136.379, 136.345, 136.356, 136.37, 136.38, 136.38, 136.365, 136.37, 136.376, 136.38, 136.38, 136.38, 136.378, 136.386, 136.38, 136.37, 136.36, 136.35, 136.36, 136.35, 136.35, 136.35, 136.35, 136.33, 136.33, 136.34, 136.359, 136.37, 136.375, 136.369, 136.37, 136.38, 136.38, 136.37, 136.38, 136.39, 136.39, 136.38, 136.38, 136.386, 136.39, 136.37, 136.37, 136.386, 136.42, 136.43, 136.44, 136.44, 136.43, 136.41, 136.41, 136.39, 136.38, 136.37, 136.369, 136.38, 136.409, 136.42, 136.4, 136.41, 136.43, 136.439, 136.43, 136.427, 136.425, 136.42, 136.4, 136.41, 136.41, 136.37, 136.39, 136.39, 136.39, 136.4, 136.4, 136.41, 136.389, 136.38, 136.386, 136.393, 136.4, 136.41, 136.42, 136.427, 136.4, 136.376, 136.37, 136.37, 136.36, 136.36, 136.39, 136.39, 136.41, 136.39, 136.37, 136.34, 136.319, 136.33, 136.34, 136.34, 136.327, 136.32, 136.31, 136.317, 136.33, 136.34, 136.35, 136.34, 136.307, 136.3, 136.3, 136.336, 136.3, 136.27, 136.27, 136.25, 136.242, 136.26, 136.27, 136.27, 136.24, 136.21, 136.2, 136.2, 136.21, 136.22, 136.25, 136.27, 136.24, 136.25, 136.22, 136.22, 136.23, 136.23, 136.25, 136.22, 136.23, 136.226, 136.23, 136.2, 136.21, 136.24, 136.23, 136.25, 136.23, 136.25, 136.26, 136.25, 136.24, 136.2, 136.21, 136.21, 136.2, 136.21, 136.19, 136.16, 136.15, 136.12, 136.11, 136.108, 136.09, 136.047, 136.035, 136.1, 136.13, 136.126, 136.13, 136.127, 136.17, 136.123, 136.124, 136.14, 136.1, 136.1, 136.11, 136.109, 136.15, 136.16, 136.18, 136.2, 136.19, 136.22, 136.24, 136.27, 136.22, 136.22, 136.23, 136.23, 136.24, 136.24, 136.23, 136.25, 136.27, 136.29, 136.33, 136.34, 136.35, 136.35, 136.35, 136.38, 136.39, 136.39, 136.39, 136.453], \"open\": [136.399, 136.393, 136.384, 136.39, 136.394, 136.397, 136.409, 136.404, 136.36, 136.399, 136.398, 136.411, 136.4, 136.39, 136.407, 136.403, 136.383, 136.391, 136.41, 136.408, 136.411, 136.38, 136.416, 136.415, 136.414, 136.393, 136.38, 136.407, 136.402, 136.36, 136.37, 136.35, 136.35, 136.395, 136.4, 136.412, 136.38, 136.409, 136.38, 136.37, 136.395, 136.398, 136.37, 136.399, 136.402, 136.36, 136.386, 136.36, 136.379, 136.392, 136.397, 136.399, 136.399, 136.394, 136.36, 136.363, 136.371, 136.381, 136.394, 136.368, 136.33, 136.352, 136.344, 136.337, 136.339, 136.342, 136.35, 136.32, 136.354, 136.29, 136.313, 136.314, 136.316, 136.332, 136.333, 136.322, 136.32, 136.352, 136.354, 136.384, 136.37, 136.395, 136.397, 136.35, 136.381, 136.394, 136.411, 136.384, 136.379, 136.4, 136.391, 136.386, 136.402, 136.408, 136.413, 136.405, 136.39, 136.411, 136.383, 136.404, 136.417, 136.409, 136.405, 136.395, 136.417, 136.413, 136.38, 136.414, 136.417, 136.417, 136.421, 136.405, 136.403, 136.402, 136.384, 136.394, 136.385, 136.395, 136.387, 136.395, 136.366, 136.374, 136.401, 136.407, 136.41, 136.417, 136.38, 136.414, 136.419, 136.38, 136.402, 136.423, 136.435, 136.4, 136.417, 136.429, 136.42, 136.428, 136.403, 136.419, 136.43, 136.47, 136.473, 136.483, 136.486, 136.465, 136.43, 136.434, 136.432, 136.408, 136.415, 136.417, 136.448, 136.451, 136.449, 136.444, 136.463, 136.45, 136.473, 136.465, 136.463, 136.47, 136.473, 136.442, 136.476, 136.439, 136.4, 136.43, 136.426, 136.41, 136.41, 136.444, 136.44, 136.41, 136.422, 136.431, 136.432, 136.441, 136.448, 136.489, 136.461, 136.438, 136.411, 136.408, 136.403, 136.4, 136.434, 136.425, 136.453, 136.435, 136.437, 136.396, 136.369, 136.361, 136.363, 136.378, 136.374, 136.32, 136.342, 136.348, 136.359, 136.38, 136.382, 136.397, 136.371, 136.358, 136.339, 136.369, 136.369, 136.336, 136.306, 136.318, 136.284, 136.287, 136.317, 136.307, 136.302, 136.273, 136.249, 136.23, 136.247, 136.252, 136.277, 136.307, 136.305, 136.295, 136.28, 136.254, 136.261, 136.261, 136.286, 136.25, 136.26, 136.275, 136.256, 136.265, 136.244, 136.262, 136.296, 136.277, 136.3, 136.285, 136.317, 136.27, 136.283, 136.268, 136.242, 136.22, 136.253, 136.252, 136.243, 136.239, 136.18, 136.17, 136.158, 136.144, 136.159, 136.123, 136.09, 136.129, 136.13, 136.182, 136.178, 136.17, 136.18, 136.19, 136.164, 136.165, 136.159, 136.154, 136.149, 136.13, 136.177, 136.184, 136.211, 136.232, 136.231, 136.26, 136.271, 136.292, 136.282, 136.259, 136.254, 136.275, 136.275, 136.284, 136.264, 136.283, 136.301, 136.325, 136.357, 136.368, 136.385, 136.378, 136.401, 136.408, 136.418, 136.42, 136.435, 136.453], \"type\": \"candlestick\", \"x\": [\"2020-07-30T04:02:00+01:00\", \"2020-07-30T04:03:00+01:00\", \"2020-07-30T04:04:00+01:00\", \"2020-07-30T04:05:00+01:00\", \"2020-07-30T04:06:00+01:00\", \"2020-07-30T04:07:00+01:00\", \"2020-07-30T04:08:00+01:00\", \"2020-07-30T04:09:00+01:00\", \"2020-07-30T04:10:00+01:00\", \"2020-07-30T04:11:00+01:00\", \"2020-07-30T04:12:00+01:00\", \"2020-07-30T04:13:00+01:00\", \"2020-07-30T04:14:00+01:00\", \"2020-07-30T04:15:00+01:00\", \"2020-07-30T04:16:00+01:00\", \"2020-07-30T04:17:00+01:00\", \"2020-07-30T04:18:00+01:00\", \"2020-07-30T04:19:00+01:00\", \"2020-07-30T04:20:00+01:00\", \"2020-07-30T04:21:00+01:00\", \"2020-07-30T04:22:00+01:00\", \"2020-07-30T04:23:00+01:00\", \"2020-07-30T04:24:00+01:00\", \"2020-07-30T04:25:00+01:00\", \"2020-07-30T04:26:00+01:00\", \"2020-07-30T04:27:00+01:00\", \"2020-07-30T04:28:00+01:00\", \"2020-07-30T04:29:00+01:00\", \"2020-07-30T04:30:00+01:00\", \"2020-07-30T04:31:00+01:00\", \"2020-07-30T04:32:00+01:00\", \"2020-07-30T04:33:00+01:00\", \"2020-07-30T04:34:00+01:00\", \"2020-07-30T04:35:00+01:00\", \"2020-07-30T04:36:00+01:00\", \"2020-07-30T04:37:00+01:00\", \"2020-07-30T04:38:00+01:00\", \"2020-07-30T04:39:00+01:00\", \"2020-07-30T04:40:00+01:00\", \"2020-07-30T04:41:00+01:00\", \"2020-07-30T04:42:00+01:00\", \"2020-07-30T04:43:00+01:00\", \"2020-07-30T04:44:00+01:00\", \"2020-07-30T04:45:00+01:00\", \"2020-07-30T04:46:00+01:00\", \"2020-07-30T04:47:00+01:00\", \"2020-07-30T04:48:00+01:00\", \"2020-07-30T04:49:00+01:00\", \"2020-07-30T04:50:00+01:00\", \"2020-07-30T04:51:00+01:00\", \"2020-07-30T04:52:00+01:00\", \"2020-07-30T04:53:00+01:00\", \"2020-07-30T04:54:00+01:00\", \"2020-07-30T04:55:00+01:00\", \"2020-07-30T04:56:00+01:00\", \"2020-07-30T04:57:00+01:00\", \"2020-07-30T04:58:00+01:00\", \"2020-07-30T04:59:00+01:00\", \"2020-07-30T05:00:00+01:00\", \"2020-07-30T05:01:00+01:00\", \"2020-07-30T05:02:00+01:00\", \"2020-07-30T05:03:00+01:00\", \"2020-07-30T05:04:00+01:00\", \"2020-07-30T05:05:00+01:00\", \"2020-07-30T05:06:00+01:00\", \"2020-07-30T05:07:00+01:00\", \"2020-07-30T05:08:00+01:00\", \"2020-07-30T05:09:00+01:00\", \"2020-07-30T05:10:00+01:00\", \"2020-07-30T05:11:00+01:00\", \"2020-07-30T05:12:00+01:00\", \"2020-07-30T05:13:00+01:00\", \"2020-07-30T05:14:00+01:00\", \"2020-07-30T05:15:00+01:00\", \"2020-07-30T05:16:00+01:00\", \"2020-07-30T05:17:00+01:00\", \"2020-07-30T05:18:00+01:00\", \"2020-07-30T05:19:00+01:00\", \"2020-07-30T05:20:00+01:00\", \"2020-07-30T05:21:00+01:00\", \"2020-07-30T05:22:00+01:00\", \"2020-07-30T05:23:00+01:00\", \"2020-07-30T05:24:00+01:00\", \"2020-07-30T05:25:00+01:00\", \"2020-07-30T05:26:00+01:00\", \"2020-07-30T05:27:00+01:00\", \"2020-07-30T05:28:00+01:00\", \"2020-07-30T05:29:00+01:00\", \"2020-07-30T05:30:00+01:00\", \"2020-07-30T05:31:00+01:00\", \"2020-07-30T05:32:00+01:00\", \"2020-07-30T05:33:00+01:00\", \"2020-07-30T05:34:00+01:00\", \"2020-07-30T05:35:00+01:00\", \"2020-07-30T05:36:00+01:00\", \"2020-07-30T05:37:00+01:00\", \"2020-07-30T05:38:00+01:00\", \"2020-07-30T05:39:00+01:00\", \"2020-07-30T05:40:00+01:00\", \"2020-07-30T05:41:00+01:00\", \"2020-07-30T05:42:00+01:00\", \"2020-07-30T05:43:00+01:00\", \"2020-07-30T05:44:00+01:00\", \"2020-07-30T05:45:00+01:00\", \"2020-07-30T05:46:00+01:00\", \"2020-07-30T05:47:00+01:00\", \"2020-07-30T05:48:00+01:00\", \"2020-07-30T05:49:00+01:00\", \"2020-07-30T05:50:00+01:00\", \"2020-07-30T05:51:00+01:00\", \"2020-07-30T05:52:00+01:00\", \"2020-07-30T05:53:00+01:00\", \"2020-07-30T05:54:00+01:00\", \"2020-07-30T05:55:00+01:00\", \"2020-07-30T05:56:00+01:00\", \"2020-07-30T05:57:00+01:00\", \"2020-07-30T05:58:00+01:00\", \"2020-07-30T05:59:00+01:00\", \"2020-07-30T06:00:00+01:00\", \"2020-07-30T06:01:00+01:00\", \"2020-07-30T06:02:00+01:00\", \"2020-07-30T06:03:00+01:00\", \"2020-07-30T06:04:00+01:00\", \"2020-07-30T06:05:00+01:00\", \"2020-07-30T06:06:00+01:00\", \"2020-07-30T06:07:00+01:00\", \"2020-07-30T06:08:00+01:00\", \"2020-07-30T06:09:00+01:00\", \"2020-07-30T06:10:00+01:00\", \"2020-07-30T06:11:00+01:00\", \"2020-07-30T06:12:00+01:00\", \"2020-07-30T06:13:00+01:00\", \"2020-07-30T06:14:00+01:00\", \"2020-07-30T06:15:00+01:00\", \"2020-07-30T06:16:00+01:00\", \"2020-07-30T06:17:00+01:00\", \"2020-07-30T06:18:00+01:00\", \"2020-07-30T06:19:00+01:00\", \"2020-07-30T06:20:00+01:00\", \"2020-07-30T06:21:00+01:00\", \"2020-07-30T06:22:00+01:00\", \"2020-07-30T06:23:00+01:00\", \"2020-07-30T06:24:00+01:00\", \"2020-07-30T06:25:00+01:00\", \"2020-07-30T06:26:00+01:00\", \"2020-07-30T06:27:00+01:00\", \"2020-07-30T06:28:00+01:00\", \"2020-07-30T06:29:00+01:00\", \"2020-07-30T06:30:00+01:00\", \"2020-07-30T06:31:00+01:00\", \"2020-07-30T06:32:00+01:00\", \"2020-07-30T06:33:00+01:00\", \"2020-07-30T06:34:00+01:00\", \"2020-07-30T06:35:00+01:00\", \"2020-07-30T06:36:00+01:00\", \"2020-07-30T06:37:00+01:00\", \"2020-07-30T06:38:00+01:00\", \"2020-07-30T06:39:00+01:00\", \"2020-07-30T06:40:00+01:00\", \"2020-07-30T06:41:00+01:00\", \"2020-07-30T06:42:00+01:00\", \"2020-07-30T06:43:00+01:00\", \"2020-07-30T06:44:00+01:00\", \"2020-07-30T06:45:00+01:00\", \"2020-07-30T06:46:00+01:00\", \"2020-07-30T06:47:00+01:00\", \"2020-07-30T06:48:00+01:00\", \"2020-07-30T06:49:00+01:00\", \"2020-07-30T06:50:00+01:00\", \"2020-07-30T06:51:00+01:00\", \"2020-07-30T06:52:00+01:00\", \"2020-07-30T06:53:00+01:00\", \"2020-07-30T06:54:00+01:00\", \"2020-07-30T06:55:00+01:00\", \"2020-07-30T06:56:00+01:00\", \"2020-07-30T06:57:00+01:00\", \"2020-07-30T06:58:00+01:00\", \"2020-07-30T06:59:00+01:00\", \"2020-07-30T07:00:00+01:00\", \"2020-07-30T07:01:00+01:00\", \"2020-07-30T07:02:00+01:00\", \"2020-07-30T07:03:00+01:00\", \"2020-07-30T07:04:00+01:00\", \"2020-07-30T07:05:00+01:00\", \"2020-07-30T07:06:00+01:00\", \"2020-07-30T07:07:00+01:00\", \"2020-07-30T07:08:00+01:00\", \"2020-07-30T07:09:00+01:00\", \"2020-07-30T07:10:00+01:00\", \"2020-07-30T07:11:00+01:00\", \"2020-07-30T07:12:00+01:00\", \"2020-07-30T07:13:00+01:00\", \"2020-07-30T07:14:00+01:00\", \"2020-07-30T07:15:00+01:00\", \"2020-07-30T07:16:00+01:00\", \"2020-07-30T07:17:00+01:00\", \"2020-07-30T07:18:00+01:00\", \"2020-07-30T07:19:00+01:00\", \"2020-07-30T07:20:00+01:00\", \"2020-07-30T07:21:00+01:00\", \"2020-07-30T07:22:00+01:00\", \"2020-07-30T07:23:00+01:00\", \"2020-07-30T07:24:00+01:00\", \"2020-07-30T07:25:00+01:00\", \"2020-07-30T07:26:00+01:00\", \"2020-07-30T07:27:00+01:00\", \"2020-07-30T07:28:00+01:00\", \"2020-07-30T07:29:00+01:00\", \"2020-07-30T07:30:00+01:00\", \"2020-07-30T07:31:00+01:00\", \"2020-07-30T07:32:00+01:00\", \"2020-07-30T07:33:00+01:00\", \"2020-07-30T07:34:00+01:00\", \"2020-07-30T07:35:00+01:00\", \"2020-07-30T07:36:00+01:00\", \"2020-07-30T07:37:00+01:00\", \"2020-07-30T07:38:00+01:00\", \"2020-07-30T07:39:00+01:00\", \"2020-07-30T07:40:00+01:00\", \"2020-07-30T07:41:00+01:00\", \"2020-07-30T07:42:00+01:00\", \"2020-07-30T07:43:00+01:00\", \"2020-07-30T07:44:00+01:00\", \"2020-07-30T07:45:00+01:00\", \"2020-07-30T07:46:00+01:00\", \"2020-07-30T07:47:00+01:00\", \"2020-07-30T07:48:00+01:00\", \"2020-07-30T07:49:00+01:00\", \"2020-07-30T07:50:00+01:00\", \"2020-07-30T07:51:00+01:00\", \"2020-07-30T07:52:00+01:00\", \"2020-07-30T07:53:00+01:00\", \"2020-07-30T07:54:00+01:00\", \"2020-07-30T07:55:00+01:00\", \"2020-07-30T07:56:00+01:00\", \"2020-07-30T07:57:00+01:00\", \"2020-07-30T07:58:00+01:00\", \"2020-07-30T07:59:00+01:00\", \"2020-07-30T08:00:00+01:00\", \"2020-07-30T08:01:00+01:00\", \"2020-07-30T08:02:00+01:00\", \"2020-07-30T08:03:00+01:00\", \"2020-07-30T08:04:00+01:00\", \"2020-07-30T08:05:00+01:00\", \"2020-07-30T08:06:00+01:00\", \"2020-07-30T08:07:00+01:00\", \"2020-07-30T08:08:00+01:00\", \"2020-07-30T08:09:00+01:00\", \"2020-07-30T08:10:00+01:00\", \"2020-07-30T08:11:00+01:00\", \"2020-07-30T08:12:00+01:00\", \"2020-07-30T08:13:00+01:00\", \"2020-07-30T08:14:00+01:00\", \"2020-07-30T08:15:00+01:00\", \"2020-07-30T08:16:00+01:00\", \"2020-07-30T08:17:00+01:00\", \"2020-07-30T08:18:00+01:00\", \"2020-07-30T08:19:00+01:00\", \"2020-07-30T08:20:00+01:00\", \"2020-07-30T08:21:00+01:00\", \"2020-07-30T08:22:00+01:00\", \"2020-07-30T08:23:00+01:00\", \"2020-07-30T08:24:00+01:00\", \"2020-07-30T08:25:00+01:00\", \"2020-07-30T08:26:00+01:00\", \"2020-07-30T08:27:00+01:00\", \"2020-07-30T08:28:00+01:00\", \"2020-07-30T08:29:00+01:00\", \"2020-07-30T08:30:00+01:00\", \"2020-07-30T08:31:00+01:00\", \"2020-07-30T08:32:00+01:00\", \"2020-07-30T08:33:00+01:00\", \"2020-07-30T08:34:00+01:00\", \"2020-07-30T08:35:00+01:00\", \"2020-07-30T08:36:00+01:00\", \"2020-07-30T08:37:00+01:00\", \"2020-07-30T08:38:00+01:00\", \"2020-07-30T08:39:00+01:00\", \"2020-07-30T08:40:00+01:00\", \"2020-07-30T08:41:00+01:00\", \"2020-07-30T08:42:00+01:00\", \"2020-07-30T08:43:00+01:00\", \"2020-07-30T08:44:00+01:00\", \"2020-07-30T08:45:00+01:00\", \"2020-07-30T08:46:00+01:00\", \"2020-07-30T08:47:00+01:00\", \"2020-07-30T08:48:00+01:00\", \"2020-07-30T08:49:00+01:00\", \"2020-07-30T08:50:00+01:00\", \"2020-07-30T08:51:00+01:00\", \"2020-07-30T08:52:00+01:00\", \"2020-07-30T08:53:00+01:00\", \"2020-07-30T08:54:00+01:00\", \"2020-07-30T08:55:00+01:00\", \"2020-07-30T08:56:00+01:00\", \"2020-07-30T08:57:00+01:00\", \"2020-07-30T08:58:00+01:00\", \"2020-07-30T08:59:00+01:00\", \"2020-07-30T09:00:00+01:00\", \"2020-07-30T09:01:18+01:00\"]}, {\"marker\": {\"size\": [5.850071310997009, 8.199900388717651, 9.131371974945068, 9.231305122375488, 8.861225843429565, 9.577248096466064, 6.094706058502197, 8.597895503044128, 9.9909508228302, 9.91978645324707, 7.124204039573669, 7.765833735466003, 4.579845070838928, 9.332726001739502, 3.4945011138916016, 6.395101547241211, 9.211232662200928, 8.427375555038452, 5.955345034599304, 7.191205024719238], \"symbol\": \"triangle-down\"}, \"mode\": \"markers\", \"name\": \"Down\", \"type\": \"scatter\", \"x\": [\"2020-07-30T05:54:00+01:00\", \"2020-07-30T05:55:00+01:00\", \"2020-07-30T05:56:00+01:00\", \"2020-07-30T05:57:00+01:00\", \"2020-07-30T05:58:00+01:00\", \"2020-07-30T05:59:00+01:00\", \"2020-07-30T06:09:00+01:00\", \"2020-07-30T06:10:00+01:00\", \"2020-07-30T06:13:00+01:00\", \"2020-07-30T06:14:00+01:00\", \"2020-07-30T06:15:00+01:00\", \"2020-07-30T06:30:00+01:00\", \"2020-07-30T06:34:00+01:00\", \"2020-07-30T06:40:00+01:00\", \"2020-07-30T07:07:00+01:00\", \"2020-07-30T07:54:00+01:00\", \"2020-07-30T08:05:00+01:00\", \"2020-07-30T08:06:00+01:00\", \"2020-07-30T08:18:00+01:00\", \"2020-07-30T08:30:00+01:00\"], \"y\": [136.37, 136.36, 136.37, 136.381, 136.397, 136.383, 136.418, 136.4, 136.427, 136.418, 136.406, 136.411, 136.45, 136.465, 136.43, 136.276, 136.281, 136.268, 136.09, 136.146]}, {\"marker\": {\"size\": [3.8800716400146484, 9.671328067779541, 5.716752409934998, 8.219658732414246, 8.184022903442383, 9.982402324676514, 6.820951700210571, 4.421249032020569, 5.119415521621704, 6.6006797552108765, 7.587475776672363, 7.110356092453003, 4.332624673843384, 5.927591323852539, 9.60948646068573, 9.84478235244751], \"symbol\": \"triangle-up\"}, \"mode\": \"markers\", \"name\": \"Up\", \"type\": \"scatter\", \"x\": [\"2020-07-30T06:00:00+01:00\", \"2020-07-30T06:08:00+01:00\", \"2020-07-30T06:22:00+01:00\", \"2020-07-30T06:32:00+01:00\", \"2020-07-30T07:09:00+01:00\", \"2020-07-30T07:10:00+01:00\", \"2020-07-30T07:13:00+01:00\", \"2020-07-30T07:20:00+01:00\", \"2020-07-30T07:35:00+01:00\", \"2020-07-30T07:46:00+01:00\", \"2020-07-30T07:47:00+01:00\", \"2020-07-30T07:48:00+01:00\", \"2020-07-30T07:49:00+01:00\", \"2020-07-30T07:50:00+01:00\", \"2020-07-30T08:14:00+01:00\", \"2020-07-30T08:40:00+01:00\"], \"y\": [136.395, 136.39, 136.476, 136.413, 136.44, 136.442, 136.373, 136.346, 136.314, 136.29, 136.25, 136.253, 136.261, 136.256, 136.2, 136.279]}],\n",
       "                        {\"template\": {\"data\": {\"bar\": [{\"error_x\": {\"color\": \"#2a3f5f\"}, \"error_y\": {\"color\": \"#2a3f5f\"}, \"marker\": {\"line\": {\"color\": \"#E5ECF6\", \"width\": 0.5}}, \"type\": \"bar\"}], \"barpolar\": [{\"marker\": {\"line\": {\"color\": \"#E5ECF6\", \"width\": 0.5}}, \"type\": \"barpolar\"}], \"carpet\": [{\"aaxis\": {\"endlinecolor\": \"#2a3f5f\", \"gridcolor\": \"white\", \"linecolor\": \"white\", \"minorgridcolor\": \"white\", \"startlinecolor\": \"#2a3f5f\"}, \"baxis\": {\"endlinecolor\": \"#2a3f5f\", \"gridcolor\": \"white\", \"linecolor\": \"white\", \"minorgridcolor\": \"white\", \"startlinecolor\": \"#2a3f5f\"}, \"type\": \"carpet\"}], \"choropleth\": [{\"colorbar\": {\"outlinewidth\": 0, \"ticks\": \"\"}, \"type\": \"choropleth\"}], \"contour\": [{\"colorbar\": {\"outlinewidth\": 0, \"ticks\": \"\"}, \"colorscale\": [[0.0, \"#0d0887\"], [0.1111111111111111, \"#46039f\"], [0.2222222222222222, \"#7201a8\"], [0.3333333333333333, \"#9c179e\"], [0.4444444444444444, \"#bd3786\"], [0.5555555555555556, \"#d8576b\"], [0.6666666666666666, \"#ed7953\"], [0.7777777777777778, \"#fb9f3a\"], [0.8888888888888888, \"#fdca26\"], [1.0, \"#f0f921\"]], \"type\": \"contour\"}], \"contourcarpet\": [{\"colorbar\": {\"outlinewidth\": 0, \"ticks\": \"\"}, \"type\": \"contourcarpet\"}], \"heatmap\": [{\"colorbar\": {\"outlinewidth\": 0, \"ticks\": \"\"}, \"colorscale\": [[0.0, \"#0d0887\"], [0.1111111111111111, \"#46039f\"], [0.2222222222222222, \"#7201a8\"], [0.3333333333333333, \"#9c179e\"], [0.4444444444444444, \"#bd3786\"], [0.5555555555555556, \"#d8576b\"], [0.6666666666666666, \"#ed7953\"], [0.7777777777777778, \"#fb9f3a\"], [0.8888888888888888, \"#fdca26\"], [1.0, \"#f0f921\"]], \"type\": \"heatmap\"}], \"heatmapgl\": [{\"colorbar\": {\"outlinewidth\": 0, \"ticks\": \"\"}, \"colorscale\": [[0.0, \"#0d0887\"], [0.1111111111111111, \"#46039f\"], [0.2222222222222222, \"#7201a8\"], [0.3333333333333333, \"#9c179e\"], [0.4444444444444444, \"#bd3786\"], [0.5555555555555556, \"#d8576b\"], [0.6666666666666666, \"#ed7953\"], [0.7777777777777778, \"#fb9f3a\"], [0.8888888888888888, \"#fdca26\"], [1.0, \"#f0f921\"]], \"type\": \"heatmapgl\"}], \"histogram\": [{\"marker\": {\"colorbar\": {\"outlinewidth\": 0, \"ticks\": \"\"}}, \"type\": \"histogram\"}], \"histogram2d\": [{\"colorbar\": {\"outlinewidth\": 0, \"ticks\": \"\"}, \"colorscale\": [[0.0, \"#0d0887\"], [0.1111111111111111, \"#46039f\"], [0.2222222222222222, \"#7201a8\"], [0.3333333333333333, \"#9c179e\"], [0.4444444444444444, \"#bd3786\"], [0.5555555555555556, \"#d8576b\"], [0.6666666666666666, \"#ed7953\"], [0.7777777777777778, \"#fb9f3a\"], [0.8888888888888888, \"#fdca26\"], [1.0, \"#f0f921\"]], \"type\": \"histogram2d\"}], \"histogram2dcontour\": [{\"colorbar\": {\"outlinewidth\": 0, \"ticks\": \"\"}, \"colorscale\": [[0.0, \"#0d0887\"], [0.1111111111111111, \"#46039f\"], [0.2222222222222222, \"#7201a8\"], [0.3333333333333333, \"#9c179e\"], [0.4444444444444444, \"#bd3786\"], [0.5555555555555556, \"#d8576b\"], [0.6666666666666666, \"#ed7953\"], [0.7777777777777778, \"#fb9f3a\"], [0.8888888888888888, \"#fdca26\"], [1.0, \"#f0f921\"]], \"type\": \"histogram2dcontour\"}], \"mesh3d\": [{\"colorbar\": {\"outlinewidth\": 0, \"ticks\": \"\"}, \"type\": \"mesh3d\"}], \"parcoords\": [{\"line\": {\"colorbar\": {\"outlinewidth\": 0, \"ticks\": \"\"}}, \"type\": \"parcoords\"}], \"pie\": [{\"automargin\": true, \"type\": \"pie\"}], \"scatter\": [{\"marker\": {\"colorbar\": {\"outlinewidth\": 0, \"ticks\": \"\"}}, \"type\": \"scatter\"}], \"scatter3d\": [{\"line\": {\"colorbar\": {\"outlinewidth\": 0, \"ticks\": \"\"}}, \"marker\": {\"colorbar\": {\"outlinewidth\": 0, \"ticks\": \"\"}}, \"type\": \"scatter3d\"}], \"scattercarpet\": [{\"marker\": {\"colorbar\": {\"outlinewidth\": 0, \"ticks\": \"\"}}, \"type\": \"scattercarpet\"}], \"scattergeo\": [{\"marker\": {\"colorbar\": {\"outlinewidth\": 0, \"ticks\": \"\"}}, \"type\": \"scattergeo\"}], \"scattergl\": [{\"marker\": {\"colorbar\": {\"outlinewidth\": 0, \"ticks\": \"\"}}, \"type\": \"scattergl\"}], \"scattermapbox\": [{\"marker\": {\"colorbar\": {\"outlinewidth\": 0, \"ticks\": \"\"}}, \"type\": \"scattermapbox\"}], \"scatterpolar\": [{\"marker\": {\"colorbar\": {\"outlinewidth\": 0, \"ticks\": \"\"}}, \"type\": \"scatterpolar\"}], \"scatterpolargl\": [{\"marker\": {\"colorbar\": {\"outlinewidth\": 0, \"ticks\": \"\"}}, \"type\": \"scatterpolargl\"}], \"scatterternary\": [{\"marker\": {\"colorbar\": {\"outlinewidth\": 0, \"ticks\": \"\"}}, \"type\": \"scatterternary\"}], \"surface\": [{\"colorbar\": {\"outlinewidth\": 0, \"ticks\": \"\"}, \"colorscale\": [[0.0, \"#0d0887\"], [0.1111111111111111, \"#46039f\"], [0.2222222222222222, \"#7201a8\"], [0.3333333333333333, \"#9c179e\"], [0.4444444444444444, \"#bd3786\"], [0.5555555555555556, \"#d8576b\"], [0.6666666666666666, \"#ed7953\"], [0.7777777777777778, \"#fb9f3a\"], [0.8888888888888888, \"#fdca26\"], [1.0, \"#f0f921\"]], \"type\": \"surface\"}], \"table\": [{\"cells\": {\"fill\": {\"color\": \"#EBF0F8\"}, \"line\": {\"color\": \"white\"}}, \"header\": {\"fill\": {\"color\": \"#C8D4E3\"}, \"line\": {\"color\": \"white\"}}, \"type\": \"table\"}]}, \"layout\": {\"annotationdefaults\": {\"arrowcolor\": \"#2a3f5f\", \"arrowhead\": 0, \"arrowwidth\": 1}, \"coloraxis\": {\"colorbar\": {\"outlinewidth\": 0, \"ticks\": \"\"}}, \"colorscale\": {\"diverging\": [[0, \"#8e0152\"], [0.1, \"#c51b7d\"], [0.2, \"#de77ae\"], [0.3, \"#f1b6da\"], [0.4, \"#fde0ef\"], [0.5, \"#f7f7f7\"], [0.6, \"#e6f5d0\"], [0.7, \"#b8e186\"], [0.8, \"#7fbc41\"], [0.9, \"#4d9221\"], [1, \"#276419\"]], \"sequential\": [[0.0, \"#0d0887\"], [0.1111111111111111, \"#46039f\"], [0.2222222222222222, \"#7201a8\"], [0.3333333333333333, \"#9c179e\"], [0.4444444444444444, \"#bd3786\"], [0.5555555555555556, \"#d8576b\"], [0.6666666666666666, \"#ed7953\"], [0.7777777777777778, \"#fb9f3a\"], [0.8888888888888888, \"#fdca26\"], [1.0, \"#f0f921\"]], \"sequentialminus\": [[0.0, \"#0d0887\"], [0.1111111111111111, \"#46039f\"], [0.2222222222222222, \"#7201a8\"], [0.3333333333333333, \"#9c179e\"], [0.4444444444444444, \"#bd3786\"], [0.5555555555555556, \"#d8576b\"], [0.6666666666666666, \"#ed7953\"], [0.7777777777777778, \"#fb9f3a\"], [0.8888888888888888, \"#fdca26\"], [1.0, \"#f0f921\"]]}, \"colorway\": [\"#636efa\", \"#EF553B\", \"#00cc96\", \"#ab63fa\", \"#FFA15A\", \"#19d3f3\", \"#FF6692\", \"#B6E880\", \"#FF97FF\", \"#FECB52\"], \"font\": {\"color\": \"#2a3f5f\"}, \"geo\": {\"bgcolor\": \"white\", \"lakecolor\": \"white\", \"landcolor\": \"#E5ECF6\", \"showlakes\": true, \"showland\": true, \"subunitcolor\": \"white\"}, \"hoverlabel\": {\"align\": \"left\"}, \"hovermode\": \"closest\", \"mapbox\": {\"style\": \"light\"}, \"paper_bgcolor\": \"white\", \"plot_bgcolor\": \"#E5ECF6\", \"polar\": {\"angularaxis\": {\"gridcolor\": \"white\", \"linecolor\": \"white\", \"ticks\": \"\"}, \"bgcolor\": \"#E5ECF6\", \"radialaxis\": {\"gridcolor\": \"white\", \"linecolor\": \"white\", \"ticks\": \"\"}}, \"scene\": {\"xaxis\": {\"backgroundcolor\": \"#E5ECF6\", \"gridcolor\": \"white\", \"gridwidth\": 2, \"linecolor\": \"white\", \"showbackground\": true, \"ticks\": \"\", \"zerolinecolor\": \"white\"}, \"yaxis\": {\"backgroundcolor\": \"#E5ECF6\", \"gridcolor\": \"white\", \"gridwidth\": 2, \"linecolor\": \"white\", \"showbackground\": true, \"ticks\": \"\", \"zerolinecolor\": \"white\"}, \"zaxis\": {\"backgroundcolor\": \"#E5ECF6\", \"gridcolor\": \"white\", \"gridwidth\": 2, \"linecolor\": \"white\", \"showbackground\": true, \"ticks\": \"\", \"zerolinecolor\": \"white\"}}, \"shapedefaults\": {\"line\": {\"color\": \"#2a3f5f\"}}, \"ternary\": {\"aaxis\": {\"gridcolor\": \"white\", \"linecolor\": \"white\", \"ticks\": \"\"}, \"baxis\": {\"gridcolor\": \"white\", \"linecolor\": \"white\", \"ticks\": \"\"}, \"bgcolor\": \"#E5ECF6\", \"caxis\": {\"gridcolor\": \"white\", \"linecolor\": \"white\", \"ticks\": \"\"}}, \"title\": {\"x\": 0.05}, \"xaxis\": {\"automargin\": true, \"gridcolor\": \"white\", \"linecolor\": \"white\", \"ticks\": \"\", \"title\": {\"standoff\": 15}, \"zerolinecolor\": \"white\", \"zerolinewidth\": 2}, \"yaxis\": {\"automargin\": true, \"gridcolor\": \"white\", \"linecolor\": \"white\", \"ticks\": \"\", \"title\": {\"standoff\": 15}, \"zerolinecolor\": \"white\", \"zerolinewidth\": 2}}}},\n",
       "                        {\"responsive\": true}\n",
       "                    ).then(function(){\n",
       "                            \n",
       "var gd = document.getElementById('e5bba28e-e29e-4fc0-ac12-7b203c012e6f');\n",
       "var x = new MutationObserver(function (mutations, observer) {{\n",
       "        var display = window.getComputedStyle(gd).display;\n",
       "        if (!display || display === 'none') {{\n",
       "            console.log([gd, 'removed!']);\n",
       "            Plotly.purge(gd);\n",
       "            observer.disconnect();\n",
       "        }}\n",
       "}});\n",
       "\n",
       "// Listen for the removal of the full notebook cells\n",
       "var notebookContainer = gd.closest('#notebook-container');\n",
       "if (notebookContainer) {{\n",
       "    x.observe(notebookContainer, {childList: true});\n",
       "}}\n",
       "\n",
       "// Listen for the clearing of the current output cell\n",
       "var outputEl = gd.closest('.output');\n",
       "if (outputEl) {{\n",
       "    x.observe(outputEl, {childList: true});\n",
       "}}\n",
       "\n",
       "                        })\n",
       "                };\n",
       "                });\n",
       "            </script>\n",
       "        </div>"
      ]
     },
     "metadata": {},
     "output_type": "display_data"
    }
   ],
   "source": [
    "import plotly.graph_objects as go\n",
    "\n",
    "fig = go.Figure()\n",
    "\n",
    "# Add traces\n",
    "fig.add_trace(go.Candlestick(x=results.index,\n",
    "                open=results['Open'],\n",
    "                high=results['High'],\n",
    "                low=results['Low'],\n",
    "                close=results['Close']))\n",
    "fig.add_trace(go.Scatter(x=results[results['Indicator']==0].index,\n",
    "                         y=results[results['Indicator']==0]['Price'],\n",
    "                    mode='markers',\n",
    "                    name='Down',\n",
    "                    marker=dict(\n",
    "                        size=results[results['Indicator']==0]['Strength']*10\n",
    "                    ),\n",
    "                        marker_symbol='triangle-down'))\n",
    "fig.add_trace(go.Scatter(x=results[results['Indicator']==2].index,\n",
    "                         y=results[results['Indicator']==2]['Price'],\n",
    "                    mode='markers',\n",
    "                    name='Up',\n",
    "                    marker=dict(\n",
    "                        size=results[results['Indicator']==2]['Strength']*10\n",
    "                    ),\n",
    "                        marker_symbol='triangle-up'))\n",
    "\n",
    "\n",
    "\n",
    "fig.show()"
   ]
  },
  {
   "cell_type": "code",
   "execution_count": null,
   "metadata": {},
   "outputs": [],
   "source": []
  }
 ],
 "metadata": {
  "kernelspec": {
   "display_name": "Python 3",
   "language": "python",
   "name": "python3"
  },
  "language_info": {
   "codemirror_mode": {
    "name": "ipython",
    "version": 3
   },
   "file_extension": ".py",
   "mimetype": "text/x-python",
   "name": "python",
   "nbconvert_exporter": "python",
   "pygments_lexer": "ipython3",
   "version": "3.8.3"
  }
 },
 "nbformat": 4,
 "nbformat_minor": 4
}
