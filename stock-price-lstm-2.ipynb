{
 "cells": [
  {
   "cell_type": "code",
   "execution_count": 1,
   "metadata": {
    "_cell_guid": "b1076dfc-b9ad-4769-8c92-a6c4dae69d19",
    "_kg_hide-input": true,
    "_kg_hide-output": true,
    "_uuid": "8f2839f25d086af736a60e9eeb907d3b93b6e0e5"
   },
   "outputs": [],
   "source": [
    "# This Python 3 environment comes with many helpful analytics libraries installed\n",
    "# It is defined by the kaggle/python docker image: https://github.com/kaggle/docker-python\n",
    "# For example, here's several helpful packages to load in \n",
    "\n",
    "import numpy as np # linear algebra\n",
    "import pandas as pd # data processing, CSV file I/O (e.g. pd.read_csv)\n",
    "\n",
    "# Input data files are available in the \"../input/\" directory.\n",
    "# For example, running this (by clicking run or pressing Shift+Enter) will list the files in the input directory\n",
    "\n",
    "import os\n",
    "\n",
    "\n",
    "# Any results you write to the current directory are saved as output."
   ]
  },
  {
   "cell_type": "code",
   "execution_count": 2,
   "metadata": {
    "_uuid": "48a6058a270336013f616f18b4699c9a928a0029"
   },
   "outputs": [],
   "source": [
    "def LagguerreRSI(data, gamma):\n",
    "    # Create base data structures\n",
    "    out = pd.DataFrame(index = data.index, \n",
    "                      columns = ['RSI']) \n",
    "    l =[np.zeros(4), [data.iloc[0]]*4]\n",
    "    cu =np.zeros(3)\n",
    "    cd =np.zeros(3)\n",
    "    for i in data.index:\n",
    "        # Different calculation for if it is the first price value\n",
    "        l[0][0] = ((1-gamma)*data[i]) + (gamma*l[1][0])\n",
    "        l[0][1] = ((-gamma)*l[0][0]) + l[1][0] + (gamma*l[1][1])\n",
    "        l[0][2] = ((-gamma)*l[0][1]) + l[1][1] + (gamma*l[1][2])\n",
    "        l[0][3] = ((-gamma)*l[0][2]) + l[1][2] + (gamma*l[1][3])\n",
    "        # Calculate the Count Up and Count Down   \n",
    "        cu[0] = l[0][0] - l[0][1] if l[0][0] >= l[0][1] else 0\n",
    "        cu[1] = cu[0] + (l[0][1] - l[0][2]) if l[0][1] >= l[0][2] else cu[0]\n",
    "        cu[2] = cu[1] + (l[0][2] - l[0][3]) if l[0][2] >= l[0][3] else cu[1]\n",
    "        \n",
    "        cd[0] = 0 if l[0][0] >= l[0][1] else l[0][1] - l[0][0]\n",
    "        cd[1] = cd[0] if l[0][1] >= l[0][2] else cd[0] + (l[0][2] -l[0][1])\n",
    "        cd[2] = cd[1] if l[0][2] >= l[0][3] else cd[1] + (l[0][3] - l[0][2])\n",
    "        # Calculate the RSI from the final CU and CD\n",
    "        out.loc[i,'RSI'] = cu[2]/(cu[2] + cd[2]) if (cu[2] + cd[2]) != 0 else 0\n",
    "        # Store the Laguerre values to another list so previous values can be reffed\n",
    "        l[1] = l[0]\n",
    "        l[0] = np.zeros(4)\n",
    "                \n",
    "    return out\n",
    "\n",
    "def LaguerreFilter(data, input_alpha, n=5, adaptive=True):\n",
    "    df = pd.DataFrame(index = data.index, \n",
    "                      columns = ['LF_Change', 'alpha'])\n",
    "    l =[np.zeros(4), [data[0]]*4]\n",
    "    \n",
    "    for i in range(len(data)):\n",
    "        if i > n and adaptive:\n",
    "#             Tracer()()\n",
    "            # list of difference values between Filter and Actual\n",
    "            comp_values = abs(df.loc[range(i-n,i),'LF'] - data[range(i-n,i)])\n",
    "            # Min difference between Filter and Actual\n",
    "            min_val = comp_values.min()\n",
    "            # Max difference between Filter and Actual\n",
    "            max_val = comp_values.max()\n",
    "            # Sum of the differences\n",
    "            sum_vals = comp_values.sum()\n",
    "            # (actual value - min)/(max-min)\n",
    "            values = (comp_values-min_val)/(max_val-min_val)\n",
    "            if min_val == max_val:\n",
    "                alpha = 1\n",
    "            elif sum_vals == 0:\n",
    "                alpha = 0\n",
    "            else:\n",
    "                alpha = clamp(np.median(values.dropna()),0,1)\n",
    "        else:\n",
    "            alpha = input_alpha\n",
    "        df.loc[i, 'alpha'] = alpha\n",
    "        j = i - 1\n",
    "        #print [i,j]\n",
    "        l[0][0] = (alpha*data[i])+((1-alpha)*l[1][0])\n",
    "        l[0][1] = -((1-alpha)*l[0][0])+l[1][0]+((1-alpha)*l[1][1])\n",
    "        l[0][2] = -((1-alpha)*l[0][1])+l[1][1]+((1-alpha)*l[1][2])\n",
    "        l[0][3] = -((1-alpha)*l[0][2])+l[1][2]+((1-alpha)*l[1][3])\n",
    "        df.loc[i,'LF'] = (l[0][0]+(2*l[0][1])+(2*l[0][2])+l[0][3])/6\n",
    "        if i > 1:\n",
    "            df.loc[i, 'LF_Change'] = df.loc[i,'LF'] - df.loc[j,'LF']\n",
    "                \n",
    "        l[1] = l[0]\n",
    "        l[0] = np.zeros(4)      \n",
    "                \n",
    "    return df\n"
   ]
  },
  {
   "cell_type": "code",
   "execution_count": 3,
   "metadata": {
    "_uuid": "e42f2002f7c9d0f9d13b75f1e1a56b4e23703c8e"
   },
   "outputs": [
    {
     "name": "stderr",
     "output_type": "stream",
     "text": [
      "Using plaidml.keras.backend backend.\n"
     ]
    }
   ],
   "source": [
    "import numpy\n",
    "import matplotlib.pyplot as plt\n",
    "import pandas\n",
    "import math\n",
    "os.environ[\"KERAS_BACKEND\"] = \"plaidml.keras.backend\"\n",
    "from keras.models import Sequential, Model\n",
    "from keras.layers import Dense, RepeatVector,TimeDistributed, Input, Concatenate\n",
    "from keras.layers import LSTM, concatenate\n",
    "from sklearn.preprocessing import MinMaxScaler\n",
    "from sklearn.metrics import mean_squared_error\n",
    "\n",
    "def create_dataset(dataset, look_back=1):\n",
    "\tdataX, dataY = [], []\n",
    "\tfor i in range(len(dataset)-look_back-1):\n",
    "\t\ta = dataset[i:(i+look_back), 0]\n",
    "\t\tdataX.append(a)\n",
    "\t\tdataY.append(dataset[i + look_back, 0])\n",
    "\treturn numpy.array(dataX), numpy.array(dataY)\n",
    "\n",
    " \n",
    "def series_to_supervised(data, n_in=1, n_out=1, dropnan=True):\n",
    "\t\"\"\"\n",
    "\tFrame a time series as a supervised learning dataset.\n",
    "\tArguments:\n",
    "\t\tdata: Sequence of observations as a list or NumPy array.\n",
    "\t\tn_in: Number of lag observations as input (X).\n",
    "\t\tn_out: Number of observations as output (y).\n",
    "\t\tdropnan: Boolean whether or not to drop rows with NaN values.\n",
    "\tReturns:\n",
    "\t\tPandas DataFrame of series framed for supervised learning.\n",
    "\t\"\"\"\n",
    "\tn_vars = 1 if type(data) is list else data.shape[1]\n",
    "\tdf = pd.DataFrame(data)\n",
    "\tcols, names = list(), list()\n",
    "\t# input sequence (t-n, ... t-1)\n",
    "\tfor i in range(n_in, 0, -1):\n",
    "\t\tcols.append(df.shift(i))\n",
    "\t\tnames += [('var%d(t-%d)' % (j+1, i)) for j in range(n_vars)]\n",
    "\t# forecast sequence (t, t+1, ... t+n)\n",
    "\tfor i in range(0, n_out):\n",
    "\t\tcols.append(df.shift(-i))\n",
    "\t\tif i == 0:\n",
    "\t\t\tnames += [('var%d(t)' % (j+1)) for j in range(n_vars)]\n",
    "\t\telse:\n",
    "\t\t\tnames += [('var%d(t+%d)' % (j+1, i)) for j in range(n_vars)]\n",
    "\t# put it all together\n",
    "\tagg = pd.concat(cols, axis=1)\n",
    "\tagg.columns = names\n",
    "\t# drop rows with NaN values\n",
    "\tif dropnan:\n",
    "\t\tagg.dropna(inplace=True)\n",
    "\treturn agg"
   ]
  },
  {
   "cell_type": "code",
   "execution_count": 4,
   "metadata": {},
   "outputs": [],
   "source": [
    "import pandas as pd\n",
    "import yfinance as yf\n",
    "from yahoofinancials import *\n",
    "\n",
    "\n",
    "import pywt\n",
    "import matplotlib.pyplot as plt\n",
    "import numpy as np"
   ]
  },
  {
   "cell_type": "code",
   "execution_count": 5,
   "metadata": {},
   "outputs": [],
   "source": [
    "\n",
    "import requests\n",
    "from bs4 import BeautifulSoup\n",
    "from tabulate import tabulate\n",
    "import string\n",
    "letters = string.ascii_uppercase\n",
    "tickers = []\n",
    "for letter in letters:\n",
    "    res = requests.get(\"http://eoddata.com/stocklist/NYSE/%s.htm\" % letter)\n",
    "    soup = BeautifulSoup(res.content,\"html.parser\")\n",
    "    table = soup.find_all('table')[5] \n",
    "    tickers = tickers + pd.read_html(str(table))[0]['Code'].to_list()\n",
    "\n",
    "    "
   ]
  },
  {
   "cell_type": "code",
   "execution_count": 6,
   "metadata": {},
   "outputs": [],
   "source": [
    "# ts = dataset['delta'].values\n",
    "\n",
    "# (ca, cd) = pywt.dwt(ts,'haar')\n",
    "\n",
    "# cat = pywt.threshold(ca, np.std(ca)/2, mode='soft')\n",
    "# cdt = pywt.threshold(cd, np.std(cd)/2, mode='soft')\n",
    "    \n",
    "# ts_rec = pywt.idwt(cat, cdt, 'haar')\n",
    "\n",
    "# plt.close('all')\n",
    "\n",
    "# plt.subplot(211)\n",
    "# # Original coefficients\n",
    "# plt.plot(ca, '--*b')\n",
    "# plt.plot(cd, '--*r')\n",
    "# # Thresholded coefficients\n",
    "# plt.plot(cat, '--*c')\n",
    "# plt.plot(cdt, '--*m')\n",
    "# plt.legend(['ca','cd','ca_thresh', 'cd_thresh'], loc=0)\n",
    "# plt.grid('on')\n",
    "\n",
    "# plt.subplot(212)\n",
    "# plt.plot(ts)\n",
    "# # plt.hold('on')\n",
    "# plt.plot(ts_rec, 'r')\n",
    "# plt.legend(['original signal', 'reconstructed signal'])\n",
    "# plt.grid('on')\n",
    "# plt.show()"
   ]
  },
  {
   "cell_type": "code",
   "execution_count": 7,
   "metadata": {},
   "outputs": [],
   "source": [
    "from tqdm import tqdm"
   ]
  },
  {
   "cell_type": "code",
   "execution_count": 9,
   "metadata": {},
   "outputs": [
    {
     "name": "stderr",
     "output_type": "stream",
     "text": [
      "100%|██████████| 3091/3091 [7:02:58<00:00,  8.21s/it]      \n"
     ]
    }
   ],
   "source": [
    "size = 50\n",
    "train_data_cwt = np.ndarray(shape=(len(tickers), 50, 5030))\n",
    "scales = np.logspace(2,4,size, base=10)\n",
    "waveletname = 'morl'\n",
    "for i, ticker in enumerate(tqdm(tickers)):\n",
    "    yahoo_financials = YahooFinancials(ticker)\n",
    "    \n",
    "    try:\n",
    "        data = yahoo_financials.get_historical_price_data(start_date='2000-01-01', \n",
    "                                                          end_date='2019-12-30', \n",
    "                                                          time_interval='daily')\n",
    "        dataset = pd.DataFrame(data[ticker]['prices'])\n",
    "    except:\n",
    "        continue\n",
    "    \n",
    "    dataset = dataset.drop('date', axis=1).set_index('formatted_date')\n",
    "    if dataset.index.max() != '2019-12-30':\n",
    "        pass\n",
    "\n",
    "    dataset = dataset[['volume','open', 'close']]\n",
    "    dataset['delta'] = dataset['close']/dataset['open']\n",
    "    \n",
    "    \n",
    "    x = dataset['delta'].values\n",
    "    if x.shape[0] != train_data_cwt[i,:,:].shape[1]:\n",
    "        x = np.pad(x, (5030-x.shape[0],0),'constant') \n",
    "    \n",
    "    coeff, freq = pywt.cwt(x, scales, waveletname, 1)\n",
    "    train_data_cwt[i,:,:]= coeff\n",
    "\n",
    "\n",
    "    \n",
    "\n"
   ]
  },
  {
   "cell_type": "code",
   "execution_count": 10,
   "metadata": {},
   "outputs": [],
   "source": [
    "with open('stocks.pkl', 'wb') as f:\n",
    "    np.save(f, train_data_cwt)"
   ]
  },
  {
   "cell_type": "code",
   "execution_count": 14,
   "metadata": {},
   "outputs": [],
   "source": [
    "with open('stocks.pkl', 'rb') as f:\n",
    "    train_data_cwt = np.load(f)\n",
    "    "
   ]
  },
  {
   "cell_type": "code",
   "execution_count": 26,
   "metadata": {},
   "outputs": [
    {
     "name": "stderr",
     "output_type": "stream",
     "text": [
      "3091it [00:02, 1525.03it/s]\n"
     ]
    }
   ],
   "source": [
    "with open('newstocks.pkl', 'ab') as file:\n",
    "    for ticker,item in tqdm(zip(tickers,train_data_cwt)):\n",
    "        if np.count_nonzero(item) != 0:\n",
    "            pickle.dump({ticker: item}, file, pickle.HIGHEST_PROTOCOL)"
   ]
  },
  {
   "cell_type": "code",
   "execution_count": 31,
   "metadata": {},
   "outputs": [],
   "source": [
    "with open('newstocks.pkl', 'rb') as f:\n",
    "    stocks = pickle.load(f)\n"
   ]
  },
  {
   "cell_type": "code",
   "execution_count": 56,
   "metadata": {},
   "outputs": [
    {
     "data": {
      "text/plain": [
       "<matplotlib.axes._subplots.AxesSubplot at 0x139055210>"
      ]
     },
     "execution_count": 56,
     "metadata": {},
     "output_type": "execute_result"
    },
    {
     "data": {
      "image/png": "[encoded data removed]",
      "text/plain": [
       "<Figure size 432x288 with 1 Axes>"
      ]
     },
     "metadata": {},
     "output_type": "display_data"
    }
   ],
   "source": [
    "dataset['delta'].plot()"
   ]
  },
  {
   "cell_type": "code",
   "execution_count": 13,
   "metadata": {},
   "outputs": [
    {
     "data": {
      "text/plain": [
       "2.5"
      ]
     },
     "execution_count": 13,
     "metadata": {},
     "output_type": "execute_result"
    }
   ],
   "source": [
    "pywt.scal2frq('mexh', 0.1)"
   ]
  },
  {
   "cell_type": "code",
   "execution_count": 64,
   "metadata": {},
   "outputs": [],
   "source": [
    "import seaborn as sns; sns.set()\n",
    "size = 50\n",
    "ticker = 'MSFT'\n",
    "yahoo_financials = YahooFinancials(ticker)\n",
    "\n",
    "data = yahoo_financials.get_historical_price_data(start_date='2019-12-01', \n",
    "                                                  end_date='2019-12-31', \n",
    "                                                  time_interval='daily')\n",
    "\n",
    "dataset = pd.DataFrame(data[ticker]['prices'])\n",
    "dataset = dataset.drop('date', axis=1).set_index('formatted_date')\n",
    "dataset.head()\n",
    "\n",
    "dataset = dataset[['volume','open', 'close']]\n",
    "dataset['delta'] = dataset['close']/dataset['open']\n",
    "\n",
    "\n",
    "scales = np.linspace(1,2000,size,)\n",
    "waveletname = 'morl'\n",
    "coeff_delta, freq_delta = pywt.cwt(dataset['delta'].values, scales, waveletname, 1/52)\n",
    "# coeff_volume, freq_volume = pywt.cwt(dataset['delta'].values, scales, waveletname, 1/52)\n",
    "# coeff, freq = pywt.cwt(dataset['delta'].values, scales, waveletname, 1/52)\n",
    "\n",
    "\n",
    "# ax = sns.heatmap(coeff)"
   ]
  },
  {
   "cell_type": "code",
   "execution_count": 65,
   "metadata": {},
   "outputs": [
    {
     "data": {
      "text/plain": [
       "array([1.00000000e+00, 4.17959184e+01, 8.25918367e+01, 1.23387755e+02,\n",
       "       1.64183673e+02, 2.04979592e+02, 2.45775510e+02, 2.86571429e+02,\n",
       "       3.27367347e+02, 3.68163265e+02, 4.08959184e+02, 4.49755102e+02,\n",
       "       4.90551020e+02, 5.31346939e+02, 5.72142857e+02, 6.12938776e+02,\n",
       "       6.53734694e+02, 6.94530612e+02, 7.35326531e+02, 7.76122449e+02,\n",
       "       8.16918367e+02, 8.57714286e+02, 8.98510204e+02, 9.39306122e+02,\n",
       "       9.80102041e+02, 1.02089796e+03, 1.06169388e+03, 1.10248980e+03,\n",
       "       1.14328571e+03, 1.18408163e+03, 1.22487755e+03, 1.26567347e+03,\n",
       "       1.30646939e+03, 1.34726531e+03, 1.38806122e+03, 1.42885714e+03,\n",
       "       1.46965306e+03, 1.51044898e+03, 1.55124490e+03, 1.59204082e+03,\n",
       "       1.63283673e+03, 1.67363265e+03, 1.71442857e+03, 1.75522449e+03,\n",
       "       1.79602041e+03, 1.83681633e+03, 1.87761224e+03, 1.91840816e+03,\n",
       "       1.95920408e+03, 2.00000000e+03])"
      ]
     },
     "execution_count": 65,
     "metadata": {},
     "output_type": "execute_result"
    }
   ],
   "source": [
    "scales"
   ]
  },
  {
   "cell_type": "code",
   "execution_count": 66,
   "metadata": {},
   "outputs": [
    {
     "data": {
      "text/plain": [
       "(50, 20)"
      ]
     },
     "execution_count": 66,
     "metadata": {},
     "output_type": "execute_result"
    }
   ],
   "source": [
    "coeff_delta.shape"
   ]
  },
  {
   "cell_type": "code",
   "execution_count": 67,
   "metadata": {},
   "outputs": [
    {
     "data": {
      "text/plain": [
       "[<matplotlib.lines.Line2D at 0x137bbf510>]"
      ]
     },
     "execution_count": 67,
     "metadata": {},
     "output_type": "execute_result"
    },
    {
     "data": {
      "image/png": "[encoded data removed]",
      "text/plain": [
       "<Figure size 432x288 with 1 Axes>"
      ]
     },
     "metadata": {},
     "output_type": "display_data"
    }
   ],
   "source": [
    "plt.plot(freq_delta)"
   ]
  },
  {
   "cell_type": "code",
   "execution_count": 71,
   "metadata": {},
   "outputs": [
    {
     "name": "stderr",
     "output_type": "stream",
     "text": [
      "/Users/craigledgerwood/MachineLearning/venv/lib/python3.7/site-packages/ipykernel_launcher.py:12: RuntimeWarning: divide by zero encountered in log2\n",
      "  if sys.path[0] == '':\n"
     ]
    },
    {
     "data": {
      "image/png": "[encoded data removed]",
      "text/plain": [
       "<Figure size 1080x720 with 1 Axes>"
      ]
     },
     "metadata": {},
     "output_type": "display_data"
    }
   ],
   "source": [
    "N = dataset['delta'].shape[0]\n",
    "t0=0\n",
    "dt=1\n",
    "time = np.arange(0, N) * dt + t0\n",
    "\n",
    "power = (abs(coeff_delta))**2\n",
    "period = 1. / freq_delta\n",
    "levels = [0.0625, 0.125, 0.25, 0.5, 1, 2, 4, 8]\n",
    "contourlevels = np.log2(levels)\n",
    "\n",
    "fig, ax = plt.subplots(figsize=(15, 10))\n",
    "im = ax.contourf(time, np.log2(scales), np.log2(power), contourlevels, extend='both',cmap=plt.cm.rainbow)"
   ]
  },
  {
   "cell_type": "markdown",
   "metadata": {
    "_uuid": "3e4a9bc499601a538212b47a3d0f3a4bd71254ae"
   },
   "source": [
    "##### time_step = 50\n",
    "dataset = series_to_supervised(dataset[['delta', 'volume_norm']].values, n_in=time_step, n_out=1, dropnan=True)"
   ]
  },
  {
   "cell_type": "code",
   "execution_count": 8,
   "metadata": {
    "_uuid": "753356e7b7e50e0ad31fd738cff3d2702364eb23"
   },
   "outputs": [],
   "source": [
    "train_size = int(len(dataset) * 0.67)\n",
    "test_size = len(dataset) - train_size\n",
    "train, test = dataset.iloc[0:train_size,:].values, dataset.iloc[train_size:,:].values"
   ]
  },
  {
   "cell_type": "code",
   "execution_count": 9,
   "metadata": {
    "_uuid": "9ba598eb88c75c4443c7673f612870cfb6a8cd9e"
   },
   "outputs": [
    {
     "name": "stdout",
     "output_type": "stream",
     "text": [
      "(46, 100) (46, 1)\n"
     ]
    }
   ],
   "source": [
    "# split into input and outputs\n",
    "train_X, train_y = train[:, :-2], train[:, -2:-1]\n",
    "test_X, test_y = test[:, :-2], test[:, -2:-1]\n",
    "print(train_X.shape,train_y.shape)"
   ]
  },
  {
   "cell_type": "code",
   "execution_count": 12,
   "metadata": {
    "_uuid": "b9639933b2952ab3881d7275f7e41068c9056205"
   },
   "outputs": [
    {
     "data": {
      "text/plain": [
       "array([[[ 0.06203808,  0.29979878],\n",
       "        [ 0.04104452,  0.18558269],\n",
       "        [-0.0204845 ,  0.24405678],\n",
       "        ...,\n",
       "        [ 0.02137066,  0.3360037 ],\n",
       "        [ 0.0216219 ,  0.28664896],\n",
       "        [-0.12561867,  0.37538608]],\n",
       "\n",
       "       [[ 0.04104452,  0.18558269],\n",
       "        [-0.0204845 ,  0.24405678],\n",
       "        [ 0.00262504,  0.17664999],\n",
       "        ...,\n",
       "        [ 0.0216219 ,  0.28664896],\n",
       "        [-0.12561867,  0.37538608],\n",
       "        [ 0.04409421,  0.29348404]],\n",
       "\n",
       "       [[-0.0204845 ,  0.24405678],\n",
       "        [ 0.00262504,  0.17664999],\n",
       "        [-0.09695996,  0.3719545 ],\n",
       "        ...,\n",
       "        [-0.12561867,  0.37538608],\n",
       "        [ 0.04409421,  0.29348404],\n",
       "        [-0.04846195,  0.29444606]],\n",
       "\n",
       "       ...,\n",
       "\n",
       "       [[ 0.0118357 ,  0.315111  ],\n",
       "        [ 0.01084131,  0.2573053 ],\n",
       "        [-0.08038162,  0.22170275],\n",
       "        ...,\n",
       "        [-0.04419119,  0.3810812 ],\n",
       "        [ 0.07112305,  0.35881128],\n",
       "        [ 0.03654852,  0.31162802]],\n",
       "\n",
       "       [[ 0.01084131,  0.2573053 ],\n",
       "        [-0.08038162,  0.22170275],\n",
       "        [ 0.07565303,  0.22982814],\n",
       "        ...,\n",
       "        [ 0.07112305,  0.35881128],\n",
       "        [ 0.03654852,  0.31162802],\n",
       "        [ 0.27701883,  0.60705436]],\n",
       "\n",
       "       [[-0.08038162,  0.22170275],\n",
       "        [ 0.07565303,  0.22982814],\n",
       "        [ 0.02137066,  0.3360037 ],\n",
       "        ...,\n",
       "        [ 0.03654852,  0.31162802],\n",
       "        [ 0.27701883,  0.60705436],\n",
       "        [-0.04516505,  0.47677196]]])"
      ]
     },
     "execution_count": 12,
     "metadata": {},
     "output_type": "execute_result"
    }
   ],
   "source": [
    "train_X"
   ]
  },
  {
   "cell_type": "code",
   "execution_count": 10,
   "metadata": {
    "_uuid": "a9c34f33c42522921319bd046dd9e49306bf4a11"
   },
   "outputs": [
    {
     "name": "stdout",
     "output_type": "stream",
     "text": [
      "(46, 50, 2) (46, 1) (24, 50, 2) (24, 1)\n"
     ]
    }
   ],
   "source": [
    "\n",
    "# reshape input to be 3D [samples, timesteps, features]\n",
    "train_X = train_X.reshape((train_X.shape[0], time_step, 2))\n",
    "test_X = test_X.reshape((test_X.shape[0], time_step, 2))\n",
    "print(train_X.shape, train_y.shape, test_X.shape, test_y.shape)"
   ]
  },
  {
   "cell_type": "code",
   "execution_count": 14,
   "metadata": {
    "_uuid": "531fad63ebb35932ae8907f04524fd6c124819cf"
   },
   "outputs": [
    {
     "ename": "ValueError",
     "evalue": "Input 0 is incompatible with layer lstm_3: expected ndim=3, found ndim=2",
     "output_type": "error",
     "traceback": [
      "\u001b[0;31m---------------------------------------------------------------------------\u001b[0m",
      "\u001b[0;31mValueError\u001b[0m                                Traceback (most recent call last)",
      "\u001b[0;32m<ipython-input-14-112f763e885f>\u001b[0m in \u001b[0;36m<module>\u001b[0;34m\u001b[0m\n\u001b[1;32m      3\u001b[0m \u001b[0mmodel\u001b[0m \u001b[0;34m=\u001b[0m \u001b[0mSequential\u001b[0m\u001b[0;34m(\u001b[0m\u001b[0;34m)\u001b[0m\u001b[0;34m\u001b[0m\u001b[0m\n\u001b[1;32m      4\u001b[0m \u001b[0mmodel\u001b[0m\u001b[0;34m.\u001b[0m\u001b[0madd\u001b[0m\u001b[0;34m(\u001b[0m\u001b[0mLSTM\u001b[0m\u001b[0;34m(\u001b[0m\u001b[0;36m100\u001b[0m\u001b[0;34m,\u001b[0m \u001b[0minput_shape\u001b[0m\u001b[0;34m=\u001b[0m\u001b[0;34m(\u001b[0m\u001b[0mtrain_X\u001b[0m\u001b[0;34m.\u001b[0m\u001b[0mshape\u001b[0m\u001b[0;34m[\u001b[0m\u001b[0;36m1\u001b[0m\u001b[0;34m]\u001b[0m\u001b[0;34m,\u001b[0m \u001b[0mtrain_X\u001b[0m\u001b[0;34m.\u001b[0m\u001b[0mshape\u001b[0m\u001b[0;34m[\u001b[0m\u001b[0;36m2\u001b[0m\u001b[0;34m]\u001b[0m\u001b[0;34m)\u001b[0m\u001b[0;34m)\u001b[0m\u001b[0;34m)\u001b[0m\u001b[0;34m\u001b[0m\u001b[0m\n\u001b[0;32m----> 5\u001b[0;31m \u001b[0mmodel\u001b[0m\u001b[0;34m.\u001b[0m\u001b[0madd\u001b[0m\u001b[0;34m(\u001b[0m\u001b[0mLSTM\u001b[0m\u001b[0;34m(\u001b[0m\u001b[0;36m100\u001b[0m\u001b[0;34m)\u001b[0m\u001b[0;34m)\u001b[0m\u001b[0;34m\u001b[0m\u001b[0m\n\u001b[0m\u001b[1;32m      6\u001b[0m \u001b[0mmodel\u001b[0m\u001b[0;34m.\u001b[0m\u001b[0madd\u001b[0m\u001b[0;34m(\u001b[0m\u001b[0mDense\u001b[0m\u001b[0;34m(\u001b[0m\u001b[0;36m50\u001b[0m\u001b[0;34m)\u001b[0m\u001b[0;34m)\u001b[0m\u001b[0;34m\u001b[0m\u001b[0m\n\u001b[1;32m      7\u001b[0m \u001b[0mmodel\u001b[0m\u001b[0;34m.\u001b[0m\u001b[0madd\u001b[0m\u001b[0;34m(\u001b[0m\u001b[0mDense\u001b[0m\u001b[0;34m(\u001b[0m\u001b[0;36m1\u001b[0m\u001b[0;34m)\u001b[0m\u001b[0;34m)\u001b[0m\u001b[0;34m\u001b[0m\u001b[0m\n",
      "\u001b[0;32m~/ml_venv/lib/python3.6/site-packages/keras/engine/sequential.py\u001b[0m in \u001b[0;36madd\u001b[0;34m(self, layer)\u001b[0m\n\u001b[1;32m    180\u001b[0m                 \u001b[0mself\u001b[0m\u001b[0;34m.\u001b[0m\u001b[0minputs\u001b[0m \u001b[0;34m=\u001b[0m \u001b[0mnetwork\u001b[0m\u001b[0;34m.\u001b[0m\u001b[0mget_source_inputs\u001b[0m\u001b[0;34m(\u001b[0m\u001b[0mself\u001b[0m\u001b[0;34m.\u001b[0m\u001b[0moutputs\u001b[0m\u001b[0;34m[\u001b[0m\u001b[0;36m0\u001b[0m\u001b[0;34m]\u001b[0m\u001b[0;34m)\u001b[0m\u001b[0;34m\u001b[0m\u001b[0m\n\u001b[1;32m    181\u001b[0m         \u001b[0;32melif\u001b[0m \u001b[0mself\u001b[0m\u001b[0;34m.\u001b[0m\u001b[0moutputs\u001b[0m\u001b[0;34m:\u001b[0m\u001b[0;34m\u001b[0m\u001b[0m\n\u001b[0;32m--> 182\u001b[0;31m             \u001b[0moutput_tensor\u001b[0m \u001b[0;34m=\u001b[0m \u001b[0mlayer\u001b[0m\u001b[0;34m(\u001b[0m\u001b[0mself\u001b[0m\u001b[0;34m.\u001b[0m\u001b[0moutputs\u001b[0m\u001b[0;34m[\u001b[0m\u001b[0;36m0\u001b[0m\u001b[0;34m]\u001b[0m\u001b[0;34m)\u001b[0m\u001b[0;34m\u001b[0m\u001b[0m\n\u001b[0m\u001b[1;32m    183\u001b[0m             \u001b[0;32mif\u001b[0m \u001b[0misinstance\u001b[0m\u001b[0;34m(\u001b[0m\u001b[0moutput_tensor\u001b[0m\u001b[0;34m,\u001b[0m \u001b[0mlist\u001b[0m\u001b[0;34m)\u001b[0m\u001b[0;34m:\u001b[0m\u001b[0;34m\u001b[0m\u001b[0m\n\u001b[1;32m    184\u001b[0m                 raise TypeError('All layers in a Sequential model '\n",
      "\u001b[0;32m~/ml_venv/lib/python3.6/site-packages/keras/layers/recurrent.py\u001b[0m in \u001b[0;36m__call__\u001b[0;34m(self, inputs, initial_state, constants, **kwargs)\u001b[0m\n\u001b[1;32m    539\u001b[0m \u001b[0;34m\u001b[0m\u001b[0m\n\u001b[1;32m    540\u001b[0m         \u001b[0;32mif\u001b[0m \u001b[0minitial_state\u001b[0m \u001b[0;32mis\u001b[0m \u001b[0;32mNone\u001b[0m \u001b[0;32mand\u001b[0m \u001b[0mconstants\u001b[0m \u001b[0;32mis\u001b[0m \u001b[0;32mNone\u001b[0m\u001b[0;34m:\u001b[0m\u001b[0;34m\u001b[0m\u001b[0m\n\u001b[0;32m--> 541\u001b[0;31m             \u001b[0;32mreturn\u001b[0m \u001b[0msuper\u001b[0m\u001b[0;34m(\u001b[0m\u001b[0mRNN\u001b[0m\u001b[0;34m,\u001b[0m \u001b[0mself\u001b[0m\u001b[0;34m)\u001b[0m\u001b[0;34m.\u001b[0m\u001b[0m__call__\u001b[0m\u001b[0;34m(\u001b[0m\u001b[0minputs\u001b[0m\u001b[0;34m,\u001b[0m \u001b[0;34m**\u001b[0m\u001b[0mkwargs\u001b[0m\u001b[0;34m)\u001b[0m\u001b[0;34m\u001b[0m\u001b[0m\n\u001b[0m\u001b[1;32m    542\u001b[0m \u001b[0;34m\u001b[0m\u001b[0m\n\u001b[1;32m    543\u001b[0m         \u001b[0;31m# If any of `initial_state` or `constants` are specified and are Keras\u001b[0m\u001b[0;34m\u001b[0m\u001b[0;34m\u001b[0m\u001b[0m\n",
      "\u001b[0;32m~/ml_venv/lib/python3.6/site-packages/keras/backend/tensorflow_backend.py\u001b[0m in \u001b[0;36msymbolic_fn_wrapper\u001b[0;34m(*args, **kwargs)\u001b[0m\n\u001b[1;32m     73\u001b[0m         \u001b[0;32mif\u001b[0m \u001b[0m_SYMBOLIC_SCOPE\u001b[0m\u001b[0;34m.\u001b[0m\u001b[0mvalue\u001b[0m\u001b[0;34m:\u001b[0m\u001b[0;34m\u001b[0m\u001b[0m\n\u001b[1;32m     74\u001b[0m             \u001b[0;32mwith\u001b[0m \u001b[0mget_graph\u001b[0m\u001b[0;34m(\u001b[0m\u001b[0;34m)\u001b[0m\u001b[0;34m.\u001b[0m\u001b[0mas_default\u001b[0m\u001b[0;34m(\u001b[0m\u001b[0;34m)\u001b[0m\u001b[0;34m:\u001b[0m\u001b[0;34m\u001b[0m\u001b[0m\n\u001b[0;32m---> 75\u001b[0;31m                 \u001b[0;32mreturn\u001b[0m \u001b[0mfunc\u001b[0m\u001b[0;34m(\u001b[0m\u001b[0;34m*\u001b[0m\u001b[0margs\u001b[0m\u001b[0;34m,\u001b[0m \u001b[0;34m**\u001b[0m\u001b[0mkwargs\u001b[0m\u001b[0;34m)\u001b[0m\u001b[0;34m\u001b[0m\u001b[0m\n\u001b[0m\u001b[1;32m     76\u001b[0m         \u001b[0;32melse\u001b[0m\u001b[0;34m:\u001b[0m\u001b[0;34m\u001b[0m\u001b[0m\n\u001b[1;32m     77\u001b[0m             \u001b[0;32mreturn\u001b[0m \u001b[0mfunc\u001b[0m\u001b[0;34m(\u001b[0m\u001b[0;34m*\u001b[0m\u001b[0margs\u001b[0m\u001b[0;34m,\u001b[0m \u001b[0;34m**\u001b[0m\u001b[0mkwargs\u001b[0m\u001b[0;34m)\u001b[0m\u001b[0;34m\u001b[0m\u001b[0m\n",
      "\u001b[0;32m~/ml_venv/lib/python3.6/site-packages/keras/engine/base_layer.py\u001b[0m in \u001b[0;36m__call__\u001b[0;34m(self, inputs, **kwargs)\u001b[0m\n\u001b[1;32m    444\u001b[0m                 \u001b[0;31m# Raise exceptions in case the input is not compatible\u001b[0m\u001b[0;34m\u001b[0m\u001b[0;34m\u001b[0m\u001b[0m\n\u001b[1;32m    445\u001b[0m                 \u001b[0;31m# with the input_spec specified in the layer constructor.\u001b[0m\u001b[0;34m\u001b[0m\u001b[0;34m\u001b[0m\u001b[0m\n\u001b[0;32m--> 446\u001b[0;31m                 \u001b[0mself\u001b[0m\u001b[0;34m.\u001b[0m\u001b[0massert_input_compatibility\u001b[0m\u001b[0;34m(\u001b[0m\u001b[0minputs\u001b[0m\u001b[0;34m)\u001b[0m\u001b[0;34m\u001b[0m\u001b[0m\n\u001b[0m\u001b[1;32m    447\u001b[0m \u001b[0;34m\u001b[0m\u001b[0m\n\u001b[1;32m    448\u001b[0m                 \u001b[0;31m# Collect input shapes to build layer.\u001b[0m\u001b[0;34m\u001b[0m\u001b[0;34m\u001b[0m\u001b[0m\n",
      "\u001b[0;32m~/ml_venv/lib/python3.6/site-packages/keras/engine/base_layer.py\u001b[0m in \u001b[0;36massert_input_compatibility\u001b[0;34m(self, inputs)\u001b[0m\n\u001b[1;32m    340\u001b[0m                                      \u001b[0mself\u001b[0m\u001b[0;34m.\u001b[0m\u001b[0mname\u001b[0m \u001b[0;34m+\u001b[0m \u001b[0;34m': expected ndim='\u001b[0m \u001b[0;34m+\u001b[0m\u001b[0;34m\u001b[0m\u001b[0m\n\u001b[1;32m    341\u001b[0m                                      \u001b[0mstr\u001b[0m\u001b[0;34m(\u001b[0m\u001b[0mspec\u001b[0m\u001b[0;34m.\u001b[0m\u001b[0mndim\u001b[0m\u001b[0;34m)\u001b[0m \u001b[0;34m+\u001b[0m \u001b[0;34m', found ndim='\u001b[0m \u001b[0;34m+\u001b[0m\u001b[0;34m\u001b[0m\u001b[0m\n\u001b[0;32m--> 342\u001b[0;31m                                      str(K.ndim(x)))\n\u001b[0m\u001b[1;32m    343\u001b[0m             \u001b[0;32mif\u001b[0m \u001b[0mspec\u001b[0m\u001b[0;34m.\u001b[0m\u001b[0mmax_ndim\u001b[0m \u001b[0;32mis\u001b[0m \u001b[0;32mnot\u001b[0m \u001b[0;32mNone\u001b[0m\u001b[0;34m:\u001b[0m\u001b[0;34m\u001b[0m\u001b[0m\n\u001b[1;32m    344\u001b[0m                 \u001b[0mndim\u001b[0m \u001b[0;34m=\u001b[0m \u001b[0mK\u001b[0m\u001b[0;34m.\u001b[0m\u001b[0mndim\u001b[0m\u001b[0;34m(\u001b[0m\u001b[0mx\u001b[0m\u001b[0;34m)\u001b[0m\u001b[0;34m\u001b[0m\u001b[0m\n",
      "\u001b[0;31mValueError\u001b[0m: Input 0 is incompatible with layer lstm_3: expected ndim=3, found ndim=2"
     ]
    }
   ],
   "source": [
    "from matplotlib import pyplot\n",
    "# design network\n",
    "model = Sequential()\n",
    "model.add(LSTM(100, input_shape=(train_X.shape[1], train_X.shape[2])))\n",
    "model.add(LSTM(100))\n",
    "model.add(Dense(50))\n",
    "model.add(Dense(1))\n",
    "model.compile(loss='mae', optimizer='adam')\n",
    "# fit network\n",
    "history = model.fit(train_X, train_y, epochs=50, batch_size=72, validation_data=(test_X, test_y), verbose=2, shuffle=False)\n",
    "# plot history\n",
    "pyplot.plot(history.history['loss'], label='train')\n",
    "pyplot.plot(history.history['val_loss'], label='test')\n",
    "pyplot.legend()\n",
    "pyplot.show()\n",
    " \n",
    "# make a prediction\n",
    "yhat = model.predict(test_X)\n",
    "# test_X = test_X.reshape((test_X.shape[0], test_X.shape[2]))\n",
    "# # invert scaling for forecast\n",
    "# inv_yhat = concatenate((yhat, test_X[:, 1:]), axis=1)\n",
    "# # inv_yhat = scaler.inverse_transform(inv_yhat)\n",
    "# inv_yhat = inv_yhat[:,0]\n",
    "# # invert scaling for actual\n",
    "# test_y = test_y.reshape((len(test_y), 1))\n",
    "# inv_y = concatenate((test_y, test_X[:, 1:]), axis=1)\n",
    "# # inv_y = scaler.inverse_transform(inv_y)\n",
    "# inv_y = inv_y[:,0]\n",
    "# calculate RMSE\n",
    "rmse = np.sqrt(mean_squared_error(yhat, test_y))\n",
    "print('Test RMSE: %.3f' % rmse)"
   ]
  },
  {
   "cell_type": "code",
   "execution_count": null,
   "metadata": {
    "_uuid": "62a2fdc0dab121796ff3403f44dfb319674409ec"
   },
   "outputs": [],
   "source": [
    "rmse = np.sqrt(mean_squared_error(yhat, test_y))\n",
    "print('Test RMSE: %.3f' % rmse)"
   ]
  },
  {
   "cell_type": "code",
   "execution_count": null,
   "metadata": {
    "_uuid": "ea56d25d732c067e3b201bf7dfd464d6b63f87ac"
   },
   "outputs": [],
   "source": [
    "pyplot.scatter(np.sign(yhat), np.sign(test_y))"
   ]
  },
  {
   "cell_type": "code",
   "execution_count": null,
   "metadata": {
    "_uuid": "3ea84691428daa6492eb1632160c7b107d9d4c82"
   },
   "outputs": [],
   "source": [
    "print(__doc__)\n",
    "\n",
    "import itertools\n",
    "import numpy as np\n",
    "import matplotlib.pyplot as plt\n",
    "\n",
    "from sklearn import svm, datasets\n",
    "from sklearn.model_selection import train_test_split\n",
    "from sklearn.metrics import confusion_matrix\n",
    "\n",
    "\n",
    "def plot_confusion_matrix(cm, classes,\n",
    "                          normalize=False,\n",
    "                          title='Confusion matrix',\n",
    "                          cmap=plt.cm.Blues):\n",
    "    \"\"\"\n",
    "    This function prints and plots the confusion matrix.\n",
    "    Normalization can be applied by setting `normalize=True`.\n",
    "    \"\"\"\n",
    "    if normalize:\n",
    "        cm = cm.astype('float') / cm.sum(axis=1)[:, np.newaxis]\n",
    "        print(\"Normalized confusion matrix\")\n",
    "    else:\n",
    "        print('Confusion matrix, without normalization')\n",
    "\n",
    "    print(cm)\n",
    "\n",
    "    plt.imshow(cm, interpolation='nearest', cmap=cmap)\n",
    "    plt.title(title)\n",
    "    plt.colorbar()\n",
    "    tick_marks = np.arange(len(classes))\n",
    "    plt.xticks(tick_marks, classes, rotation=45)\n",
    "    plt.yticks(tick_marks, classes)\n",
    "\n",
    "    fmt = '.2f' if normalize else 'd'\n",
    "    thresh = cm.max() / 2.\n",
    "    for i, j in itertools.product(range(cm.shape[0]), range(cm.shape[1])):\n",
    "        plt.text(j, i, format(cm[i, j], fmt),\n",
    "                 horizontalalignment=\"center\",\n",
    "                 color=\"white\" if cm[i, j] > thresh else \"black\")\n",
    "\n",
    "    plt.ylabel('True label')\n",
    "    plt.xlabel('Predicted label')\n",
    "    plt.tight_layout()\n",
    "\n",
    "\n",
    "# Compute confusion matrix\n",
    "cnf_matrix = confusion_matrix(np.sign(yhat), np.sign(test_y))\n",
    "np.set_printoptions(precision=2)\n",
    "\n",
    "# Plot non-normalized confusion matrix\n",
    "plt.figure()\n",
    "plot_confusion_matrix(cnf_matrix, classes=['Down','Up'],\n",
    "                      title='Confusion matrix, without normalization')\n",
    "\n",
    "# Plot normalized confusion matrix\n",
    "plt.figure()\n",
    "plot_confusion_matrix(cnf_matrix, classes=['Down','Up'], normalize=True,\n",
    "                      title='Normalized confusion matrix')\n",
    "\n",
    "plt.show()"
   ]
  },
  {
   "cell_type": "code",
   "execution_count": null,
   "metadata": {
    "_uuid": "7ad11b5f12e94883af36c5e5899469200cb123e4"
   },
   "outputs": [],
   "source": [
    "# def generator(marketdata,newsdata, assets, featuresMarket, featuresNews,  n_out):\n",
    "#     i = 0\n",
    "#     while True:\n",
    "#         a = assets[i]\n",
    "#         d = marketdata.loc[marketdata['assetName']== a, featuresMarket]\n",
    "#         n = newsdata.loc[newsdata['assetName']== a, featuresNews].values\n",
    "#         if len(d.index) < 37 or n.shape[0] ==0:\n",
    "#             continue\n",
    "            \n",
    "#         d['RSI'] = LagguerreRSI(d['close'],0.8)\n",
    "#         d = d.values\n",
    "#         news, market, output = n, d[:-n_out, :], d[-n_out:, 3]\n",
    "#         i =+ 1\n",
    "#         yield [news.reshape(1,news.shape[0],news.shape[1]), market.reshape(1,market.shape[0],market.shape[1])], output"
   ]
  },
  {
   "cell_type": "code",
   "execution_count": null,
   "metadata": {
    "_uuid": "00df653399799c89d41a0622a5e89366abe39225"
   },
   "outputs": [],
   "source": [
    "def forecast(model, data, n_forecast):\n",
    "    x = np.array([data])\n",
    "    for _ in range(n_forecast):\n",
    "        x1 = model.predict(x)\n",
    "        x2 = np.append(x,np.array([x1]), axis=1)\n",
    "        x = x2[:,1:,:]\n",
    "    \n",
    "    return x[:,-n_forecast:,:]"
   ]
  },
  {
   "cell_type": "code",
   "execution_count": 15,
   "metadata": {
    "_uuid": "132e074be5badb2d933e5ce37ff90b32ed46d779"
   },
   "outputs": [],
   "source": [
    "# univariate multi-step encoder-decoder convlstm\n",
    "from math import sqrt\n",
    "from numpy import split\n",
    "from numpy import array\n",
    "from pandas import read_csv\n",
    "from sklearn.metrics import mean_squared_error\n",
    "from matplotlib import pyplot\n",
    "from keras.models import Sequential\n",
    "from keras.layers import Dense\n",
    "from keras.layers import Flatten\n",
    "from keras.layers import LSTM\n",
    "from keras.layers import RepeatVector\n",
    "from keras.layers import TimeDistributed\n",
    "from keras.layers import ConvLSTM2D\n",
    " \n",
    "# split a univariate dataset into train/test sets\n",
    "def split_dataset(data):\n",
    "    train_size = int(len(data) * 0.67)\n",
    "    test_size = len(data) - train_size\n",
    "    train, test = data[0:train_size,:], data[train_size:,:]\n",
    "\t# restructure into windows of weekly data\n",
    "# \ttrain = array(split(train, len(train)/7))\n",
    "# \ttest = array(split(test, len(test)/7))\n",
    "    return train, test\n",
    " \n",
    "# evaluate one or more weekly forecasts against expected values\n",
    "def evaluate_forecasts(actual, predicted):\n",
    "\tscores = list()\n",
    "\t# calculate an RMSE score for each day\n",
    "\tfor i in range(actual.shape[1]):\n",
    "\t\t# calculate mse\n",
    "\t\tmse = mean_squared_error(actual[:, i], predicted[:, i])\n",
    "\t\t# calculate rmse\n",
    "\t\trmse = sqrt(mse)\n",
    "\t\t# store\n",
    "\t\tscores.append(rmse)\n",
    "\t# calculate overall RMSE\n",
    "\ts = 0\n",
    "\tfor row in range(actual.shape[0]):\n",
    "\t\tfor col in range(actual.shape[1]):\n",
    "\t\t\ts += (actual[row, col] - predicted[row, col])**2\n",
    "\tscore = sqrt(s / (actual.shape[0] * actual.shape[1]))\n",
    "\treturn score, scores\n",
    " \n",
    "# summarize scores\n",
    "def summarize_scores(name, score, scores):\n",
    "\ts_scores = ', '.join(['%.1f' % s for s in scores])\n",
    "\tprint('%s: [%.3f] %s' % (name, score, s_scores))\n",
    " \n",
    "# convert history into inputs and outputs\n",
    "def to_supervised(train, n_input, n_out):\n",
    "\t# flatten data\n",
    "\tdata = train.reshape((train.shape[0]*train.shape[1], train.shape[2]))\n",
    "\tX, y = list(), list()\n",
    "\tin_start = 0\n",
    "\t# step over the entire history one time step at a time\n",
    "\tfor _ in range(len(data)):\n",
    "\t\t# define the end of the input sequence\n",
    "\t\tin_end = in_start + n_input\n",
    "\t\tout_end = in_end + n_out\n",
    "\t\t# ensure we have enough data for this instance\n",
    "\t\tif out_end < len(data):\n",
    "\t\t\tx_input = data[in_start:in_end, 0]\n",
    "\t\t\tx_input = x_input.reshape((len(x_input), 1))\n",
    "\t\t\tX.append(x_input)\n",
    "\t\t\ty.append(data[in_end:out_end, 0])\n",
    "\t\t# move along one time step\n",
    "\t\tin_start += 1\n",
    "\treturn array(X), array(y)\n",
    " \n",
    "# train the model\n",
    "def build_model(train, n_steps, n_length, n_input, n_output):\n",
    "\t# prepare data\n",
    "\ttrain_x, train_y = to_supervised(train, n_input, n_output)\n",
    "\t# define parameters\n",
    "\tverbose, epochs, batch_size = 0, 20, 16\n",
    "\tn_timesteps, n_features, n_outputs = train_x.shape[1], train_x.shape[2], train_y.shape[1]\n",
    "\t# reshape into subsequences [samples, time steps, rows, cols, channels]\n",
    "\ttrain_x = train_x.reshape((train_x.shape[0], n_steps, 1, n_length, n_features))\n",
    "\t# reshape output into [samples, timesteps, features]\n",
    "\ttrain_y = train_y.reshape((train_y.shape[0], train_y.shape[1], 1))\n",
    "\t# define model\n",
    "\tmodel = Sequential()\n",
    "\tmodel.add(ConvLSTM2D(filters=64, kernel_size=(1,3), activation='relu', input_shape=(n_steps, 1, n_length, n_features)))\n",
    "\tmodel.add(Flatten())\n",
    "\tmodel.add(RepeatVector(n_outputs))\n",
    "\tmodel.add(LSTM(200, activation='relu', return_sequences=True))\n",
    "\tmodel.add(TimeDistributed(Dense(100, activation='relu')))\n",
    "\tmodel.add(TimeDistributed(Dense(1)))\n",
    "\tmodel.compile(loss='mse', optimizer='adam')\n",
    "\t# fit network\n",
    "\tmodel.fit(train_x, train_y, epochs=epochs, batch_size=batch_size, verbose=verbose)\n",
    "\treturn model\n",
    " \n",
    "# make a forecast\n",
    "def forecast(model, history, n_steps, n_length, n_input, n_output):\n",
    "\t# flatten data\n",
    "\tdata = array(history)\n",
    "\tdata = data.reshape((data.shape[0]*data.shape[1], data.shape[2]))\n",
    "\t# retrieve last observations for input data\n",
    "\tinput_x = data[-n_input:, 0]\n",
    "\t# reshape into [samples, time steps, rows, cols, channels]\n",
    "\tinput_x = input_x.reshape((1, n_steps, 1, n_length, 1))\n",
    "\t# forecast the next week\n",
    "\tyhat = model.predict(input_x, verbose=0)\n",
    "\t# we only want the vector forecast\n",
    "\tyhat = yhat[0]\n",
    "\treturn yhat\n",
    " \n",
    "# evaluate a single model\n",
    "def evaluate_model(train, test, n_steps, n_length, n_input,n_output):\n",
    "\t# fit model\n",
    "\tmodel = build_model(train, n_steps, n_length, n_input, n_output)\n",
    "\t# history is a list of weekly data\n",
    "\thistory = [x for x in train]\n",
    "\t# walk-forward validation over each week\n",
    "\tpredictions = list()\n",
    "\tfor i in range(len(test)):\n",
    "\t\t# predict the week\n",
    "\t\tyhat_sequence = forecast(model, history, n_steps, n_length, n_input, n_output)\n",
    "\t\t# store the predictions\n",
    "\t\tpredictions.append(yhat_sequence)\n",
    "\t\t# get real observation and add to history for predicting the next week\n",
    "\t\thistory.append(test[i, :])\n",
    "\t# evaluate predictions days for each week\n",
    "\tpredictions = array(predictions)\n",
    "\tscore, scores = evaluate_forecasts(test[:, :, 0], predictions)\n",
    "\treturn score, scores, predictions\n",
    " \n"
   ]
  },
  {
   "cell_type": "code",
   "execution_count": null,
   "metadata": {
    "_uuid": "0a419a63d57c3b29190d074102e1349b17590cea"
   },
   "outputs": [],
   "source": []
  }
 ],
 "metadata": {
  "kernelspec": {
   "display_name": "Python 3",
   "language": "python",
   "name": "python3"
  },
  "language_info": {
   "codemirror_mode": {
    "name": "ipython",
    "version": 3
   },
   "file_extension": ".py",
   "mimetype": "text/x-python",
   "name": "python",
   "nbconvert_exporter": "python",
   "pygments_lexer": "ipython3",
   "version": "3.7.7"
  }
 },
 "nbformat": 4,
 "nbformat_minor": 1
}
